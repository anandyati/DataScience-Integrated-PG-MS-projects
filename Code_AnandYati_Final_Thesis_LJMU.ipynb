{
  "nbformat": 4,
  "nbformat_minor": 5,
  "metadata": {
    "kernelspec": {
      "display_name": "ML and DL (PyTorch Only) with CUDA 11.1",
      "language": "python",
      "name": "cuda111"
    },
    "language_info": {
      "codemirror_mode": {
        "name": "ipython",
        "version": 3
      },
      "file_extension": ".py",
      "mimetype": "text/x-python",
      "name": "python",
      "nbconvert_exporter": "python",
      "pygments_lexer": "ipython3",
      "version": "3.8.8"
    },
    "colab": {
      "name": "Code_AnandYati_Final_Thesis_LJMU.ipynb",
      "provenance": [],
      "collapsed_sections": [
        "0b32c404",
        "1ca06d71",
        "4d05af7d",
        "53ae3514",
        "535bf263",
        "398a65ab",
        "3078c5d8",
        "178951b4",
        "95de4deb",
        "3536c4cd",
        "8f77c84b",
        "547d5d2c",
        "8b058c76",
        "2014ef02",
        "5ebae320",
        "f269609f",
        "6c118342",
        "c19179b4",
        "5171a5e1",
        "c717b310"
      ]
    }
  },
  "cells": [
    {
      "cell_type": "markdown",
      "metadata": {
        "id": "aeaea365"
      },
      "source": [
        "## Installing technical analysis library"
      ],
      "id": "aeaea365"
    },
    {
      "cell_type": "code",
      "metadata": {
        "id": "702ac7a5",
        "outputId": "2ad25ca2-d4af-4aa0-9c00-4864f36d7a78"
      },
      "source": [
        "pip install ta"
      ],
      "id": "702ac7a5",
      "execution_count": null,
      "outputs": [
        {
          "name": "stdout",
          "output_type": "stream",
          "text": [
            "Requirement already satisfied: ta in /mnt/disks/user/anaconda3/envs/cuda111/lib/python3.8/site-packages (0.7.0)\n",
            "Requirement already satisfied: pandas in /mnt/disks/user/anaconda3/envs/cuda111/lib/python3.8/site-packages (from ta) (1.2.4)\n",
            "Requirement already satisfied: numpy in /mnt/disks/user/anaconda3/envs/cuda111/lib/python3.8/site-packages (from ta) (1.19.5)\n",
            "Requirement already satisfied: python-dateutil>=2.7.3 in /mnt/disks/user/anaconda3/envs/cuda111/lib/python3.8/site-packages (from pandas->ta) (2.8.1)\n",
            "Requirement already satisfied: pytz>=2017.3 in /mnt/disks/user/anaconda3/envs/cuda111/lib/python3.8/site-packages (from pandas->ta) (2021.1)\n",
            "Requirement already satisfied: six>=1.5 in /mnt/disks/user/anaconda3/envs/cuda111/lib/python3.8/site-packages (from python-dateutil>=2.7.3->pandas->ta) (1.15.0)\n",
            "Note: you may need to restart the kernel to use updated packages.\n"
          ]
        }
      ]
    },
    {
      "cell_type": "code",
      "metadata": {
        "id": "821329f3",
        "outputId": "4f6463e6-3ec3-42a0-a7e7-24632ecfad84"
      },
      "source": [
        "pip install -U imbalanced-learn"
      ],
      "id": "821329f3",
      "execution_count": null,
      "outputs": [
        {
          "name": "stdout",
          "output_type": "stream",
          "text": [
            "Requirement already satisfied: imbalanced-learn in /mnt/disks/user/anaconda3/envs/cuda111/lib/python3.8/site-packages (0.8.1)\n",
            "Requirement already satisfied: joblib>=0.11 in /mnt/disks/user/anaconda3/envs/cuda111/lib/python3.8/site-packages (from imbalanced-learn) (1.0.1)\n",
            "Requirement already satisfied: scipy>=0.19.1 in /mnt/disks/user/anaconda3/envs/cuda111/lib/python3.8/site-packages (from imbalanced-learn) (1.6.3)\n",
            "Requirement already satisfied: numpy>=1.13.3 in /mnt/disks/user/anaconda3/envs/cuda111/lib/python3.8/site-packages (from imbalanced-learn) (1.19.5)\n",
            "Requirement already satisfied: scikit-learn>=0.24 in /mnt/disks/user/anaconda3/envs/cuda111/lib/python3.8/site-packages (from imbalanced-learn) (0.24.2)\n",
            "Requirement already satisfied: threadpoolctl>=2.0.0 in /mnt/disks/user/anaconda3/envs/cuda111/lib/python3.8/site-packages (from scikit-learn>=0.24->imbalanced-learn) (2.1.0)\n",
            "Note: you may need to restart the kernel to use updated packages.\n"
          ]
        }
      ]
    },
    {
      "cell_type": "code",
      "metadata": {
        "id": "8f60f45b",
        "outputId": "db408f32-65b3-445d-87b1-5b52d6e6756e"
      },
      "source": [
        "pip install pytrends"
      ],
      "id": "8f60f45b",
      "execution_count": null,
      "outputs": [
        {
          "name": "stdout",
          "output_type": "stream",
          "text": [
            "Requirement already satisfied: pytrends in /mnt/disks/user/anaconda3/envs/cuda111/lib/python3.8/site-packages (4.7.3)\n",
            "Requirement already satisfied: lxml in /mnt/disks/user/anaconda3/envs/cuda111/lib/python3.8/site-packages (from pytrends) (4.6.3)\n",
            "Requirement already satisfied: requests in /mnt/disks/user/anaconda3/envs/cuda111/lib/python3.8/site-packages (from pytrends) (2.25.1)\n",
            "Requirement already satisfied: pandas>=0.25 in /mnt/disks/user/anaconda3/envs/cuda111/lib/python3.8/site-packages (from pytrends) (1.2.4)\n",
            "Requirement already satisfied: python-dateutil>=2.7.3 in /mnt/disks/user/anaconda3/envs/cuda111/lib/python3.8/site-packages (from pandas>=0.25->pytrends) (2.8.1)\n",
            "Requirement already satisfied: pytz>=2017.3 in /mnt/disks/user/anaconda3/envs/cuda111/lib/python3.8/site-packages (from pandas>=0.25->pytrends) (2021.1)\n",
            "Requirement already satisfied: numpy>=1.16.5 in /mnt/disks/user/anaconda3/envs/cuda111/lib/python3.8/site-packages (from pandas>=0.25->pytrends) (1.19.5)\n",
            "Requirement already satisfied: six>=1.5 in /mnt/disks/user/anaconda3/envs/cuda111/lib/python3.8/site-packages (from python-dateutil>=2.7.3->pandas>=0.25->pytrends) (1.15.0)\n",
            "Requirement already satisfied: certifi>=2017.4.17 in /mnt/disks/user/anaconda3/envs/cuda111/lib/python3.8/site-packages (from requests->pytrends) (2020.12.5)\n",
            "Requirement already satisfied: idna<3,>=2.5 in /mnt/disks/user/anaconda3/envs/cuda111/lib/python3.8/site-packages (from requests->pytrends) (2.10)\n",
            "Requirement already satisfied: urllib3<1.27,>=1.21.1 in /mnt/disks/user/anaconda3/envs/cuda111/lib/python3.8/site-packages (from requests->pytrends) (1.26.4)\n",
            "Requirement already satisfied: chardet<5,>=3.0.2 in /mnt/disks/user/anaconda3/envs/cuda111/lib/python3.8/site-packages (from requests->pytrends) (4.0.0)\n",
            "Note: you may need to restart the kernel to use updated packages.\n"
          ]
        }
      ]
    },
    {
      "cell_type": "code",
      "metadata": {
        "id": "6135491e",
        "outputId": "c7c3f384-c34c-478a-d557-b210dbb717b3"
      },
      "source": [
        "pip install xgboost"
      ],
      "id": "6135491e",
      "execution_count": null,
      "outputs": [
        {
          "name": "stdout",
          "output_type": "stream",
          "text": [
            "Requirement already satisfied: xgboost in /mnt/disks/user/anaconda3/envs/cuda111/lib/python3.8/site-packages (1.4.2)\n",
            "Requirement already satisfied: scipy in /mnt/disks/user/anaconda3/envs/cuda111/lib/python3.8/site-packages (from xgboost) (1.6.3)\n",
            "Requirement already satisfied: numpy in /mnt/disks/user/anaconda3/envs/cuda111/lib/python3.8/site-packages (from xgboost) (1.19.5)\n",
            "Note: you may need to restart the kernel to use updated packages.\n"
          ]
        }
      ]
    },
    {
      "cell_type": "code",
      "metadata": {
        "id": "d84460ae",
        "outputId": "4a935bd1-97c8-4d80-9e5c-b2e00a09bf7e"
      },
      "source": [
        "pip install keras"
      ],
      "id": "d84460ae",
      "execution_count": null,
      "outputs": [
        {
          "name": "stdout",
          "output_type": "stream",
          "text": [
            "Requirement already satisfied: keras in /mnt/disks/user/anaconda3/envs/cuda111/lib/python3.8/site-packages (2.6.0)\n",
            "Note: you may need to restart the kernel to use updated packages.\n"
          ]
        }
      ]
    },
    {
      "cell_type": "code",
      "metadata": {
        "id": "44ff333d",
        "outputId": "8a9c8598-181c-4ccf-e0c8-96e82da310ff"
      },
      "source": [
        "pip install tensorflow"
      ],
      "id": "44ff333d",
      "execution_count": null,
      "outputs": [
        {
          "name": "stdout",
          "output_type": "stream",
          "text": [
            "Requirement already satisfied: tensorflow in /mnt/disks/user/anaconda3/envs/cuda111/lib/python3.8/site-packages (2.6.0)\n",
            "Requirement already satisfied: absl-py~=0.10 in /mnt/disks/user/anaconda3/envs/cuda111/lib/python3.8/site-packages (from tensorflow) (0.14.1)\n",
            "Requirement already satisfied: opt-einsum~=3.3.0 in /mnt/disks/user/anaconda3/envs/cuda111/lib/python3.8/site-packages (from tensorflow) (3.3.0)\n",
            "Requirement already satisfied: gast==0.4.0 in /mnt/disks/user/anaconda3/envs/cuda111/lib/python3.8/site-packages (from tensorflow) (0.4.0)\n",
            "Requirement already satisfied: google-pasta~=0.2 in /mnt/disks/user/anaconda3/envs/cuda111/lib/python3.8/site-packages (from tensorflow) (0.2.0)\n",
            "Requirement already satisfied: typing-extensions~=3.7.4 in /mnt/disks/user/anaconda3/envs/cuda111/lib/python3.8/site-packages (from tensorflow) (3.7.4.3)\n",
            "Requirement already satisfied: numpy~=1.19.2 in /mnt/disks/user/anaconda3/envs/cuda111/lib/python3.8/site-packages (from tensorflow) (1.19.5)\n",
            "Requirement already satisfied: flatbuffers~=1.12.0 in /mnt/disks/user/anaconda3/envs/cuda111/lib/python3.8/site-packages (from tensorflow) (1.12)\n",
            "Requirement already satisfied: tensorflow-estimator~=2.6 in /mnt/disks/user/anaconda3/envs/cuda111/lib/python3.8/site-packages (from tensorflow) (2.6.0)\n",
            "Requirement already satisfied: grpcio<2.0,>=1.37.0 in /mnt/disks/user/anaconda3/envs/cuda111/lib/python3.8/site-packages (from tensorflow) (1.41.0)\n",
            "Requirement already satisfied: astunparse~=1.6.3 in /mnt/disks/user/anaconda3/envs/cuda111/lib/python3.8/site-packages (from tensorflow) (1.6.3)\n",
            "Requirement already satisfied: h5py~=3.1.0 in /mnt/disks/user/anaconda3/envs/cuda111/lib/python3.8/site-packages (from tensorflow) (3.1.0)\n",
            "Requirement already satisfied: keras~=2.6 in /mnt/disks/user/anaconda3/envs/cuda111/lib/python3.8/site-packages (from tensorflow) (2.6.0)\n",
            "Requirement already satisfied: tensorboard~=2.6 in /mnt/disks/user/anaconda3/envs/cuda111/lib/python3.8/site-packages (from tensorflow) (2.6.0)\n",
            "Requirement already satisfied: wrapt~=1.12.1 in /mnt/disks/user/anaconda3/envs/cuda111/lib/python3.8/site-packages (from tensorflow) (1.12.1)\n",
            "Requirement already satisfied: six~=1.15.0 in /mnt/disks/user/anaconda3/envs/cuda111/lib/python3.8/site-packages (from tensorflow) (1.15.0)\n",
            "Requirement already satisfied: protobuf>=3.9.2 in /mnt/disks/user/anaconda3/envs/cuda111/lib/python3.8/site-packages (from tensorflow) (3.15.8)\n",
            "Requirement already satisfied: keras-preprocessing~=1.1.2 in /mnt/disks/user/anaconda3/envs/cuda111/lib/python3.8/site-packages (from tensorflow) (1.1.2)\n",
            "Requirement already satisfied: wheel~=0.35 in /mnt/disks/user/anaconda3/envs/cuda111/lib/python3.8/site-packages (from tensorflow) (0.36.2)\n",
            "Requirement already satisfied: termcolor~=1.1.0 in /mnt/disks/user/anaconda3/envs/cuda111/lib/python3.8/site-packages (from tensorflow) (1.1.0)\n",
            "Requirement already satisfied: clang~=5.0 in /mnt/disks/user/anaconda3/envs/cuda111/lib/python3.8/site-packages (from tensorflow) (5.0)\n",
            "Requirement already satisfied: google-auth-oauthlib<0.5,>=0.4.1 in /mnt/disks/user/anaconda3/envs/cuda111/lib/python3.8/site-packages (from tensorboard~=2.6->tensorflow) (0.4.6)\n",
            "Requirement already satisfied: requests<3,>=2.21.0 in /mnt/disks/user/anaconda3/envs/cuda111/lib/python3.8/site-packages (from tensorboard~=2.6->tensorflow) (2.25.1)\n",
            "Requirement already satisfied: google-auth<2,>=1.6.3 in /mnt/disks/user/anaconda3/envs/cuda111/lib/python3.8/site-packages (from tensorboard~=2.6->tensorflow) (1.35.0)\n",
            "Requirement already satisfied: tensorboard-data-server<0.7.0,>=0.6.0 in /mnt/disks/user/anaconda3/envs/cuda111/lib/python3.8/site-packages (from tensorboard~=2.6->tensorflow) (0.6.1)\n",
            "Requirement already satisfied: markdown>=2.6.8 in /mnt/disks/user/anaconda3/envs/cuda111/lib/python3.8/site-packages (from tensorboard~=2.6->tensorflow) (3.3.4)\n",
            "Requirement already satisfied: tensorboard-plugin-wit>=1.6.0 in /mnt/disks/user/anaconda3/envs/cuda111/lib/python3.8/site-packages (from tensorboard~=2.6->tensorflow) (1.8.0)\n",
            "Requirement already satisfied: werkzeug>=0.11.15 in /mnt/disks/user/anaconda3/envs/cuda111/lib/python3.8/site-packages (from tensorboard~=2.6->tensorflow) (1.0.1)\n",
            "Requirement already satisfied: setuptools>=41.0.0 in /mnt/disks/user/anaconda3/envs/cuda111/lib/python3.8/site-packages (from tensorboard~=2.6->tensorflow) (52.0.0.post20210125)\n",
            "Requirement already satisfied: pyasn1-modules>=0.2.1 in /mnt/disks/user/anaconda3/envs/cuda111/lib/python3.8/site-packages (from google-auth<2,>=1.6.3->tensorboard~=2.6->tensorflow) (0.2.8)\n",
            "Requirement already satisfied: cachetools<5.0,>=2.0.0 in /mnt/disks/user/anaconda3/envs/cuda111/lib/python3.8/site-packages (from google-auth<2,>=1.6.3->tensorboard~=2.6->tensorflow) (4.2.4)\n",
            "Requirement already satisfied: rsa<5,>=3.1.4 in /mnt/disks/user/anaconda3/envs/cuda111/lib/python3.8/site-packages (from google-auth<2,>=1.6.3->tensorboard~=2.6->tensorflow) (4.7.2)\n",
            "Requirement already satisfied: requests-oauthlib>=0.7.0 in /mnt/disks/user/anaconda3/envs/cuda111/lib/python3.8/site-packages (from google-auth-oauthlib<0.5,>=0.4.1->tensorboard~=2.6->tensorflow) (1.3.0)\n",
            "Requirement already satisfied: pyasn1<0.5.0,>=0.4.6 in /mnt/disks/user/anaconda3/envs/cuda111/lib/python3.8/site-packages (from pyasn1-modules>=0.2.1->google-auth<2,>=1.6.3->tensorboard~=2.6->tensorflow) (0.4.8)\n",
            "Requirement already satisfied: certifi>=2017.4.17 in /mnt/disks/user/anaconda3/envs/cuda111/lib/python3.8/site-packages (from requests<3,>=2.21.0->tensorboard~=2.6->tensorflow) (2020.12.5)\n",
            "Requirement already satisfied: idna<3,>=2.5 in /mnt/disks/user/anaconda3/envs/cuda111/lib/python3.8/site-packages (from requests<3,>=2.21.0->tensorboard~=2.6->tensorflow) (2.10)\n",
            "Requirement already satisfied: chardet<5,>=3.0.2 in /mnt/disks/user/anaconda3/envs/cuda111/lib/python3.8/site-packages (from requests<3,>=2.21.0->tensorboard~=2.6->tensorflow) (4.0.0)\n",
            "Requirement already satisfied: urllib3<1.27,>=1.21.1 in /mnt/disks/user/anaconda3/envs/cuda111/lib/python3.8/site-packages (from requests<3,>=2.21.0->tensorboard~=2.6->tensorflow) (1.26.4)\n",
            "Requirement already satisfied: oauthlib>=3.0.0 in /mnt/disks/user/anaconda3/envs/cuda111/lib/python3.8/site-packages (from requests-oauthlib>=0.7.0->google-auth-oauthlib<0.5,>=0.4.1->tensorboard~=2.6->tensorflow) (3.1.1)\n",
            "Note: you may need to restart the kernel to use updated packages.\n"
          ]
        }
      ]
    },
    {
      "cell_type": "code",
      "metadata": {
        "id": "07075de2"
      },
      "source": [
        "from pytrends.request import TrendReq"
      ],
      "id": "07075de2",
      "execution_count": null,
      "outputs": []
    },
    {
      "cell_type": "markdown",
      "metadata": {
        "id": "3186aba5"
      },
      "source": [
        "## Importing basic python libraries"
      ],
      "id": "3186aba5"
    },
    {
      "cell_type": "code",
      "metadata": {
        "id": "e0f52a76"
      },
      "source": [
        "import pandas as pd\n",
        "import io\n",
        "import pandas as pd\n",
        "import matplotlib.pyplot as plt\n",
        "import seaborn as sns\n",
        "import numpy as np\n",
        "import matplotlib.pyplot as plt\n",
        "import datetime"
      ],
      "id": "e0f52a76",
      "execution_count": null,
      "outputs": []
    },
    {
      "cell_type": "markdown",
      "metadata": {
        "id": "4732c2e2"
      },
      "source": [
        "## Importing ML libraries"
      ],
      "id": "4732c2e2"
    },
    {
      "cell_type": "code",
      "metadata": {
        "id": "009e8a17"
      },
      "source": [
        "from sklearn.model_selection import train_test_split\n",
        "from sklearn.metrics import mean_squared_error, r2_score\n",
        "import statsmodels.api as sm\n",
        "from scipy import stats\n",
        "from statsmodels.stats.outliers_influence import variance_inflation_factor\n",
        "from statsmodels.tools.tools import add_constant\n",
        "from sklearn.preprocessing import MinMaxScaler\n",
        "from sklearn.preprocessing import StandardScaler\n",
        "from statsmodels.sandbox.regression.predstd import wls_prediction_std\n",
        "from sklearn.model_selection import StratifiedKFold\n",
        "from sklearn.feature_selection import RFECV\n",
        "from sklearn.ensemble import RandomForestClassifier\n",
        "from sklearn.metrics import accuracy_score\n",
        "from sklearn.metrics import confusion_matrix\n",
        "from sklearn.metrics import roc_curve\n",
        "from sklearn.metrics import roc_auc_score\n",
        "from sklearn.impute import KNNImputer\n",
        "from sklearn.metrics import classification_report\n",
        "from datetime import datetime\n",
        "from sklearn import metrics "
      ],
      "id": "009e8a17",
      "execution_count": null,
      "outputs": []
    },
    {
      "cell_type": "markdown",
      "metadata": {
        "id": "248c91e5"
      },
      "source": [
        "## Disabling warnings"
      ],
      "id": "248c91e5"
    },
    {
      "cell_type": "code",
      "metadata": {
        "id": "b6856076"
      },
      "source": [
        "import warnings\n",
        "warnings.filterwarnings('ignore')"
      ],
      "id": "b6856076",
      "execution_count": null,
      "outputs": []
    },
    {
      "cell_type": "code",
      "metadata": {
        "id": "1b42b36d"
      },
      "source": [
        "import ta"
      ],
      "id": "1b42b36d",
      "execution_count": null,
      "outputs": []
    },
    {
      "cell_type": "markdown",
      "metadata": {
        "id": "0b32c404"
      },
      "source": [
        "## Importing dataset"
      ],
      "id": "0b32c404"
    },
    {
      "cell_type": "code",
      "metadata": {
        "id": "604a975e"
      },
      "source": [
        "btc_hourly_trend_data_2016_15 = pd.read_csv('btc_hourly_trend_data_2016_15.csv')\n",
        "btc_hourly_trend_data_2016_15[\"date\"]=pd.to_datetime(btc_hourly_trend_data_2016_15['date'])\n",
        "btc_hourly_trend_data_2016_15.rename(columns = {'date':'date_time'}, inplace = True) \n",
        "btc_hourly_trend_data_2016_15 = btc_hourly_trend_data_2016_15.set_index(\"date_time\")"
      ],
      "id": "604a975e",
      "execution_count": null,
      "outputs": []
    },
    {
      "cell_type": "code",
      "metadata": {
        "id": "42a433f1"
      },
      "source": [
        "btc_hourly_trend_data_2018_17 = pd.read_csv('btc_hourly_trend_data_2018_17.csv')\n",
        "btc_hourly_trend_data_2018_17[\"date\"]=pd.to_datetime(btc_hourly_trend_data_2018_17['date'])\n",
        "btc_hourly_trend_data_2018_17.rename(columns = {'date':'date_time'}, inplace = True) \n",
        "btc_hourly_trend_data_2018_17 = btc_hourly_trend_data_2018_17.set_index(\"date_time\")"
      ],
      "id": "42a433f1",
      "execution_count": null,
      "outputs": []
    },
    {
      "cell_type": "code",
      "metadata": {
        "id": "1e9df906"
      },
      "source": [
        "btc_hourly_trend_data_2021_19 = pd.read_csv('btc_hourly_trend_data_2021_19.csv')\n",
        "btc_hourly_trend_data_2021_19[\"date\"]=pd.to_datetime(btc_hourly_trend_data_2021_19['date'])\n",
        "btc_hourly_trend_data_2021_19.rename(columns = {'date':'date_time'}, inplace = True) \n",
        "btc_hourly_trend_data_2021_19 = btc_hourly_trend_data_2021_19.set_index(\"date_time\")"
      ],
      "id": "1e9df906",
      "execution_count": null,
      "outputs": []
    },
    {
      "cell_type": "code",
      "metadata": {
        "id": "c6217070"
      },
      "source": [
        "btc_usd_data = pd.read_csv('ethusd.csv')"
      ],
      "id": "c6217070",
      "execution_count": null,
      "outputs": []
    },
    {
      "cell_type": "code",
      "metadata": {
        "id": "a7a78c84",
        "outputId": "6f090139-5b98-4f5b-e205-92e671effba5"
      },
      "source": [
        "btc_usd_data.head()"
      ],
      "id": "a7a78c84",
      "execution_count": null,
      "outputs": [
        {
          "data": {
            "text/html": [
              "<div>\n",
              "<style scoped>\n",
              "    .dataframe tbody tr th:only-of-type {\n",
              "        vertical-align: middle;\n",
              "    }\n",
              "\n",
              "    .dataframe tbody tr th {\n",
              "        vertical-align: top;\n",
              "    }\n",
              "\n",
              "    .dataframe thead th {\n",
              "        text-align: right;\n",
              "    }\n",
              "</style>\n",
              "<table border=\"1\" class=\"dataframe\">\n",
              "  <thead>\n",
              "    <tr style=\"text-align: right;\">\n",
              "      <th></th>\n",
              "      <th>time</th>\n",
              "      <th>open</th>\n",
              "      <th>close</th>\n",
              "      <th>high</th>\n",
              "      <th>low</th>\n",
              "      <th>volume</th>\n",
              "    </tr>\n",
              "  </thead>\n",
              "  <tbody>\n",
              "    <tr>\n",
              "      <th>0</th>\n",
              "      <td>1457539440000</td>\n",
              "      <td>10.297</td>\n",
              "      <td>10.097</td>\n",
              "      <td>10.297</td>\n",
              "      <td>10.097</td>\n",
              "      <td>0.03</td>\n",
              "    </tr>\n",
              "    <tr>\n",
              "      <th>1</th>\n",
              "      <td>1457545740000</td>\n",
              "      <td>11.197</td>\n",
              "      <td>11.197</td>\n",
              "      <td>11.197</td>\n",
              "      <td>11.197</td>\n",
              "      <td>0.01</td>\n",
              "    </tr>\n",
              "    <tr>\n",
              "      <th>2</th>\n",
              "      <td>1457549760000</td>\n",
              "      <td>11.097</td>\n",
              "      <td>11.097</td>\n",
              "      <td>11.097</td>\n",
              "      <td>11.097</td>\n",
              "      <td>0.02</td>\n",
              "    </tr>\n",
              "    <tr>\n",
              "      <th>3</th>\n",
              "      <td>1457554560000</td>\n",
              "      <td>11.195</td>\n",
              "      <td>11.195</td>\n",
              "      <td>11.195</td>\n",
              "      <td>11.195</td>\n",
              "      <td>0.01</td>\n",
              "    </tr>\n",
              "    <tr>\n",
              "      <th>4</th>\n",
              "      <td>1457554860000</td>\n",
              "      <td>10.870</td>\n",
              "      <td>10.870</td>\n",
              "      <td>10.870</td>\n",
              "      <td>10.870</td>\n",
              "      <td>1.00</td>\n",
              "    </tr>\n",
              "  </tbody>\n",
              "</table>\n",
              "</div>"
            ],
            "text/plain": [
              "            time    open   close    high     low  volume\n",
              "0  1457539440000  10.297  10.097  10.297  10.097    0.03\n",
              "1  1457545740000  11.197  11.197  11.197  11.197    0.01\n",
              "2  1457549760000  11.097  11.097  11.097  11.097    0.02\n",
              "3  1457554560000  11.195  11.195  11.195  11.195    0.01\n",
              "4  1457554860000  10.870  10.870  10.870  10.870    1.00"
            ]
          },
          "execution_count": 16,
          "metadata": {},
          "output_type": "execute_result"
        }
      ]
    },
    {
      "cell_type": "markdown",
      "metadata": {
        "id": "1ca06d71"
      },
      "source": [
        "## Renaming columns"
      ],
      "id": "1ca06d71"
    },
    {
      "cell_type": "code",
      "metadata": {
        "id": "fb7087fe",
        "outputId": "b1fbae06-bd93-441f-da0c-5aef63d7d367"
      },
      "source": [
        "btc_usd_data.rename(columns = {'open':'open_1min'}, inplace = True) \n",
        "btc_usd_data.rename(columns = {'close':'close_1min'}, inplace = True) \n",
        "btc_usd_data.rename(columns = {'high':'high_1min'}, inplace = True) \n",
        "btc_usd_data.rename(columns = {'low':'low_1min'}, inplace = True) \n",
        "btc_usd_data.rename(columns = {'volume':'volume_1min'}, inplace = True)\n",
        "btc_usd_data.head()"
      ],
      "id": "fb7087fe",
      "execution_count": null,
      "outputs": [
        {
          "data": {
            "text/html": [
              "<div>\n",
              "<style scoped>\n",
              "    .dataframe tbody tr th:only-of-type {\n",
              "        vertical-align: middle;\n",
              "    }\n",
              "\n",
              "    .dataframe tbody tr th {\n",
              "        vertical-align: top;\n",
              "    }\n",
              "\n",
              "    .dataframe thead th {\n",
              "        text-align: right;\n",
              "    }\n",
              "</style>\n",
              "<table border=\"1\" class=\"dataframe\">\n",
              "  <thead>\n",
              "    <tr style=\"text-align: right;\">\n",
              "      <th></th>\n",
              "      <th>time</th>\n",
              "      <th>open_1min</th>\n",
              "      <th>close_1min</th>\n",
              "      <th>high_1min</th>\n",
              "      <th>low_1min</th>\n",
              "      <th>volume_1min</th>\n",
              "    </tr>\n",
              "  </thead>\n",
              "  <tbody>\n",
              "    <tr>\n",
              "      <th>0</th>\n",
              "      <td>1457539440000</td>\n",
              "      <td>10.297</td>\n",
              "      <td>10.097</td>\n",
              "      <td>10.297</td>\n",
              "      <td>10.097</td>\n",
              "      <td>0.03</td>\n",
              "    </tr>\n",
              "    <tr>\n",
              "      <th>1</th>\n",
              "      <td>1457545740000</td>\n",
              "      <td>11.197</td>\n",
              "      <td>11.197</td>\n",
              "      <td>11.197</td>\n",
              "      <td>11.197</td>\n",
              "      <td>0.01</td>\n",
              "    </tr>\n",
              "    <tr>\n",
              "      <th>2</th>\n",
              "      <td>1457549760000</td>\n",
              "      <td>11.097</td>\n",
              "      <td>11.097</td>\n",
              "      <td>11.097</td>\n",
              "      <td>11.097</td>\n",
              "      <td>0.02</td>\n",
              "    </tr>\n",
              "    <tr>\n",
              "      <th>3</th>\n",
              "      <td>1457554560000</td>\n",
              "      <td>11.195</td>\n",
              "      <td>11.195</td>\n",
              "      <td>11.195</td>\n",
              "      <td>11.195</td>\n",
              "      <td>0.01</td>\n",
              "    </tr>\n",
              "    <tr>\n",
              "      <th>4</th>\n",
              "      <td>1457554860000</td>\n",
              "      <td>10.870</td>\n",
              "      <td>10.870</td>\n",
              "      <td>10.870</td>\n",
              "      <td>10.870</td>\n",
              "      <td>1.00</td>\n",
              "    </tr>\n",
              "  </tbody>\n",
              "</table>\n",
              "</div>"
            ],
            "text/plain": [
              "            time  open_1min  close_1min  high_1min  low_1min  volume_1min\n",
              "0  1457539440000     10.297      10.097     10.297    10.097         0.03\n",
              "1  1457545740000     11.197      11.197     11.197    11.197         0.01\n",
              "2  1457549760000     11.097      11.097     11.097    11.097         0.02\n",
              "3  1457554560000     11.195      11.195     11.195    11.195         0.01\n",
              "4  1457554860000     10.870      10.870     10.870    10.870         1.00"
            ]
          },
          "execution_count": 17,
          "metadata": {},
          "output_type": "execute_result"
        }
      ]
    },
    {
      "cell_type": "markdown",
      "metadata": {
        "id": "4d05af7d"
      },
      "source": [
        "## Getting general dataset stats"
      ],
      "id": "4d05af7d"
    },
    {
      "cell_type": "code",
      "metadata": {
        "id": "c1956974",
        "outputId": "3a1ebc83-bdc2-4064-8f10-d6546bbdea84"
      },
      "source": [
        "btc_usd_data_1min = btc_usd_data.copy()\n",
        "btc_usd_data_1min.head()"
      ],
      "id": "c1956974",
      "execution_count": null,
      "outputs": [
        {
          "data": {
            "text/html": [
              "<div>\n",
              "<style scoped>\n",
              "    .dataframe tbody tr th:only-of-type {\n",
              "        vertical-align: middle;\n",
              "    }\n",
              "\n",
              "    .dataframe tbody tr th {\n",
              "        vertical-align: top;\n",
              "    }\n",
              "\n",
              "    .dataframe thead th {\n",
              "        text-align: right;\n",
              "    }\n",
              "</style>\n",
              "<table border=\"1\" class=\"dataframe\">\n",
              "  <thead>\n",
              "    <tr style=\"text-align: right;\">\n",
              "      <th></th>\n",
              "      <th>time</th>\n",
              "      <th>open_1min</th>\n",
              "      <th>close_1min</th>\n",
              "      <th>high_1min</th>\n",
              "      <th>low_1min</th>\n",
              "      <th>volume_1min</th>\n",
              "    </tr>\n",
              "  </thead>\n",
              "  <tbody>\n",
              "    <tr>\n",
              "      <th>0</th>\n",
              "      <td>1457539440000</td>\n",
              "      <td>10.297</td>\n",
              "      <td>10.097</td>\n",
              "      <td>10.297</td>\n",
              "      <td>10.097</td>\n",
              "      <td>0.03</td>\n",
              "    </tr>\n",
              "    <tr>\n",
              "      <th>1</th>\n",
              "      <td>1457545740000</td>\n",
              "      <td>11.197</td>\n",
              "      <td>11.197</td>\n",
              "      <td>11.197</td>\n",
              "      <td>11.197</td>\n",
              "      <td>0.01</td>\n",
              "    </tr>\n",
              "    <tr>\n",
              "      <th>2</th>\n",
              "      <td>1457549760000</td>\n",
              "      <td>11.097</td>\n",
              "      <td>11.097</td>\n",
              "      <td>11.097</td>\n",
              "      <td>11.097</td>\n",
              "      <td>0.02</td>\n",
              "    </tr>\n",
              "    <tr>\n",
              "      <th>3</th>\n",
              "      <td>1457554560000</td>\n",
              "      <td>11.195</td>\n",
              "      <td>11.195</td>\n",
              "      <td>11.195</td>\n",
              "      <td>11.195</td>\n",
              "      <td>0.01</td>\n",
              "    </tr>\n",
              "    <tr>\n",
              "      <th>4</th>\n",
              "      <td>1457554860000</td>\n",
              "      <td>10.870</td>\n",
              "      <td>10.870</td>\n",
              "      <td>10.870</td>\n",
              "      <td>10.870</td>\n",
              "      <td>1.00</td>\n",
              "    </tr>\n",
              "  </tbody>\n",
              "</table>\n",
              "</div>"
            ],
            "text/plain": [
              "            time  open_1min  close_1min  high_1min  low_1min  volume_1min\n",
              "0  1457539440000     10.297      10.097     10.297    10.097         0.03\n",
              "1  1457545740000     11.197      11.197     11.197    11.197         0.01\n",
              "2  1457549760000     11.097      11.097     11.097    11.097         0.02\n",
              "3  1457554560000     11.195      11.195     11.195    11.195         0.01\n",
              "4  1457554860000     10.870      10.870     10.870    10.870         1.00"
            ]
          },
          "execution_count": 18,
          "metadata": {},
          "output_type": "execute_result"
        }
      ]
    },
    {
      "cell_type": "code",
      "metadata": {
        "id": "a34a3aeb",
        "outputId": "f4ba28d6-8927-4260-fe4e-da79cb0a572c"
      },
      "source": [
        "btc_usd_data_1min.describe()"
      ],
      "id": "a34a3aeb",
      "execution_count": null,
      "outputs": [
        {
          "data": {
            "text/html": [
              "<div>\n",
              "<style scoped>\n",
              "    .dataframe tbody tr th:only-of-type {\n",
              "        vertical-align: middle;\n",
              "    }\n",
              "\n",
              "    .dataframe tbody tr th {\n",
              "        vertical-align: top;\n",
              "    }\n",
              "\n",
              "    .dataframe thead th {\n",
              "        text-align: right;\n",
              "    }\n",
              "</style>\n",
              "<table border=\"1\" class=\"dataframe\">\n",
              "  <thead>\n",
              "    <tr style=\"text-align: right;\">\n",
              "      <th></th>\n",
              "      <th>time</th>\n",
              "      <th>open_1min</th>\n",
              "      <th>close_1min</th>\n",
              "      <th>high_1min</th>\n",
              "      <th>low_1min</th>\n",
              "      <th>volume_1min</th>\n",
              "    </tr>\n",
              "  </thead>\n",
              "  <tbody>\n",
              "    <tr>\n",
              "      <th>count</th>\n",
              "      <td>2.414189e+06</td>\n",
              "      <td>2.414189e+06</td>\n",
              "      <td>2.414189e+06</td>\n",
              "      <td>2.414189e+06</td>\n",
              "      <td>2.414189e+06</td>\n",
              "      <td>2.414189e+06</td>\n",
              "    </tr>\n",
              "    <tr>\n",
              "      <th>mean</th>\n",
              "      <td>1.560210e+12</td>\n",
              "      <td>7.759029e+02</td>\n",
              "      <td>7.759106e+02</td>\n",
              "      <td>7.764369e+02</td>\n",
              "      <td>7.753704e+02</td>\n",
              "      <td>1.289520e+02</td>\n",
              "    </tr>\n",
              "    <tr>\n",
              "      <th>std</th>\n",
              "      <td>4.653411e+10</td>\n",
              "      <td>1.063918e+03</td>\n",
              "      <td>1.063941e+03</td>\n",
              "      <td>1.064604e+03</td>\n",
              "      <td>1.063256e+03</td>\n",
              "      <td>4.692525e+02</td>\n",
              "    </tr>\n",
              "    <tr>\n",
              "      <th>min</th>\n",
              "      <td>1.457539e+12</td>\n",
              "      <td>5.890100e+00</td>\n",
              "      <td>5.861000e+00</td>\n",
              "      <td>5.890100e+00</td>\n",
              "      <td>5.861000e+00</td>\n",
              "      <td>1.000000e-08</td>\n",
              "    </tr>\n",
              "    <tr>\n",
              "      <th>25%</th>\n",
              "      <td>1.520975e+12</td>\n",
              "      <td>1.806500e+02</td>\n",
              "      <td>1.806500e+02</td>\n",
              "      <td>1.807300e+02</td>\n",
              "      <td>1.805700e+02</td>\n",
              "      <td>4.971108e+00</td>\n",
              "    </tr>\n",
              "    <tr>\n",
              "      <th>50%</th>\n",
              "      <td>1.559370e+12</td>\n",
              "      <td>2.973900e+02</td>\n",
              "      <td>2.974000e+02</td>\n",
              "      <td>2.976000e+02</td>\n",
              "      <td>2.971800e+02</td>\n",
              "      <td>2.500600e+01</td>\n",
              "    </tr>\n",
              "    <tr>\n",
              "      <th>75%</th>\n",
              "      <td>1.601582e+12</td>\n",
              "      <td>7.238200e+02</td>\n",
              "      <td>7.238100e+02</td>\n",
              "      <td>7.243500e+02</td>\n",
              "      <td>7.231500e+02</td>\n",
              "      <td>9.949687e+01</td>\n",
              "    </tr>\n",
              "    <tr>\n",
              "      <th>max</th>\n",
              "      <td>1.638628e+12</td>\n",
              "      <td>4.863222e+03</td>\n",
              "      <td>4.863222e+03</td>\n",
              "      <td>4.864900e+03</td>\n",
              "      <td>4.859400e+03</td>\n",
              "      <td>6.107060e+04</td>\n",
              "    </tr>\n",
              "  </tbody>\n",
              "</table>\n",
              "</div>"
            ],
            "text/plain": [
              "               time     open_1min    close_1min     high_1min      low_1min  \\\n",
              "count  2.414189e+06  2.414189e+06  2.414189e+06  2.414189e+06  2.414189e+06   \n",
              "mean   1.560210e+12  7.759029e+02  7.759106e+02  7.764369e+02  7.753704e+02   \n",
              "std    4.653411e+10  1.063918e+03  1.063941e+03  1.064604e+03  1.063256e+03   \n",
              "min    1.457539e+12  5.890100e+00  5.861000e+00  5.890100e+00  5.861000e+00   \n",
              "25%    1.520975e+12  1.806500e+02  1.806500e+02  1.807300e+02  1.805700e+02   \n",
              "50%    1.559370e+12  2.973900e+02  2.974000e+02  2.976000e+02  2.971800e+02   \n",
              "75%    1.601582e+12  7.238200e+02  7.238100e+02  7.243500e+02  7.231500e+02   \n",
              "max    1.638628e+12  4.863222e+03  4.863222e+03  4.864900e+03  4.859400e+03   \n",
              "\n",
              "        volume_1min  \n",
              "count  2.414189e+06  \n",
              "mean   1.289520e+02  \n",
              "std    4.692525e+02  \n",
              "min    1.000000e-08  \n",
              "25%    4.971108e+00  \n",
              "50%    2.500600e+01  \n",
              "75%    9.949687e+01  \n",
              "max    6.107060e+04  "
            ]
          },
          "execution_count": 19,
          "metadata": {},
          "output_type": "execute_result"
        }
      ]
    },
    {
      "cell_type": "code",
      "metadata": {
        "id": "af8a9058",
        "outputId": "8dfcd31c-5839-46d4-cd2f-08a04a4b3b04"
      },
      "source": [
        "btc_usd_data_1min.isnull().sum()"
      ],
      "id": "af8a9058",
      "execution_count": null,
      "outputs": [
        {
          "data": {
            "text/plain": [
              "time           0\n",
              "open_1min      0\n",
              "close_1min     0\n",
              "high_1min      0\n",
              "low_1min       0\n",
              "volume_1min    0\n",
              "dtype: int64"
            ]
          },
          "execution_count": 20,
          "metadata": {},
          "output_type": "execute_result"
        }
      ]
    },
    {
      "cell_type": "code",
      "metadata": {
        "id": "a83484ef",
        "outputId": "28dfa1d4-b16b-46f8-a4ee-c28b8ed4477a"
      },
      "source": [
        "btc_usd_data_1min.shape"
      ],
      "id": "a83484ef",
      "execution_count": null,
      "outputs": [
        {
          "data": {
            "text/plain": [
              "(2414189, 6)"
            ]
          },
          "execution_count": 21,
          "metadata": {},
          "output_type": "execute_result"
        }
      ]
    },
    {
      "cell_type": "markdown",
      "metadata": {
        "id": "53ae3514"
      },
      "source": [
        "## Converting timestamps into dates"
      ],
      "id": "53ae3514"
    },
    {
      "cell_type": "code",
      "metadata": {
        "id": "caab02da",
        "outputId": "fedaac0a-9d86-443b-bf39-a0031bd3b8cb"
      },
      "source": [
        "btc_usd_data_1min['date_time'] = 0\n",
        "btc_usd_data_1min['date_time'] = pd.to_datetime(btc_usd_data_1min[\"time\"], unit = 'ms')\n",
        "btc_usd_data_1min = btc_usd_data_1min.set_index(\"date_time\")\n",
        "btc_usd_data_1min.head(20)"
      ],
      "id": "caab02da",
      "execution_count": null,
      "outputs": [
        {
          "data": {
            "text/html": [
              "<div>\n",
              "<style scoped>\n",
              "    .dataframe tbody tr th:only-of-type {\n",
              "        vertical-align: middle;\n",
              "    }\n",
              "\n",
              "    .dataframe tbody tr th {\n",
              "        vertical-align: top;\n",
              "    }\n",
              "\n",
              "    .dataframe thead th {\n",
              "        text-align: right;\n",
              "    }\n",
              "</style>\n",
              "<table border=\"1\" class=\"dataframe\">\n",
              "  <thead>\n",
              "    <tr style=\"text-align: right;\">\n",
              "      <th></th>\n",
              "      <th>time</th>\n",
              "      <th>open_1min</th>\n",
              "      <th>close_1min</th>\n",
              "      <th>high_1min</th>\n",
              "      <th>low_1min</th>\n",
              "      <th>volume_1min</th>\n",
              "    </tr>\n",
              "    <tr>\n",
              "      <th>date_time</th>\n",
              "      <th></th>\n",
              "      <th></th>\n",
              "      <th></th>\n",
              "      <th></th>\n",
              "      <th></th>\n",
              "      <th></th>\n",
              "    </tr>\n",
              "  </thead>\n",
              "  <tbody>\n",
              "    <tr>\n",
              "      <th>2016-03-09 16:04:00</th>\n",
              "      <td>1457539440000</td>\n",
              "      <td>10.297</td>\n",
              "      <td>10.097</td>\n",
              "      <td>10.297</td>\n",
              "      <td>10.097</td>\n",
              "      <td>0.030000</td>\n",
              "    </tr>\n",
              "    <tr>\n",
              "      <th>2016-03-09 17:49:00</th>\n",
              "      <td>1457545740000</td>\n",
              "      <td>11.197</td>\n",
              "      <td>11.197</td>\n",
              "      <td>11.197</td>\n",
              "      <td>11.197</td>\n",
              "      <td>0.010000</td>\n",
              "    </tr>\n",
              "    <tr>\n",
              "      <th>2016-03-09 18:56:00</th>\n",
              "      <td>1457549760000</td>\n",
              "      <td>11.097</td>\n",
              "      <td>11.097</td>\n",
              "      <td>11.097</td>\n",
              "      <td>11.097</td>\n",
              "      <td>0.020000</td>\n",
              "    </tr>\n",
              "    <tr>\n",
              "      <th>2016-03-09 20:16:00</th>\n",
              "      <td>1457554560000</td>\n",
              "      <td>11.195</td>\n",
              "      <td>11.195</td>\n",
              "      <td>11.195</td>\n",
              "      <td>11.195</td>\n",
              "      <td>0.010000</td>\n",
              "    </tr>\n",
              "    <tr>\n",
              "      <th>2016-03-09 20:21:00</th>\n",
              "      <td>1457554860000</td>\n",
              "      <td>10.870</td>\n",
              "      <td>10.870</td>\n",
              "      <td>10.870</td>\n",
              "      <td>10.870</td>\n",
              "      <td>1.000000</td>\n",
              "    </tr>\n",
              "    <tr>\n",
              "      <th>2016-03-09 20:23:00</th>\n",
              "      <td>1457554980000</td>\n",
              "      <td>10.870</td>\n",
              "      <td>10.660</td>\n",
              "      <td>10.870</td>\n",
              "      <td>10.660</td>\n",
              "      <td>0.099523</td>\n",
              "    </tr>\n",
              "    <tr>\n",
              "      <th>2016-03-09 21:47:00</th>\n",
              "      <td>1457560020000</td>\n",
              "      <td>10.870</td>\n",
              "      <td>11.197</td>\n",
              "      <td>11.197</td>\n",
              "      <td>10.870</td>\n",
              "      <td>40.000000</td>\n",
              "    </tr>\n",
              "    <tr>\n",
              "      <th>2016-03-10 16:11:00</th>\n",
              "      <td>1457626260000</td>\n",
              "      <td>11.072</td>\n",
              "      <td>11.072</td>\n",
              "      <td>11.072</td>\n",
              "      <td>11.072</td>\n",
              "      <td>0.020000</td>\n",
              "    </tr>\n",
              "    <tr>\n",
              "      <th>2016-03-10 16:12:00</th>\n",
              "      <td>1457626320000</td>\n",
              "      <td>11.750</td>\n",
              "      <td>11.750</td>\n",
              "      <td>11.750</td>\n",
              "      <td>11.750</td>\n",
              "      <td>0.010000</td>\n",
              "    </tr>\n",
              "    <tr>\n",
              "      <th>2016-03-10 17:43:00</th>\n",
              "      <td>1457631780000</td>\n",
              "      <td>11.850</td>\n",
              "      <td>11.750</td>\n",
              "      <td>11.850</td>\n",
              "      <td>11.750</td>\n",
              "      <td>1.000000</td>\n",
              "    </tr>\n",
              "    <tr>\n",
              "      <th>2016-03-11 10:51:00</th>\n",
              "      <td>1457693460000</td>\n",
              "      <td>11.850</td>\n",
              "      <td>11.850</td>\n",
              "      <td>11.850</td>\n",
              "      <td>11.850</td>\n",
              "      <td>0.010000</td>\n",
              "    </tr>\n",
              "    <tr>\n",
              "      <th>2016-03-11 10:53:00</th>\n",
              "      <td>1457693580000</td>\n",
              "      <td>11.850</td>\n",
              "      <td>11.850</td>\n",
              "      <td>11.850</td>\n",
              "      <td>11.850</td>\n",
              "      <td>0.010000</td>\n",
              "    </tr>\n",
              "    <tr>\n",
              "      <th>2016-03-11 10:54:00</th>\n",
              "      <td>1457693640000</td>\n",
              "      <td>11.850</td>\n",
              "      <td>11.850</td>\n",
              "      <td>11.850</td>\n",
              "      <td>11.850</td>\n",
              "      <td>0.010000</td>\n",
              "    </tr>\n",
              "    <tr>\n",
              "      <th>2016-03-11 17:27:00</th>\n",
              "      <td>1457717220000</td>\n",
              "      <td>11.800</td>\n",
              "      <td>11.800</td>\n",
              "      <td>11.800</td>\n",
              "      <td>11.800</td>\n",
              "      <td>0.010000</td>\n",
              "    </tr>\n",
              "    <tr>\n",
              "      <th>2016-03-11 18:45:00</th>\n",
              "      <td>1457721900000</td>\n",
              "      <td>11.800</td>\n",
              "      <td>11.800</td>\n",
              "      <td>11.800</td>\n",
              "      <td>11.800</td>\n",
              "      <td>0.704898</td>\n",
              "    </tr>\n",
              "    <tr>\n",
              "      <th>2016-03-11 21:50:00</th>\n",
              "      <td>1457733000000</td>\n",
              "      <td>11.950</td>\n",
              "      <td>11.850</td>\n",
              "      <td>11.950</td>\n",
              "      <td>11.850</td>\n",
              "      <td>2.975831</td>\n",
              "    </tr>\n",
              "    <tr>\n",
              "      <th>2016-03-11 21:55:00</th>\n",
              "      <td>1457733300000</td>\n",
              "      <td>11.950</td>\n",
              "      <td>11.950</td>\n",
              "      <td>11.950</td>\n",
              "      <td>11.950</td>\n",
              "      <td>1.087300</td>\n",
              "    </tr>\n",
              "    <tr>\n",
              "      <th>2016-03-11 22:23:00</th>\n",
              "      <td>1457734980000</td>\n",
              "      <td>11.950</td>\n",
              "      <td>11.950</td>\n",
              "      <td>11.950</td>\n",
              "      <td>11.950</td>\n",
              "      <td>2.975831</td>\n",
              "    </tr>\n",
              "    <tr>\n",
              "      <th>2016-03-11 22:31:00</th>\n",
              "      <td>1457735460000</td>\n",
              "      <td>11.950</td>\n",
              "      <td>11.950</td>\n",
              "      <td>11.950</td>\n",
              "      <td>11.950</td>\n",
              "      <td>4.063131</td>\n",
              "    </tr>\n",
              "    <tr>\n",
              "      <th>2016-03-11 23:27:00</th>\n",
              "      <td>1457738820000</td>\n",
              "      <td>11.950</td>\n",
              "      <td>11.950</td>\n",
              "      <td>11.950</td>\n",
              "      <td>11.950</td>\n",
              "      <td>39.000000</td>\n",
              "    </tr>\n",
              "  </tbody>\n",
              "</table>\n",
              "</div>"
            ],
            "text/plain": [
              "                              time  open_1min  close_1min  high_1min  \\\n",
              "date_time                                                              \n",
              "2016-03-09 16:04:00  1457539440000     10.297      10.097     10.297   \n",
              "2016-03-09 17:49:00  1457545740000     11.197      11.197     11.197   \n",
              "2016-03-09 18:56:00  1457549760000     11.097      11.097     11.097   \n",
              "2016-03-09 20:16:00  1457554560000     11.195      11.195     11.195   \n",
              "2016-03-09 20:21:00  1457554860000     10.870      10.870     10.870   \n",
              "2016-03-09 20:23:00  1457554980000     10.870      10.660     10.870   \n",
              "2016-03-09 21:47:00  1457560020000     10.870      11.197     11.197   \n",
              "2016-03-10 16:11:00  1457626260000     11.072      11.072     11.072   \n",
              "2016-03-10 16:12:00  1457626320000     11.750      11.750     11.750   \n",
              "2016-03-10 17:43:00  1457631780000     11.850      11.750     11.850   \n",
              "2016-03-11 10:51:00  1457693460000     11.850      11.850     11.850   \n",
              "2016-03-11 10:53:00  1457693580000     11.850      11.850     11.850   \n",
              "2016-03-11 10:54:00  1457693640000     11.850      11.850     11.850   \n",
              "2016-03-11 17:27:00  1457717220000     11.800      11.800     11.800   \n",
              "2016-03-11 18:45:00  1457721900000     11.800      11.800     11.800   \n",
              "2016-03-11 21:50:00  1457733000000     11.950      11.850     11.950   \n",
              "2016-03-11 21:55:00  1457733300000     11.950      11.950     11.950   \n",
              "2016-03-11 22:23:00  1457734980000     11.950      11.950     11.950   \n",
              "2016-03-11 22:31:00  1457735460000     11.950      11.950     11.950   \n",
              "2016-03-11 23:27:00  1457738820000     11.950      11.950     11.950   \n",
              "\n",
              "                     low_1min  volume_1min  \n",
              "date_time                                   \n",
              "2016-03-09 16:04:00    10.097     0.030000  \n",
              "2016-03-09 17:49:00    11.197     0.010000  \n",
              "2016-03-09 18:56:00    11.097     0.020000  \n",
              "2016-03-09 20:16:00    11.195     0.010000  \n",
              "2016-03-09 20:21:00    10.870     1.000000  \n",
              "2016-03-09 20:23:00    10.660     0.099523  \n",
              "2016-03-09 21:47:00    10.870    40.000000  \n",
              "2016-03-10 16:11:00    11.072     0.020000  \n",
              "2016-03-10 16:12:00    11.750     0.010000  \n",
              "2016-03-10 17:43:00    11.750     1.000000  \n",
              "2016-03-11 10:51:00    11.850     0.010000  \n",
              "2016-03-11 10:53:00    11.850     0.010000  \n",
              "2016-03-11 10:54:00    11.850     0.010000  \n",
              "2016-03-11 17:27:00    11.800     0.010000  \n",
              "2016-03-11 18:45:00    11.800     0.704898  \n",
              "2016-03-11 21:50:00    11.850     2.975831  \n",
              "2016-03-11 21:55:00    11.950     1.087300  \n",
              "2016-03-11 22:23:00    11.950     2.975831  \n",
              "2016-03-11 22:31:00    11.950     4.063131  \n",
              "2016-03-11 23:27:00    11.950    39.000000  "
            ]
          },
          "execution_count": 22,
          "metadata": {},
          "output_type": "execute_result"
        }
      ]
    },
    {
      "cell_type": "markdown",
      "metadata": {
        "id": "535bf263"
      },
      "source": [
        "## Resampling 5min interval dataset"
      ],
      "id": "535bf263"
    },
    {
      "cell_type": "code",
      "metadata": {
        "id": "1ca91ffe"
      },
      "source": [
        "# btc_usd_data_5min = pd.DataFrame()\n",
        "# btc_usd_data_5min['open_5min'] = 0\n",
        "# btc_usd_data_5min['close_5min'] = 0\n",
        "# btc_usd_data_5min['high_5min'] = 0\n",
        "# btc_usd_data_5min['low_5min'] = 0\n",
        "# btc_usd_data_5min['volume_5min'] = 0\n",
        "# btc_usd_data_5min['open_5min'] = btc_usd_data_1min['open_1min'].resample('5T',label='right').mean()\n",
        "# btc_usd_data_5min['close_5min'] = btc_usd_data_1min['close_1min'].resample('5T',label='right').mean()\n",
        "# btc_usd_data_5min['high_5min'] = btc_usd_data_1min['high_1min'].resample('5T',label='right').max()\n",
        "# btc_usd_data_5min['low_5min'] = btc_usd_data_1min['low_1min'].resample('5T',label='right').min()\n",
        "# btc_usd_data_5min['volume_5min'] = btc_usd_data_1min['volume_1min'].resample('5T',label='right').sum()\n",
        "# btc_usd_data_5min = btc_usd_data_5min.dropna()\n",
        "# print(\"dataframe shape: \",btc_usd_data_5min.shape)\n",
        "# btc_usd_data_5min.head()"
      ],
      "id": "1ca91ffe",
      "execution_count": null,
      "outputs": []
    },
    {
      "cell_type": "markdown",
      "metadata": {
        "id": "398a65ab"
      },
      "source": [
        "## Resampling 15min interval dataset"
      ],
      "id": "398a65ab"
    },
    {
      "cell_type": "code",
      "metadata": {
        "id": "6829888d"
      },
      "source": [
        "# btc_usd_data_15min = pd.DataFrame()\n",
        "# btc_usd_data_15min['open_15min'] = 0\n",
        "# btc_usd_data_15min['close_15min'] = 0\n",
        "# btc_usd_data_15min['high_15min'] = 0\n",
        "# btc_usd_data_15min['low_15min'] = 0\n",
        "# btc_usd_data_15min['volume_15min'] = 0\n",
        "# btc_usd_data_15min['open_15min'] = btc_usd_data_1min['open_1min'].resample('15T',label='right').mean()\n",
        "# btc_usd_data_15min['close_15min'] = btc_usd_data_1min['close_1min'].resample('15T',label='right').mean()\n",
        "# btc_usd_data_15min['high_15min'] = btc_usd_data_1min['high_1min'].resample('15T',label='right').max()\n",
        "# btc_usd_data_15min['low_15min'] = btc_usd_data_1min['low_1min'].resample('15T',label='right').min()\n",
        "# btc_usd_data_15min['volume_15min'] = btc_usd_data_1min['volume_1min'].resample('15T',label='right').sum()\n",
        "# btc_usd_data_15min = btc_usd_data_15min.dropna()\n",
        "# print(\"dataframe shape: \",btc_usd_data_15min.shape)\n",
        "# btc_usd_data_15min.head()"
      ],
      "id": "6829888d",
      "execution_count": null,
      "outputs": []
    },
    {
      "cell_type": "markdown",
      "metadata": {
        "id": "3078c5d8"
      },
      "source": [
        "## Resampling 30min interval dataset"
      ],
      "id": "3078c5d8"
    },
    {
      "cell_type": "code",
      "metadata": {
        "id": "4154a68e"
      },
      "source": [
        "# btc_usd_data_30min = pd.DataFrame()\n",
        "# btc_usd_data_30min['open_30min'] = 0\n",
        "# btc_usd_data_30min['close_30min'] = 0\n",
        "# btc_usd_data_30min['high_30min'] = 0\n",
        "# btc_usd_data_30min['low_30min'] = 0\n",
        "# btc_usd_data_30min['volume_30min'] = 0\n",
        "# btc_usd_data_30min['open_30min'] = btc_usd_data_1min['open_1min'].resample('30T',label='right').mean()\n",
        "# btc_usd_data_30min['close_30min'] = btc_usd_data_1min['close_1min'].resample('30T',label='right').mean()\n",
        "# btc_usd_data_30min['high_30min'] = btc_usd_data_1min['high_1min'].resample('30T',label='right').max()\n",
        "# btc_usd_data_30min['low_30min'] = btc_usd_data_1min['low_1min'].resample('30T',label='right').min()\n",
        "# btc_usd_data_30min['volume_30min'] = btc_usd_data_1min['volume_1min'].resample('30T',label='right').sum()\n",
        "# btc_usd_data_30min = btc_usd_data_30min.dropna()\n",
        "# print(\"dataframe shape: \",btc_usd_data_30min.shape)\n",
        "# btc_usd_data_30min.head()"
      ],
      "id": "4154a68e",
      "execution_count": null,
      "outputs": []
    },
    {
      "cell_type": "markdown",
      "metadata": {
        "id": "178951b4"
      },
      "source": [
        "## Resampling 60min interval dataset"
      ],
      "id": "178951b4"
    },
    {
      "cell_type": "code",
      "metadata": {
        "id": "f7a92ca5"
      },
      "source": [
        "# btc_usd_data_60min = pd.DataFrame()\n",
        "# btc_usd_data_60min['open_60min'] = 0\n",
        "# btc_usd_data_60min['close_60min'] = 0\n",
        "# btc_usd_data_60min['high_60min'] = 0\n",
        "# btc_usd_data_60min['low_60min'] = 0\n",
        "# btc_usd_data_60min['volume_60min'] = 0\n",
        "# btc_usd_data_60min['open_60min'] = btc_usd_data_1min['open_1min'].resample('60T',label='right').mean()\n",
        "# btc_usd_data_60min['close_60min'] = btc_usd_data_1min['close_1min'].resample('60T',label='right').mean()\n",
        "# btc_usd_data_60min['high_60min'] = btc_usd_data_1min['high_1min'].resample('60T',label='right').max()\n",
        "# btc_usd_data_60min['low_60min'] = btc_usd_data_1min['low_1min'].resample('60T',label='right').min()\n",
        "# btc_usd_data_60min['volume_60min'] = btc_usd_data_1min['volume_1min'].resample('60T',label='right').sum()\n",
        "# btc_usd_data_60min = btc_usd_data_60min.dropna()\n",
        "# print(\"dataframe shape: \",btc_usd_data_60min.shape)\n",
        "# btc_usd_data_60min.head()"
      ],
      "id": "f7a92ca5",
      "execution_count": null,
      "outputs": []
    },
    {
      "cell_type": "markdown",
      "metadata": {
        "id": "95de4deb"
      },
      "source": [
        "### Resampling 120min interval dataset"
      ],
      "id": "95de4deb"
    },
    {
      "cell_type": "code",
      "metadata": {
        "id": "18052a05",
        "outputId": "eeb1b6f2-e3e9-4147-c59c-e13b6a484bce"
      },
      "source": [
        "btc_usd_data_120min = pd.DataFrame()\n",
        "btc_usd_data_120min['open_120min'] = 0\n",
        "btc_usd_data_120min['close_120min'] = 0\n",
        "btc_usd_data_120min['high_120min'] = 0\n",
        "btc_usd_data_120min['low_120min'] = 0\n",
        "btc_usd_data_120min['volume_120min'] = 0\n",
        "btc_usd_data_120min['open_120min'] = btc_usd_data_1min['open_1min'].resample('120T',label='right').mean()\n",
        "btc_usd_data_120min['close_120min'] = btc_usd_data_1min['close_1min'].resample('120T',label='right').mean()\n",
        "btc_usd_data_120min['high_120min'] = btc_usd_data_1min['high_1min'].resample('120T',label='right').max()\n",
        "btc_usd_data_120min['low_120min'] = btc_usd_data_1min['low_1min'].resample('120T',label='right').min()\n",
        "btc_usd_data_120min['volume_120min'] = btc_usd_data_1min['volume_1min'].resample('120T',label='right').sum()\n",
        "btc_usd_data_120min = btc_usd_data_120min.dropna()\n",
        "print(\"dataframe shape: \",btc_usd_data_120min.shape)\n",
        "btc_usd_data_120min.head()"
      ],
      "id": "18052a05",
      "execution_count": null,
      "outputs": [
        {
          "name": "stdout",
          "output_type": "stream",
          "text": [
            "dataframe shape:  (24279, 5)\n"
          ]
        },
        {
          "data": {
            "text/html": [
              "<div>\n",
              "<style scoped>\n",
              "    .dataframe tbody tr th:only-of-type {\n",
              "        vertical-align: middle;\n",
              "    }\n",
              "\n",
              "    .dataframe tbody tr th {\n",
              "        vertical-align: top;\n",
              "    }\n",
              "\n",
              "    .dataframe thead th {\n",
              "        text-align: right;\n",
              "    }\n",
              "</style>\n",
              "<table border=\"1\" class=\"dataframe\">\n",
              "  <thead>\n",
              "    <tr style=\"text-align: right;\">\n",
              "      <th></th>\n",
              "      <th>open_120min</th>\n",
              "      <th>close_120min</th>\n",
              "      <th>high_120min</th>\n",
              "      <th>low_120min</th>\n",
              "      <th>volume_120min</th>\n",
              "    </tr>\n",
              "    <tr>\n",
              "      <th>date_time</th>\n",
              "      <th></th>\n",
              "      <th></th>\n",
              "      <th></th>\n",
              "      <th></th>\n",
              "      <th></th>\n",
              "    </tr>\n",
              "  </thead>\n",
              "  <tbody>\n",
              "    <tr>\n",
              "      <th>2016-03-09 18:00:00</th>\n",
              "      <td>10.747000</td>\n",
              "      <td>10.6470</td>\n",
              "      <td>11.197</td>\n",
              "      <td>10.097</td>\n",
              "      <td>0.040000</td>\n",
              "    </tr>\n",
              "    <tr>\n",
              "      <th>2016-03-09 20:00:00</th>\n",
              "      <td>11.097000</td>\n",
              "      <td>11.0970</td>\n",
              "      <td>11.097</td>\n",
              "      <td>11.097</td>\n",
              "      <td>0.020000</td>\n",
              "    </tr>\n",
              "    <tr>\n",
              "      <th>2016-03-09 22:00:00</th>\n",
              "      <td>10.951250</td>\n",
              "      <td>10.9805</td>\n",
              "      <td>11.197</td>\n",
              "      <td>10.660</td>\n",
              "      <td>41.109523</td>\n",
              "    </tr>\n",
              "    <tr>\n",
              "      <th>2016-03-10 18:00:00</th>\n",
              "      <td>11.557333</td>\n",
              "      <td>11.5240</td>\n",
              "      <td>11.850</td>\n",
              "      <td>11.072</td>\n",
              "      <td>1.030000</td>\n",
              "    </tr>\n",
              "    <tr>\n",
              "      <th>2016-03-11 12:00:00</th>\n",
              "      <td>11.850000</td>\n",
              "      <td>11.8500</td>\n",
              "      <td>11.850</td>\n",
              "      <td>11.850</td>\n",
              "      <td>0.030000</td>\n",
              "    </tr>\n",
              "  </tbody>\n",
              "</table>\n",
              "</div>"
            ],
            "text/plain": [
              "                     open_120min  close_120min  high_120min  low_120min  \\\n",
              "date_time                                                                 \n",
              "2016-03-09 18:00:00    10.747000       10.6470       11.197      10.097   \n",
              "2016-03-09 20:00:00    11.097000       11.0970       11.097      11.097   \n",
              "2016-03-09 22:00:00    10.951250       10.9805       11.197      10.660   \n",
              "2016-03-10 18:00:00    11.557333       11.5240       11.850      11.072   \n",
              "2016-03-11 12:00:00    11.850000       11.8500       11.850      11.850   \n",
              "\n",
              "                     volume_120min  \n",
              "date_time                           \n",
              "2016-03-09 18:00:00       0.040000  \n",
              "2016-03-09 20:00:00       0.020000  \n",
              "2016-03-09 22:00:00      41.109523  \n",
              "2016-03-10 18:00:00       1.030000  \n",
              "2016-03-11 12:00:00       0.030000  "
            ]
          },
          "execution_count": 27,
          "metadata": {},
          "output_type": "execute_result"
        }
      ]
    },
    {
      "cell_type": "markdown",
      "metadata": {
        "id": "3536c4cd"
      },
      "source": [
        "## Resampling 240min interval dataset"
      ],
      "id": "3536c4cd"
    },
    {
      "cell_type": "code",
      "metadata": {
        "id": "d46660a7"
      },
      "source": [
        "# btc_usd_data_240min = pd.DataFrame()\n",
        "# btc_usd_data_240min['open_240min'] = 0\n",
        "# btc_usd_data_240min['close_240min'] = 0\n",
        "# btc_usd_data_240min['high_240min'] = 0\n",
        "# btc_usd_data_240min['low_240min'] = 0\n",
        "# btc_usd_data_240min['volume_240min'] = 0\n",
        "# btc_usd_data_240min['open_240min'] = btc_usd_data_1min['open_1min'].resample('240T',label='right').mean()\n",
        "# btc_usd_data_240min['close_240min'] = btc_usd_data_1min['close_1min'].resample('240T',label='right').mean()\n",
        "# btc_usd_data_240min['high_240min'] = btc_usd_data_1min['high_1min'].resample('240T',label='right').max()\n",
        "# btc_usd_data_240min['low_240min'] = btc_usd_data_1min['low_1min'].resample('240T',label='right').min()\n",
        "# btc_usd_data_240min['volume_240min'] = btc_usd_data_1min['volume_1min'].resample('240T',label='right').sum()\n",
        "# btc_usd_data_240min = btc_usd_data_240min.dropna()\n",
        "# print(\"dataframe shape: \",btc_usd_data_240min.shape)\n",
        "# btc_usd_data_240min.head()"
      ],
      "id": "d46660a7",
      "execution_count": null,
      "outputs": []
    },
    {
      "cell_type": "code",
      "metadata": {
        "id": "0675b325"
      },
      "source": [
        "# btc_usd_data_240min.isnull().sum()"
      ],
      "id": "0675b325",
      "execution_count": null,
      "outputs": []
    },
    {
      "cell_type": "markdown",
      "metadata": {
        "id": "5717b9fa"
      },
      "source": [
        "## Generating and adding all technical analysis features in 120 min dataset"
      ],
      "id": "5717b9fa"
    },
    {
      "cell_type": "code",
      "metadata": {
        "id": "8b053542",
        "outputId": "02afffa2-2281-435b-d8ad-dccc9015dd88"
      },
      "source": [
        "btc_usd_data_120min = ta.add_all_ta_features(btc_usd_data_120min, open=\"open_120min\", high=\"high_120min\", low=\"low_120min\", close=\"close_120min\", volume=\"volume_120min\", fillna=True)\n",
        "btc_usd_data_120min.head()"
      ],
      "id": "8b053542",
      "execution_count": null,
      "outputs": [
        {
          "data": {
            "text/html": [
              "<div>\n",
              "<style scoped>\n",
              "    .dataframe tbody tr th:only-of-type {\n",
              "        vertical-align: middle;\n",
              "    }\n",
              "\n",
              "    .dataframe tbody tr th {\n",
              "        vertical-align: top;\n",
              "    }\n",
              "\n",
              "    .dataframe thead th {\n",
              "        text-align: right;\n",
              "    }\n",
              "</style>\n",
              "<table border=\"1\" class=\"dataframe\">\n",
              "  <thead>\n",
              "    <tr style=\"text-align: right;\">\n",
              "      <th></th>\n",
              "      <th>open_120min</th>\n",
              "      <th>close_120min</th>\n",
              "      <th>high_120min</th>\n",
              "      <th>low_120min</th>\n",
              "      <th>volume_120min</th>\n",
              "      <th>volume_adi</th>\n",
              "      <th>volume_obv</th>\n",
              "      <th>volume_cmf</th>\n",
              "      <th>volume_fi</th>\n",
              "      <th>volume_mfi</th>\n",
              "      <th>...</th>\n",
              "      <th>momentum_wr</th>\n",
              "      <th>momentum_ao</th>\n",
              "      <th>momentum_kama</th>\n",
              "      <th>momentum_roc</th>\n",
              "      <th>momentum_ppo</th>\n",
              "      <th>momentum_ppo_signal</th>\n",
              "      <th>momentum_ppo_hist</th>\n",
              "      <th>others_dr</th>\n",
              "      <th>others_dlr</th>\n",
              "      <th>others_cr</th>\n",
              "    </tr>\n",
              "    <tr>\n",
              "      <th>date_time</th>\n",
              "      <th></th>\n",
              "      <th></th>\n",
              "      <th></th>\n",
              "      <th></th>\n",
              "      <th></th>\n",
              "      <th></th>\n",
              "      <th></th>\n",
              "      <th></th>\n",
              "      <th></th>\n",
              "      <th></th>\n",
              "      <th></th>\n",
              "      <th></th>\n",
              "      <th></th>\n",
              "      <th></th>\n",
              "      <th></th>\n",
              "      <th></th>\n",
              "      <th></th>\n",
              "      <th></th>\n",
              "      <th></th>\n",
              "      <th></th>\n",
              "      <th></th>\n",
              "    </tr>\n",
              "  </thead>\n",
              "  <tbody>\n",
              "    <tr>\n",
              "      <th>2016-03-09 18:00:00</th>\n",
              "      <td>10.747000</td>\n",
              "      <td>10.6470</td>\n",
              "      <td>11.197</td>\n",
              "      <td>10.097</td>\n",
              "      <td>0.040000</td>\n",
              "      <td>-6.459479e-17</td>\n",
              "      <td>0.040000</td>\n",
              "      <td>-1.614870e-15</td>\n",
              "      <td>0.000000</td>\n",
              "      <td>50.000000</td>\n",
              "      <td>...</td>\n",
              "      <td>-50.000000</td>\n",
              "      <td>0.0</td>\n",
              "      <td>10.647000</td>\n",
              "      <td>0.0</td>\n",
              "      <td>0.000000</td>\n",
              "      <td>0.000000</td>\n",
              "      <td>0.000000</td>\n",
              "      <td>-98.390201</td>\n",
              "      <td>0.000000</td>\n",
              "      <td>0.000000</td>\n",
              "    </tr>\n",
              "    <tr>\n",
              "      <th>2016-03-09 20:00:00</th>\n",
              "      <td>11.097000</td>\n",
              "      <td>11.0970</td>\n",
              "      <td>11.097</td>\n",
              "      <td>11.097</td>\n",
              "      <td>0.020000</td>\n",
              "      <td>-6.459479e-17</td>\n",
              "      <td>0.060000</td>\n",
              "      <td>-1.076580e-15</td>\n",
              "      <td>0.009000</td>\n",
              "      <td>100.000000</td>\n",
              "      <td>...</td>\n",
              "      <td>-9.090909</td>\n",
              "      <td>0.0</td>\n",
              "      <td>10.870646</td>\n",
              "      <td>0.0</td>\n",
              "      <td>-4.142012</td>\n",
              "      <td>-0.828402</td>\n",
              "      <td>-3.313609</td>\n",
              "      <td>4.226543</td>\n",
              "      <td>4.139664</td>\n",
              "      <td>4.226543</td>\n",
              "    </tr>\n",
              "    <tr>\n",
              "      <th>2016-03-09 22:00:00</th>\n",
              "      <td>10.951250</td>\n",
              "      <td>10.9805</td>\n",
              "      <td>11.197</td>\n",
              "      <td>10.660</td>\n",
              "      <td>41.109523</td>\n",
              "      <td>7.961621e+00</td>\n",
              "      <td>-41.049523</td>\n",
              "      <td>1.933863e-01</td>\n",
              "      <td>-0.676466</td>\n",
              "      <td>0.049298</td>\n",
              "      <td>...</td>\n",
              "      <td>-19.681818</td>\n",
              "      <td>0.0</td>\n",
              "      <td>10.924177</td>\n",
              "      <td>0.0</td>\n",
              "      <td>106.302043</td>\n",
              "      <td>20.597687</td>\n",
              "      <td>85.704357</td>\n",
              "      <td>-1.049833</td>\n",
              "      <td>-1.055383</td>\n",
              "      <td>3.132338</td>\n",
              "    </tr>\n",
              "    <tr>\n",
              "      <th>2016-03-10 18:00:00</th>\n",
              "      <td>11.557333</td>\n",
              "      <td>11.5240</td>\n",
              "      <td>11.850</td>\n",
              "      <td>11.072</td>\n",
              "      <td>1.030000</td>\n",
              "      <td>8.128433e+00</td>\n",
              "      <td>-40.019523</td>\n",
              "      <td>1.926191e-01</td>\n",
              "      <td>-0.499856</td>\n",
              "      <td>2.607730</td>\n",
              "      <td>...</td>\n",
              "      <td>-18.596691</td>\n",
              "      <td>0.0</td>\n",
              "      <td>11.210511</td>\n",
              "      <td>0.0</td>\n",
              "      <td>89.027540</td>\n",
              "      <td>34.283657</td>\n",
              "      <td>54.743883</td>\n",
              "      <td>4.949684</td>\n",
              "      <td>4.831084</td>\n",
              "      <td>8.237062</td>\n",
              "    </tr>\n",
              "    <tr>\n",
              "      <th>2016-03-11 12:00:00</th>\n",
              "      <td>11.850000</td>\n",
              "      <td>11.8500</td>\n",
              "      <td>11.850</td>\n",
              "      <td>11.850</td>\n",
              "      <td>0.030000</td>\n",
              "      <td>8.128433e+00</td>\n",
              "      <td>-39.989523</td>\n",
              "      <td>1.924822e-01</td>\n",
              "      <td>-0.427050</td>\n",
              "      <td>2.682609</td>\n",
              "      <td>...</td>\n",
              "      <td>-0.000000</td>\n",
              "      <td>0.0</td>\n",
              "      <td>11.490809</td>\n",
              "      <td>0.0</td>\n",
              "      <td>72.770706</td>\n",
              "      <td>41.981067</td>\n",
              "      <td>30.789639</td>\n",
              "      <td>2.828879</td>\n",
              "      <td>2.789605</td>\n",
              "      <td>11.298957</td>\n",
              "    </tr>\n",
              "  </tbody>\n",
              "</table>\n",
              "<p>5 rows × 88 columns</p>\n",
              "</div>"
            ],
            "text/plain": [
              "                     open_120min  close_120min  high_120min  low_120min  \\\n",
              "date_time                                                                 \n",
              "2016-03-09 18:00:00    10.747000       10.6470       11.197      10.097   \n",
              "2016-03-09 20:00:00    11.097000       11.0970       11.097      11.097   \n",
              "2016-03-09 22:00:00    10.951250       10.9805       11.197      10.660   \n",
              "2016-03-10 18:00:00    11.557333       11.5240       11.850      11.072   \n",
              "2016-03-11 12:00:00    11.850000       11.8500       11.850      11.850   \n",
              "\n",
              "                     volume_120min    volume_adi  volume_obv    volume_cmf  \\\n",
              "date_time                                                                    \n",
              "2016-03-09 18:00:00       0.040000 -6.459479e-17    0.040000 -1.614870e-15   \n",
              "2016-03-09 20:00:00       0.020000 -6.459479e-17    0.060000 -1.076580e-15   \n",
              "2016-03-09 22:00:00      41.109523  7.961621e+00  -41.049523  1.933863e-01   \n",
              "2016-03-10 18:00:00       1.030000  8.128433e+00  -40.019523  1.926191e-01   \n",
              "2016-03-11 12:00:00       0.030000  8.128433e+00  -39.989523  1.924822e-01   \n",
              "\n",
              "                     volume_fi  volume_mfi  ...  momentum_wr  momentum_ao  \\\n",
              "date_time                                   ...                             \n",
              "2016-03-09 18:00:00   0.000000   50.000000  ...   -50.000000          0.0   \n",
              "2016-03-09 20:00:00   0.009000  100.000000  ...    -9.090909          0.0   \n",
              "2016-03-09 22:00:00  -0.676466    0.049298  ...   -19.681818          0.0   \n",
              "2016-03-10 18:00:00  -0.499856    2.607730  ...   -18.596691          0.0   \n",
              "2016-03-11 12:00:00  -0.427050    2.682609  ...    -0.000000          0.0   \n",
              "\n",
              "                     momentum_kama  momentum_roc  momentum_ppo  \\\n",
              "date_time                                                        \n",
              "2016-03-09 18:00:00      10.647000           0.0      0.000000   \n",
              "2016-03-09 20:00:00      10.870646           0.0     -4.142012   \n",
              "2016-03-09 22:00:00      10.924177           0.0    106.302043   \n",
              "2016-03-10 18:00:00      11.210511           0.0     89.027540   \n",
              "2016-03-11 12:00:00      11.490809           0.0     72.770706   \n",
              "\n",
              "                     momentum_ppo_signal  momentum_ppo_hist  others_dr  \\\n",
              "date_time                                                                \n",
              "2016-03-09 18:00:00             0.000000           0.000000 -98.390201   \n",
              "2016-03-09 20:00:00            -0.828402          -3.313609   4.226543   \n",
              "2016-03-09 22:00:00            20.597687          85.704357  -1.049833   \n",
              "2016-03-10 18:00:00            34.283657          54.743883   4.949684   \n",
              "2016-03-11 12:00:00            41.981067          30.789639   2.828879   \n",
              "\n",
              "                     others_dlr  others_cr  \n",
              "date_time                                   \n",
              "2016-03-09 18:00:00    0.000000   0.000000  \n",
              "2016-03-09 20:00:00    4.139664   4.226543  \n",
              "2016-03-09 22:00:00   -1.055383   3.132338  \n",
              "2016-03-10 18:00:00    4.831084   8.237062  \n",
              "2016-03-11 12:00:00    2.789605  11.298957  \n",
              "\n",
              "[5 rows x 88 columns]"
            ]
          },
          "execution_count": 30,
          "metadata": {},
          "output_type": "execute_result"
        }
      ]
    },
    {
      "cell_type": "code",
      "metadata": {
        "id": "8e6de630",
        "outputId": "cba1ec8f-774f-478e-f080-a136494ba1c8"
      },
      "source": [
        "btc_usd_data_120min.isnull().sum()"
      ],
      "id": "8e6de630",
      "execution_count": null,
      "outputs": [
        {
          "data": {
            "text/plain": [
              "open_120min            0\n",
              "close_120min           0\n",
              "high_120min            0\n",
              "low_120min             0\n",
              "volume_120min          0\n",
              "                      ..\n",
              "momentum_ppo_signal    0\n",
              "momentum_ppo_hist      0\n",
              "others_dr              0\n",
              "others_dlr             0\n",
              "others_cr              0\n",
              "Length: 88, dtype: int64"
            ]
          },
          "execution_count": 31,
          "metadata": {},
          "output_type": "execute_result"
        }
      ]
    },
    {
      "cell_type": "markdown",
      "metadata": {
        "id": "a5b5a134"
      },
      "source": [
        "## Generating and adding all technical analysis features in 240 min dataset"
      ],
      "id": "a5b5a134"
    },
    {
      "cell_type": "code",
      "metadata": {
        "id": "6d0fff51"
      },
      "source": [
        "# btc_usd_data_240min = ta.add_all_ta_features(btc_usd_data_240min, open=\"open_240min\", high=\"high_240min\", low=\"low_240min\", close=\"close_240min\", volume=\"volume_240min\", fillna=True)\n",
        "# btc_usd_data_240min.head()"
      ],
      "id": "6d0fff51",
      "execution_count": null,
      "outputs": []
    },
    {
      "cell_type": "code",
      "metadata": {
        "id": "a287daa5"
      },
      "source": [
        "# btc_usd_data_240min.isnull().sum()"
      ],
      "id": "a287daa5",
      "execution_count": null,
      "outputs": []
    },
    {
      "cell_type": "markdown",
      "metadata": {
        "id": "6aae3c06"
      },
      "source": [
        "## Generating and adding all technical analysis features in 60 min dataset"
      ],
      "id": "6aae3c06"
    },
    {
      "cell_type": "code",
      "metadata": {
        "id": "c84568b2"
      },
      "source": [
        "# btc_usd_data_60min = ta.add_all_ta_features(btc_usd_data_60min, open=\"open_60min\", high=\"high_60min\", low=\"low_60min\", close=\"close_60min\", volume=\"volume_60min\", fillna=True)\n",
        "# btc_usd_data_60min.head()"
      ],
      "id": "c84568b2",
      "execution_count": null,
      "outputs": []
    },
    {
      "cell_type": "markdown",
      "metadata": {
        "id": "d06e490b"
      },
      "source": [
        "## Adding Google trends features into dataset"
      ],
      "id": "d06e490b"
    },
    {
      "cell_type": "code",
      "metadata": {
        "id": "fbaa7a30"
      },
      "source": [
        "btc_hourly_trend_data_2015_18 = btc_hourly_trend_data_2016_15.append(btc_hourly_trend_data_2018_17)\n",
        "btc_hourly_trend_data_2015_21 = btc_hourly_trend_data_2015_18.append(btc_hourly_trend_data_2021_19)"
      ],
      "id": "fbaa7a30",
      "execution_count": null,
      "outputs": []
    },
    {
      "cell_type": "code",
      "metadata": {
        "id": "4b60aefd",
        "outputId": "084f4418-61ee-46b9-9538-5cdf82827062"
      },
      "source": [
        "btc_hourly_trend_data_2015_21.head()"
      ],
      "id": "4b60aefd",
      "execution_count": null,
      "outputs": [
        {
          "data": {
            "text/html": [
              "<div>\n",
              "<style scoped>\n",
              "    .dataframe tbody tr th:only-of-type {\n",
              "        vertical-align: middle;\n",
              "    }\n",
              "\n",
              "    .dataframe tbody tr th {\n",
              "        vertical-align: top;\n",
              "    }\n",
              "\n",
              "    .dataframe thead th {\n",
              "        text-align: right;\n",
              "    }\n",
              "</style>\n",
              "<table border=\"1\" class=\"dataframe\">\n",
              "  <thead>\n",
              "    <tr style=\"text-align: right;\">\n",
              "      <th></th>\n",
              "      <th>bitcoin</th>\n",
              "      <th>ethereum</th>\n",
              "      <th>crypto</th>\n",
              "      <th>cryptocurrency</th>\n",
              "      <th>blockchain</th>\n",
              "      <th>isPartial</th>\n",
              "    </tr>\n",
              "    <tr>\n",
              "      <th>date_time</th>\n",
              "      <th></th>\n",
              "      <th></th>\n",
              "      <th></th>\n",
              "      <th></th>\n",
              "      <th></th>\n",
              "      <th></th>\n",
              "    </tr>\n",
              "  </thead>\n",
              "  <tbody>\n",
              "    <tr>\n",
              "      <th>2015-01-01 00:00:00</th>\n",
              "      <td>66</td>\n",
              "      <td>0</td>\n",
              "      <td>3</td>\n",
              "      <td>1</td>\n",
              "      <td>1</td>\n",
              "      <td>False</td>\n",
              "    </tr>\n",
              "    <tr>\n",
              "      <th>2015-01-01 01:00:00</th>\n",
              "      <td>49</td>\n",
              "      <td>0</td>\n",
              "      <td>2</td>\n",
              "      <td>0</td>\n",
              "      <td>1</td>\n",
              "      <td>False</td>\n",
              "    </tr>\n",
              "    <tr>\n",
              "      <th>2015-01-01 02:00:00</th>\n",
              "      <td>56</td>\n",
              "      <td>0</td>\n",
              "      <td>2</td>\n",
              "      <td>0</td>\n",
              "      <td>1</td>\n",
              "      <td>False</td>\n",
              "    </tr>\n",
              "    <tr>\n",
              "      <th>2015-01-01 03:00:00</th>\n",
              "      <td>52</td>\n",
              "      <td>0</td>\n",
              "      <td>2</td>\n",
              "      <td>1</td>\n",
              "      <td>1</td>\n",
              "      <td>False</td>\n",
              "    </tr>\n",
              "    <tr>\n",
              "      <th>2015-01-01 04:00:00</th>\n",
              "      <td>53</td>\n",
              "      <td>0</td>\n",
              "      <td>2</td>\n",
              "      <td>1</td>\n",
              "      <td>1</td>\n",
              "      <td>False</td>\n",
              "    </tr>\n",
              "  </tbody>\n",
              "</table>\n",
              "</div>"
            ],
            "text/plain": [
              "                     bitcoin  ethereum  crypto  cryptocurrency  blockchain  \\\n",
              "date_time                                                                    \n",
              "2015-01-01 00:00:00       66         0       3               1           1   \n",
              "2015-01-01 01:00:00       49         0       2               0           1   \n",
              "2015-01-01 02:00:00       56         0       2               0           1   \n",
              "2015-01-01 03:00:00       52         0       2               1           1   \n",
              "2015-01-01 04:00:00       53         0       2               1           1   \n",
              "\n",
              "                     isPartial  \n",
              "date_time                       \n",
              "2015-01-01 00:00:00      False  \n",
              "2015-01-01 01:00:00      False  \n",
              "2015-01-01 02:00:00      False  \n",
              "2015-01-01 03:00:00      False  \n",
              "2015-01-01 04:00:00      False  "
            ]
          },
          "execution_count": 36,
          "metadata": {},
          "output_type": "execute_result"
        }
      ]
    },
    {
      "cell_type": "code",
      "metadata": {
        "id": "6e7a5cbf",
        "outputId": "0bae79ff-4cbe-46d1-b043-e4f27ecabe63"
      },
      "source": [
        "btc_hourly_trend_data_2015_21.tail()"
      ],
      "id": "6e7a5cbf",
      "execution_count": null,
      "outputs": [
        {
          "data": {
            "text/html": [
              "<div>\n",
              "<style scoped>\n",
              "    .dataframe tbody tr th:only-of-type {\n",
              "        vertical-align: middle;\n",
              "    }\n",
              "\n",
              "    .dataframe tbody tr th {\n",
              "        vertical-align: top;\n",
              "    }\n",
              "\n",
              "    .dataframe thead th {\n",
              "        text-align: right;\n",
              "    }\n",
              "</style>\n",
              "<table border=\"1\" class=\"dataframe\">\n",
              "  <thead>\n",
              "    <tr style=\"text-align: right;\">\n",
              "      <th></th>\n",
              "      <th>bitcoin</th>\n",
              "      <th>ethereum</th>\n",
              "      <th>crypto</th>\n",
              "      <th>cryptocurrency</th>\n",
              "      <th>blockchain</th>\n",
              "      <th>isPartial</th>\n",
              "    </tr>\n",
              "    <tr>\n",
              "      <th>date_time</th>\n",
              "      <th></th>\n",
              "      <th></th>\n",
              "      <th></th>\n",
              "      <th></th>\n",
              "      <th></th>\n",
              "      <th></th>\n",
              "    </tr>\n",
              "  </thead>\n",
              "  <tbody>\n",
              "    <tr>\n",
              "      <th>2021-06-17 19:00:00</th>\n",
              "      <td>54</td>\n",
              "      <td>11</td>\n",
              "      <td>16</td>\n",
              "      <td>4</td>\n",
              "      <td>3</td>\n",
              "      <td>False</td>\n",
              "    </tr>\n",
              "    <tr>\n",
              "      <th>2021-06-17 20:00:00</th>\n",
              "      <td>55</td>\n",
              "      <td>12</td>\n",
              "      <td>17</td>\n",
              "      <td>4</td>\n",
              "      <td>3</td>\n",
              "      <td>False</td>\n",
              "    </tr>\n",
              "    <tr>\n",
              "      <th>2021-06-17 21:00:00</th>\n",
              "      <td>55</td>\n",
              "      <td>12</td>\n",
              "      <td>18</td>\n",
              "      <td>5</td>\n",
              "      <td>3</td>\n",
              "      <td>False</td>\n",
              "    </tr>\n",
              "    <tr>\n",
              "      <th>2021-06-17 22:00:00</th>\n",
              "      <td>51</td>\n",
              "      <td>12</td>\n",
              "      <td>19</td>\n",
              "      <td>5</td>\n",
              "      <td>3</td>\n",
              "      <td>False</td>\n",
              "    </tr>\n",
              "    <tr>\n",
              "      <th>2021-06-17 23:00:00</th>\n",
              "      <td>47</td>\n",
              "      <td>11</td>\n",
              "      <td>17</td>\n",
              "      <td>5</td>\n",
              "      <td>3</td>\n",
              "      <td>False</td>\n",
              "    </tr>\n",
              "  </tbody>\n",
              "</table>\n",
              "</div>"
            ],
            "text/plain": [
              "                     bitcoin  ethereum  crypto  cryptocurrency  blockchain  \\\n",
              "date_time                                                                    \n",
              "2021-06-17 19:00:00       54        11      16               4           3   \n",
              "2021-06-17 20:00:00       55        12      17               4           3   \n",
              "2021-06-17 21:00:00       55        12      18               5           3   \n",
              "2021-06-17 22:00:00       51        12      19               5           3   \n",
              "2021-06-17 23:00:00       47        11      17               5           3   \n",
              "\n",
              "                     isPartial  \n",
              "date_time                       \n",
              "2021-06-17 19:00:00      False  \n",
              "2021-06-17 20:00:00      False  \n",
              "2021-06-17 21:00:00      False  \n",
              "2021-06-17 22:00:00      False  \n",
              "2021-06-17 23:00:00      False  "
            ]
          },
          "execution_count": 37,
          "metadata": {},
          "output_type": "execute_result"
        }
      ]
    },
    {
      "cell_type": "code",
      "metadata": {
        "id": "21af1f25"
      },
      "source": [
        "btc_hourly_trend_data_2015_21 = btc_hourly_trend_data_2015_21.drop(['isPartial'],axis=1)\n",
        "btc_hourly_trend_data_2015_21[\"overall_trend_sum\"] = btc_hourly_trend_data_2015_21[\"blockchain\"]+btc_hourly_trend_data_2015_21[\"cryptocurrency\"]+btc_hourly_trend_data_2015_21[\"crypto\"]+btc_hourly_trend_data_2015_21[\"bitcoin\"]+btc_hourly_trend_data_2015_21[\"ethereum\"]"
      ],
      "id": "21af1f25",
      "execution_count": null,
      "outputs": []
    },
    {
      "cell_type": "markdown",
      "metadata": {
        "id": "46238958"
      },
      "source": [
        "###  60min Google trend dataset to 120min"
      ],
      "id": "46238958"
    },
    {
      "cell_type": "code",
      "metadata": {
        "id": "126b08d0"
      },
      "source": [
        "btc_2hourly_trend_data = pd.DataFrame()\n",
        "btc_2hourly_trend_data['bitcoin'] = 0\n",
        "btc_2hourly_trend_data['ethereum'] = 0\n",
        "btc_2hourly_trend_data['crypto'] = 0\n",
        "btc_2hourly_trend_data['cryptocurrency'] = 0\n",
        "btc_2hourly_trend_data['blockchain'] = 0\n",
        "btc_2hourly_trend_data['overall_trend_sum'] = 0\n",
        "btc_2hourly_trend_data['bitcoin'] = btc_hourly_trend_data_2015_21['bitcoin'].resample('120T',label='right').sum()\n",
        "btc_2hourly_trend_data['ethereum'] = btc_hourly_trend_data_2015_21['ethereum'].resample('120T',label='right').sum()\n",
        "btc_2hourly_trend_data['crypto'] = btc_hourly_trend_data_2015_21['crypto'].resample('120T',label='right').sum()\n",
        "btc_2hourly_trend_data['cryptocurrency'] = btc_hourly_trend_data_2015_21['cryptocurrency'].resample('120T',label='right').sum()\n",
        "btc_2hourly_trend_data['blockchain'] = btc_hourly_trend_data_2015_21['blockchain'].resample('120T',label='right').sum()\n",
        "btc_2hourly_trend_data['overall_trend_sum'] = btc_hourly_trend_data_2015_21['overall_trend_sum'].resample('120T',label='right').sum()"
      ],
      "id": "126b08d0",
      "execution_count": null,
      "outputs": []
    },
    {
      "cell_type": "code",
      "metadata": {
        "id": "f122e782",
        "outputId": "58eb323a-4743-4115-81d6-7f1f2b4aeb5c"
      },
      "source": [
        "btc_2hourly_trend_data.head()"
      ],
      "id": "f122e782",
      "execution_count": null,
      "outputs": [
        {
          "data": {
            "text/html": [
              "<div>\n",
              "<style scoped>\n",
              "    .dataframe tbody tr th:only-of-type {\n",
              "        vertical-align: middle;\n",
              "    }\n",
              "\n",
              "    .dataframe tbody tr th {\n",
              "        vertical-align: top;\n",
              "    }\n",
              "\n",
              "    .dataframe thead th {\n",
              "        text-align: right;\n",
              "    }\n",
              "</style>\n",
              "<table border=\"1\" class=\"dataframe\">\n",
              "  <thead>\n",
              "    <tr style=\"text-align: right;\">\n",
              "      <th></th>\n",
              "      <th>bitcoin</th>\n",
              "      <th>ethereum</th>\n",
              "      <th>crypto</th>\n",
              "      <th>cryptocurrency</th>\n",
              "      <th>blockchain</th>\n",
              "      <th>overall_trend_sum</th>\n",
              "    </tr>\n",
              "    <tr>\n",
              "      <th>date_time</th>\n",
              "      <th></th>\n",
              "      <th></th>\n",
              "      <th></th>\n",
              "      <th></th>\n",
              "      <th></th>\n",
              "      <th></th>\n",
              "    </tr>\n",
              "  </thead>\n",
              "  <tbody>\n",
              "    <tr>\n",
              "      <th>2015-01-01 02:00:00</th>\n",
              "      <td>115</td>\n",
              "      <td>0</td>\n",
              "      <td>5</td>\n",
              "      <td>1</td>\n",
              "      <td>2</td>\n",
              "      <td>123</td>\n",
              "    </tr>\n",
              "    <tr>\n",
              "      <th>2015-01-01 04:00:00</th>\n",
              "      <td>108</td>\n",
              "      <td>0</td>\n",
              "      <td>4</td>\n",
              "      <td>1</td>\n",
              "      <td>2</td>\n",
              "      <td>115</td>\n",
              "    </tr>\n",
              "    <tr>\n",
              "      <th>2015-01-01 06:00:00</th>\n",
              "      <td>105</td>\n",
              "      <td>0</td>\n",
              "      <td>4</td>\n",
              "      <td>1</td>\n",
              "      <td>2</td>\n",
              "      <td>112</td>\n",
              "    </tr>\n",
              "    <tr>\n",
              "      <th>2015-01-01 08:00:00</th>\n",
              "      <td>91</td>\n",
              "      <td>0</td>\n",
              "      <td>4</td>\n",
              "      <td>0</td>\n",
              "      <td>2</td>\n",
              "      <td>97</td>\n",
              "    </tr>\n",
              "    <tr>\n",
              "      <th>2015-01-01 10:00:00</th>\n",
              "      <td>79</td>\n",
              "      <td>0</td>\n",
              "      <td>6</td>\n",
              "      <td>1</td>\n",
              "      <td>2</td>\n",
              "      <td>88</td>\n",
              "    </tr>\n",
              "  </tbody>\n",
              "</table>\n",
              "</div>"
            ],
            "text/plain": [
              "                     bitcoin  ethereum  crypto  cryptocurrency  blockchain  \\\n",
              "date_time                                                                    \n",
              "2015-01-01 02:00:00      115         0       5               1           2   \n",
              "2015-01-01 04:00:00      108         0       4               1           2   \n",
              "2015-01-01 06:00:00      105         0       4               1           2   \n",
              "2015-01-01 08:00:00       91         0       4               0           2   \n",
              "2015-01-01 10:00:00       79         0       6               1           2   \n",
              "\n",
              "                     overall_trend_sum  \n",
              "date_time                               \n",
              "2015-01-01 02:00:00                123  \n",
              "2015-01-01 04:00:00                115  \n",
              "2015-01-01 06:00:00                112  \n",
              "2015-01-01 08:00:00                 97  \n",
              "2015-01-01 10:00:00                 88  "
            ]
          },
          "execution_count": 40,
          "metadata": {},
          "output_type": "execute_result"
        }
      ]
    },
    {
      "cell_type": "code",
      "metadata": {
        "id": "47a13060",
        "outputId": "60b9d174-732d-480c-e750-dcc73a24018c"
      },
      "source": [
        "btc_2hourly_trend_data.tail()"
      ],
      "id": "47a13060",
      "execution_count": null,
      "outputs": [
        {
          "data": {
            "text/html": [
              "<div>\n",
              "<style scoped>\n",
              "    .dataframe tbody tr th:only-of-type {\n",
              "        vertical-align: middle;\n",
              "    }\n",
              "\n",
              "    .dataframe tbody tr th {\n",
              "        vertical-align: top;\n",
              "    }\n",
              "\n",
              "    .dataframe thead th {\n",
              "        text-align: right;\n",
              "    }\n",
              "</style>\n",
              "<table border=\"1\" class=\"dataframe\">\n",
              "  <thead>\n",
              "    <tr style=\"text-align: right;\">\n",
              "      <th></th>\n",
              "      <th>bitcoin</th>\n",
              "      <th>ethereum</th>\n",
              "      <th>crypto</th>\n",
              "      <th>cryptocurrency</th>\n",
              "      <th>blockchain</th>\n",
              "      <th>overall_trend_sum</th>\n",
              "    </tr>\n",
              "    <tr>\n",
              "      <th>date_time</th>\n",
              "      <th></th>\n",
              "      <th></th>\n",
              "      <th></th>\n",
              "      <th></th>\n",
              "      <th></th>\n",
              "      <th></th>\n",
              "    </tr>\n",
              "  </thead>\n",
              "  <tbody>\n",
              "    <tr>\n",
              "      <th>2021-06-17 16:00:00</th>\n",
              "      <td>98</td>\n",
              "      <td>21</td>\n",
              "      <td>30</td>\n",
              "      <td>10</td>\n",
              "      <td>6</td>\n",
              "      <td>165</td>\n",
              "    </tr>\n",
              "    <tr>\n",
              "      <th>2021-06-17 18:00:00</th>\n",
              "      <td>101</td>\n",
              "      <td>21</td>\n",
              "      <td>31</td>\n",
              "      <td>10</td>\n",
              "      <td>6</td>\n",
              "      <td>169</td>\n",
              "    </tr>\n",
              "    <tr>\n",
              "      <th>2021-06-17 20:00:00</th>\n",
              "      <td>107</td>\n",
              "      <td>23</td>\n",
              "      <td>32</td>\n",
              "      <td>9</td>\n",
              "      <td>6</td>\n",
              "      <td>177</td>\n",
              "    </tr>\n",
              "    <tr>\n",
              "      <th>2021-06-17 22:00:00</th>\n",
              "      <td>110</td>\n",
              "      <td>24</td>\n",
              "      <td>35</td>\n",
              "      <td>9</td>\n",
              "      <td>6</td>\n",
              "      <td>184</td>\n",
              "    </tr>\n",
              "    <tr>\n",
              "      <th>2021-06-18 00:00:00</th>\n",
              "      <td>98</td>\n",
              "      <td>23</td>\n",
              "      <td>36</td>\n",
              "      <td>10</td>\n",
              "      <td>6</td>\n",
              "      <td>173</td>\n",
              "    </tr>\n",
              "  </tbody>\n",
              "</table>\n",
              "</div>"
            ],
            "text/plain": [
              "                     bitcoin  ethereum  crypto  cryptocurrency  blockchain  \\\n",
              "date_time                                                                    \n",
              "2021-06-17 16:00:00       98        21      30              10           6   \n",
              "2021-06-17 18:00:00      101        21      31              10           6   \n",
              "2021-06-17 20:00:00      107        23      32               9           6   \n",
              "2021-06-17 22:00:00      110        24      35               9           6   \n",
              "2021-06-18 00:00:00       98        23      36              10           6   \n",
              "\n",
              "                     overall_trend_sum  \n",
              "date_time                               \n",
              "2021-06-17 16:00:00                165  \n",
              "2021-06-17 18:00:00                169  \n",
              "2021-06-17 20:00:00                177  \n",
              "2021-06-17 22:00:00                184  \n",
              "2021-06-18 00:00:00                173  "
            ]
          },
          "execution_count": 41,
          "metadata": {},
          "output_type": "execute_result"
        }
      ]
    },
    {
      "cell_type": "code",
      "metadata": {
        "id": "c0901bf0",
        "outputId": "152b81d0-7dfd-431c-fb6c-9385a7632a42"
      },
      "source": [
        "btc_usd_data_120min_googletrend = btc_usd_data_120min.join(btc_2hourly_trend_data)\n",
        "btc_usd_data_120min_googletrend.head()"
      ],
      "id": "c0901bf0",
      "execution_count": null,
      "outputs": [
        {
          "data": {
            "text/html": [
              "<div>\n",
              "<style scoped>\n",
              "    .dataframe tbody tr th:only-of-type {\n",
              "        vertical-align: middle;\n",
              "    }\n",
              "\n",
              "    .dataframe tbody tr th {\n",
              "        vertical-align: top;\n",
              "    }\n",
              "\n",
              "    .dataframe thead th {\n",
              "        text-align: right;\n",
              "    }\n",
              "</style>\n",
              "<table border=\"1\" class=\"dataframe\">\n",
              "  <thead>\n",
              "    <tr style=\"text-align: right;\">\n",
              "      <th></th>\n",
              "      <th>open_120min</th>\n",
              "      <th>close_120min</th>\n",
              "      <th>high_120min</th>\n",
              "      <th>low_120min</th>\n",
              "      <th>volume_120min</th>\n",
              "      <th>volume_adi</th>\n",
              "      <th>volume_obv</th>\n",
              "      <th>volume_cmf</th>\n",
              "      <th>volume_fi</th>\n",
              "      <th>volume_mfi</th>\n",
              "      <th>...</th>\n",
              "      <th>momentum_ppo_hist</th>\n",
              "      <th>others_dr</th>\n",
              "      <th>others_dlr</th>\n",
              "      <th>others_cr</th>\n",
              "      <th>bitcoin</th>\n",
              "      <th>ethereum</th>\n",
              "      <th>crypto</th>\n",
              "      <th>cryptocurrency</th>\n",
              "      <th>blockchain</th>\n",
              "      <th>overall_trend_sum</th>\n",
              "    </tr>\n",
              "    <tr>\n",
              "      <th>date_time</th>\n",
              "      <th></th>\n",
              "      <th></th>\n",
              "      <th></th>\n",
              "      <th></th>\n",
              "      <th></th>\n",
              "      <th></th>\n",
              "      <th></th>\n",
              "      <th></th>\n",
              "      <th></th>\n",
              "      <th></th>\n",
              "      <th></th>\n",
              "      <th></th>\n",
              "      <th></th>\n",
              "      <th></th>\n",
              "      <th></th>\n",
              "      <th></th>\n",
              "      <th></th>\n",
              "      <th></th>\n",
              "      <th></th>\n",
              "      <th></th>\n",
              "      <th></th>\n",
              "    </tr>\n",
              "  </thead>\n",
              "  <tbody>\n",
              "    <tr>\n",
              "      <th>2016-03-09 18:00:00</th>\n",
              "      <td>10.747000</td>\n",
              "      <td>10.6470</td>\n",
              "      <td>11.197</td>\n",
              "      <td>10.097</td>\n",
              "      <td>0.040000</td>\n",
              "      <td>-6.459479e-17</td>\n",
              "      <td>0.040000</td>\n",
              "      <td>-1.614870e-15</td>\n",
              "      <td>0.000000</td>\n",
              "      <td>50.000000</td>\n",
              "      <td>...</td>\n",
              "      <td>0.000000</td>\n",
              "      <td>-98.390201</td>\n",
              "      <td>0.000000</td>\n",
              "      <td>0.000000</td>\n",
              "      <td>144.0</td>\n",
              "      <td>21.0</td>\n",
              "      <td>21.0</td>\n",
              "      <td>4.0</td>\n",
              "      <td>28.0</td>\n",
              "      <td>218.0</td>\n",
              "    </tr>\n",
              "    <tr>\n",
              "      <th>2016-03-09 20:00:00</th>\n",
              "      <td>11.097000</td>\n",
              "      <td>11.0970</td>\n",
              "      <td>11.097</td>\n",
              "      <td>11.097</td>\n",
              "      <td>0.020000</td>\n",
              "      <td>-6.459479e-17</td>\n",
              "      <td>0.060000</td>\n",
              "      <td>-1.076580e-15</td>\n",
              "      <td>0.009000</td>\n",
              "      <td>100.000000</td>\n",
              "      <td>...</td>\n",
              "      <td>-3.313609</td>\n",
              "      <td>4.226543</td>\n",
              "      <td>4.139664</td>\n",
              "      <td>4.226543</td>\n",
              "      <td>146.0</td>\n",
              "      <td>22.0</td>\n",
              "      <td>20.0</td>\n",
              "      <td>3.0</td>\n",
              "      <td>25.0</td>\n",
              "      <td>216.0</td>\n",
              "    </tr>\n",
              "    <tr>\n",
              "      <th>2016-03-09 22:00:00</th>\n",
              "      <td>10.951250</td>\n",
              "      <td>10.9805</td>\n",
              "      <td>11.197</td>\n",
              "      <td>10.660</td>\n",
              "      <td>41.109523</td>\n",
              "      <td>7.961621e+00</td>\n",
              "      <td>-41.049523</td>\n",
              "      <td>1.933863e-01</td>\n",
              "      <td>-0.676466</td>\n",
              "      <td>0.049298</td>\n",
              "      <td>...</td>\n",
              "      <td>85.704357</td>\n",
              "      <td>-1.049833</td>\n",
              "      <td>-1.055383</td>\n",
              "      <td>3.132338</td>\n",
              "      <td>160.0</td>\n",
              "      <td>29.0</td>\n",
              "      <td>19.0</td>\n",
              "      <td>4.0</td>\n",
              "      <td>26.0</td>\n",
              "      <td>238.0</td>\n",
              "    </tr>\n",
              "    <tr>\n",
              "      <th>2016-03-10 18:00:00</th>\n",
              "      <td>11.557333</td>\n",
              "      <td>11.5240</td>\n",
              "      <td>11.850</td>\n",
              "      <td>11.072</td>\n",
              "      <td>1.030000</td>\n",
              "      <td>8.128433e+00</td>\n",
              "      <td>-40.019523</td>\n",
              "      <td>1.926191e-01</td>\n",
              "      <td>-0.499856</td>\n",
              "      <td>2.607730</td>\n",
              "      <td>...</td>\n",
              "      <td>54.743883</td>\n",
              "      <td>4.949684</td>\n",
              "      <td>4.831084</td>\n",
              "      <td>8.237062</td>\n",
              "      <td>129.0</td>\n",
              "      <td>20.0</td>\n",
              "      <td>16.0</td>\n",
              "      <td>3.0</td>\n",
              "      <td>24.0</td>\n",
              "      <td>192.0</td>\n",
              "    </tr>\n",
              "    <tr>\n",
              "      <th>2016-03-11 12:00:00</th>\n",
              "      <td>11.850000</td>\n",
              "      <td>11.8500</td>\n",
              "      <td>11.850</td>\n",
              "      <td>11.850</td>\n",
              "      <td>0.030000</td>\n",
              "      <td>8.128433e+00</td>\n",
              "      <td>-39.989523</td>\n",
              "      <td>1.924822e-01</td>\n",
              "      <td>-0.427050</td>\n",
              "      <td>2.682609</td>\n",
              "      <td>...</td>\n",
              "      <td>30.789639</td>\n",
              "      <td>2.828879</td>\n",
              "      <td>2.789605</td>\n",
              "      <td>11.298957</td>\n",
              "      <td>122.0</td>\n",
              "      <td>18.0</td>\n",
              "      <td>20.0</td>\n",
              "      <td>3.0</td>\n",
              "      <td>26.0</td>\n",
              "      <td>189.0</td>\n",
              "    </tr>\n",
              "  </tbody>\n",
              "</table>\n",
              "<p>5 rows × 94 columns</p>\n",
              "</div>"
            ],
            "text/plain": [
              "                     open_120min  close_120min  high_120min  low_120min  \\\n",
              "date_time                                                                 \n",
              "2016-03-09 18:00:00    10.747000       10.6470       11.197      10.097   \n",
              "2016-03-09 20:00:00    11.097000       11.0970       11.097      11.097   \n",
              "2016-03-09 22:00:00    10.951250       10.9805       11.197      10.660   \n",
              "2016-03-10 18:00:00    11.557333       11.5240       11.850      11.072   \n",
              "2016-03-11 12:00:00    11.850000       11.8500       11.850      11.850   \n",
              "\n",
              "                     volume_120min    volume_adi  volume_obv    volume_cmf  \\\n",
              "date_time                                                                    \n",
              "2016-03-09 18:00:00       0.040000 -6.459479e-17    0.040000 -1.614870e-15   \n",
              "2016-03-09 20:00:00       0.020000 -6.459479e-17    0.060000 -1.076580e-15   \n",
              "2016-03-09 22:00:00      41.109523  7.961621e+00  -41.049523  1.933863e-01   \n",
              "2016-03-10 18:00:00       1.030000  8.128433e+00  -40.019523  1.926191e-01   \n",
              "2016-03-11 12:00:00       0.030000  8.128433e+00  -39.989523  1.924822e-01   \n",
              "\n",
              "                     volume_fi  volume_mfi  ...  momentum_ppo_hist  others_dr  \\\n",
              "date_time                                   ...                                 \n",
              "2016-03-09 18:00:00   0.000000   50.000000  ...           0.000000 -98.390201   \n",
              "2016-03-09 20:00:00   0.009000  100.000000  ...          -3.313609   4.226543   \n",
              "2016-03-09 22:00:00  -0.676466    0.049298  ...          85.704357  -1.049833   \n",
              "2016-03-10 18:00:00  -0.499856    2.607730  ...          54.743883   4.949684   \n",
              "2016-03-11 12:00:00  -0.427050    2.682609  ...          30.789639   2.828879   \n",
              "\n",
              "                     others_dlr  others_cr  bitcoin  ethereum  crypto  \\\n",
              "date_time                                                               \n",
              "2016-03-09 18:00:00    0.000000   0.000000    144.0      21.0    21.0   \n",
              "2016-03-09 20:00:00    4.139664   4.226543    146.0      22.0    20.0   \n",
              "2016-03-09 22:00:00   -1.055383   3.132338    160.0      29.0    19.0   \n",
              "2016-03-10 18:00:00    4.831084   8.237062    129.0      20.0    16.0   \n",
              "2016-03-11 12:00:00    2.789605  11.298957    122.0      18.0    20.0   \n",
              "\n",
              "                     cryptocurrency  blockchain  overall_trend_sum  \n",
              "date_time                                                           \n",
              "2016-03-09 18:00:00             4.0        28.0              218.0  \n",
              "2016-03-09 20:00:00             3.0        25.0              216.0  \n",
              "2016-03-09 22:00:00             4.0        26.0              238.0  \n",
              "2016-03-10 18:00:00             3.0        24.0              192.0  \n",
              "2016-03-11 12:00:00             3.0        26.0              189.0  \n",
              "\n",
              "[5 rows x 94 columns]"
            ]
          },
          "execution_count": 42,
          "metadata": {},
          "output_type": "execute_result"
        }
      ]
    },
    {
      "cell_type": "code",
      "metadata": {
        "id": "b6c20de7",
        "outputId": "6a4859c8-5f4f-4848-bc44-4d45b8b3aa26"
      },
      "source": [
        "btc_usd_data_120min_googletrend.tail()"
      ],
      "id": "b6c20de7",
      "execution_count": null,
      "outputs": [
        {
          "data": {
            "text/html": [
              "<div>\n",
              "<style scoped>\n",
              "    .dataframe tbody tr th:only-of-type {\n",
              "        vertical-align: middle;\n",
              "    }\n",
              "\n",
              "    .dataframe tbody tr th {\n",
              "        vertical-align: top;\n",
              "    }\n",
              "\n",
              "    .dataframe thead th {\n",
              "        text-align: right;\n",
              "    }\n",
              "</style>\n",
              "<table border=\"1\" class=\"dataframe\">\n",
              "  <thead>\n",
              "    <tr style=\"text-align: right;\">\n",
              "      <th></th>\n",
              "      <th>open_120min</th>\n",
              "      <th>close_120min</th>\n",
              "      <th>high_120min</th>\n",
              "      <th>low_120min</th>\n",
              "      <th>volume_120min</th>\n",
              "      <th>volume_adi</th>\n",
              "      <th>volume_obv</th>\n",
              "      <th>volume_cmf</th>\n",
              "      <th>volume_fi</th>\n",
              "      <th>volume_mfi</th>\n",
              "      <th>...</th>\n",
              "      <th>momentum_ppo_hist</th>\n",
              "      <th>others_dr</th>\n",
              "      <th>others_dlr</th>\n",
              "      <th>others_cr</th>\n",
              "      <th>bitcoin</th>\n",
              "      <th>ethereum</th>\n",
              "      <th>crypto</th>\n",
              "      <th>cryptocurrency</th>\n",
              "      <th>blockchain</th>\n",
              "      <th>overall_trend_sum</th>\n",
              "    </tr>\n",
              "    <tr>\n",
              "      <th>date_time</th>\n",
              "      <th></th>\n",
              "      <th></th>\n",
              "      <th></th>\n",
              "      <th></th>\n",
              "      <th></th>\n",
              "      <th></th>\n",
              "      <th></th>\n",
              "      <th></th>\n",
              "      <th></th>\n",
              "      <th></th>\n",
              "      <th></th>\n",
              "      <th></th>\n",
              "      <th></th>\n",
              "      <th></th>\n",
              "      <th></th>\n",
              "      <th></th>\n",
              "      <th></th>\n",
              "      <th></th>\n",
              "      <th></th>\n",
              "      <th></th>\n",
              "      <th></th>\n",
              "    </tr>\n",
              "  </thead>\n",
              "  <tbody>\n",
              "    <tr>\n",
              "      <th>2021-12-04 08:00:00</th>\n",
              "      <td>3874.278965</td>\n",
              "      <td>3875.199771</td>\n",
              "      <td>3935.600000</td>\n",
              "      <td>3792.3</td>\n",
              "      <td>7879.151836</td>\n",
              "      <td>8.128433</td>\n",
              "      <td>-5.462344e+06</td>\n",
              "      <td>0.271728</td>\n",
              "      <td>-1.196011e+06</td>\n",
              "      <td>17.241620</td>\n",
              "      <td>...</td>\n",
              "      <td>16.303055</td>\n",
              "      <td>-1.804084</td>\n",
              "      <td>-1.820556</td>\n",
              "      <td>36297.105013</td>\n",
              "      <td>NaN</td>\n",
              "      <td>NaN</td>\n",
              "      <td>NaN</td>\n",
              "      <td>NaN</td>\n",
              "      <td>NaN</td>\n",
              "      <td>NaN</td>\n",
              "    </tr>\n",
              "    <tr>\n",
              "      <th>2021-12-04 10:00:00</th>\n",
              "      <td>3936.358392</td>\n",
              "      <td>3936.798551</td>\n",
              "      <td>3986.900000</td>\n",
              "      <td>3884.7</td>\n",
              "      <td>6029.371120</td>\n",
              "      <td>8.128433</td>\n",
              "      <td>-5.456314e+06</td>\n",
              "      <td>0.269892</td>\n",
              "      <td>-9.720945e+05</td>\n",
              "      <td>20.695614</td>\n",
              "      <td>...</td>\n",
              "      <td>7.207349</td>\n",
              "      <td>1.589564</td>\n",
              "      <td>1.577063</td>\n",
              "      <td>36875.660286</td>\n",
              "      <td>NaN</td>\n",
              "      <td>NaN</td>\n",
              "      <td>NaN</td>\n",
              "      <td>NaN</td>\n",
              "      <td>NaN</td>\n",
              "      <td>NaN</td>\n",
              "    </tr>\n",
              "    <tr>\n",
              "      <th>2021-12-04 12:00:00</th>\n",
              "      <td>3902.164723</td>\n",
              "      <td>3901.645606</td>\n",
              "      <td>3961.370073</td>\n",
              "      <td>3832.3</td>\n",
              "      <td>5482.031297</td>\n",
              "      <td>8.128433</td>\n",
              "      <td>-5.461796e+06</td>\n",
              "      <td>0.261006</td>\n",
              "      <td>-8.607538e+05</td>\n",
              "      <td>19.017848</td>\n",
              "      <td>...</td>\n",
              "      <td>0.437301</td>\n",
              "      <td>-0.892932</td>\n",
              "      <td>-0.896943</td>\n",
              "      <td>36545.492682</td>\n",
              "      <td>NaN</td>\n",
              "      <td>NaN</td>\n",
              "      <td>NaN</td>\n",
              "      <td>NaN</td>\n",
              "      <td>NaN</td>\n",
              "      <td>NaN</td>\n",
              "    </tr>\n",
              "    <tr>\n",
              "      <th>2021-12-04 14:00:00</th>\n",
              "      <td>3931.240941</td>\n",
              "      <td>3932.224018</td>\n",
              "      <td>3973.200000</td>\n",
              "      <td>3872.8</td>\n",
              "      <td>3973.581871</td>\n",
              "      <td>8.128433</td>\n",
              "      <td>-5.457823e+06</td>\n",
              "      <td>0.257854</td>\n",
              "      <td>-7.204310e+05</td>\n",
              "      <td>21.978866</td>\n",
              "      <td>...</td>\n",
              "      <td>-5.349819</td>\n",
              "      <td>0.783731</td>\n",
              "      <td>0.780676</td>\n",
              "      <td>36832.694821</td>\n",
              "      <td>NaN</td>\n",
              "      <td>NaN</td>\n",
              "      <td>NaN</td>\n",
              "      <td>NaN</td>\n",
              "      <td>NaN</td>\n",
              "      <td>NaN</td>\n",
              "    </tr>\n",
              "    <tr>\n",
              "      <th>2021-12-04 16:00:00</th>\n",
              "      <td>3973.608714</td>\n",
              "      <td>3974.130729</td>\n",
              "      <td>3987.000000</td>\n",
              "      <td>3955.0</td>\n",
              "      <td>1664.033807</td>\n",
              "      <td>8.128433</td>\n",
              "      <td>-5.456159e+06</td>\n",
              "      <td>0.257786</td>\n",
              "      <td>-6.075502e+05</td>\n",
              "      <td>21.405682</td>\n",
              "      <td>...</td>\n",
              "      <td>-11.241920</td>\n",
              "      <td>1.065725</td>\n",
              "      <td>1.060087</td>\n",
              "      <td>37226.295938</td>\n",
              "      <td>NaN</td>\n",
              "      <td>NaN</td>\n",
              "      <td>NaN</td>\n",
              "      <td>NaN</td>\n",
              "      <td>NaN</td>\n",
              "      <td>NaN</td>\n",
              "    </tr>\n",
              "  </tbody>\n",
              "</table>\n",
              "<p>5 rows × 94 columns</p>\n",
              "</div>"
            ],
            "text/plain": [
              "                     open_120min  close_120min  high_120min  low_120min  \\\n",
              "date_time                                                                 \n",
              "2021-12-04 08:00:00  3874.278965   3875.199771  3935.600000      3792.3   \n",
              "2021-12-04 10:00:00  3936.358392   3936.798551  3986.900000      3884.7   \n",
              "2021-12-04 12:00:00  3902.164723   3901.645606  3961.370073      3832.3   \n",
              "2021-12-04 14:00:00  3931.240941   3932.224018  3973.200000      3872.8   \n",
              "2021-12-04 16:00:00  3973.608714   3974.130729  3987.000000      3955.0   \n",
              "\n",
              "                     volume_120min  volume_adi    volume_obv  volume_cmf  \\\n",
              "date_time                                                                  \n",
              "2021-12-04 08:00:00    7879.151836    8.128433 -5.462344e+06    0.271728   \n",
              "2021-12-04 10:00:00    6029.371120    8.128433 -5.456314e+06    0.269892   \n",
              "2021-12-04 12:00:00    5482.031297    8.128433 -5.461796e+06    0.261006   \n",
              "2021-12-04 14:00:00    3973.581871    8.128433 -5.457823e+06    0.257854   \n",
              "2021-12-04 16:00:00    1664.033807    8.128433 -5.456159e+06    0.257786   \n",
              "\n",
              "                        volume_fi  volume_mfi  ...  momentum_ppo_hist  \\\n",
              "date_time                                      ...                      \n",
              "2021-12-04 08:00:00 -1.196011e+06   17.241620  ...          16.303055   \n",
              "2021-12-04 10:00:00 -9.720945e+05   20.695614  ...           7.207349   \n",
              "2021-12-04 12:00:00 -8.607538e+05   19.017848  ...           0.437301   \n",
              "2021-12-04 14:00:00 -7.204310e+05   21.978866  ...          -5.349819   \n",
              "2021-12-04 16:00:00 -6.075502e+05   21.405682  ...         -11.241920   \n",
              "\n",
              "                     others_dr  others_dlr     others_cr  bitcoin  ethereum  \\\n",
              "date_time                                                                     \n",
              "2021-12-04 08:00:00  -1.804084   -1.820556  36297.105013      NaN       NaN   \n",
              "2021-12-04 10:00:00   1.589564    1.577063  36875.660286      NaN       NaN   \n",
              "2021-12-04 12:00:00  -0.892932   -0.896943  36545.492682      NaN       NaN   \n",
              "2021-12-04 14:00:00   0.783731    0.780676  36832.694821      NaN       NaN   \n",
              "2021-12-04 16:00:00   1.065725    1.060087  37226.295938      NaN       NaN   \n",
              "\n",
              "                     crypto  cryptocurrency  blockchain  overall_trend_sum  \n",
              "date_time                                                                   \n",
              "2021-12-04 08:00:00     NaN             NaN         NaN                NaN  \n",
              "2021-12-04 10:00:00     NaN             NaN         NaN                NaN  \n",
              "2021-12-04 12:00:00     NaN             NaN         NaN                NaN  \n",
              "2021-12-04 14:00:00     NaN             NaN         NaN                NaN  \n",
              "2021-12-04 16:00:00     NaN             NaN         NaN                NaN  \n",
              "\n",
              "[5 rows x 94 columns]"
            ]
          },
          "execution_count": 43,
          "metadata": {},
          "output_type": "execute_result"
        }
      ]
    },
    {
      "cell_type": "markdown",
      "metadata": {
        "id": "bb830937"
      },
      "source": [
        "### Remove NAs from dataset"
      ],
      "id": "bb830937"
    },
    {
      "cell_type": "code",
      "metadata": {
        "id": "99d6b96d",
        "outputId": "f1918510-2b69-4a3f-81e8-1e22a2a345f7"
      },
      "source": [
        "print(\"shape with NAs:\",btc_usd_data_120min_googletrend.shape)"
      ],
      "id": "99d6b96d",
      "execution_count": null,
      "outputs": [
        {
          "name": "stdout",
          "output_type": "stream",
          "text": [
            "shape with NAs: (24279, 94)\n"
          ]
        }
      ]
    },
    {
      "cell_type": "code",
      "metadata": {
        "id": "18ab0a78",
        "outputId": "a3fa0653-17e1-4b7a-9f61-5f06cdc09e0b"
      },
      "source": [
        "btc_usd_data_120min_googletrend = btc_usd_data_120min_googletrend.dropna(how='any')\n",
        "print(\"shape with NAs:\",btc_usd_data_120min_googletrend.shape)"
      ],
      "id": "18ab0a78",
      "execution_count": null,
      "outputs": [
        {
          "name": "stdout",
          "output_type": "stream",
          "text": [
            "shape with NAs: (22247, 94)\n"
          ]
        }
      ]
    },
    {
      "cell_type": "code",
      "metadata": {
        "id": "4ebccb1a",
        "outputId": "67876f74-074e-412e-cd79-d6005438a835"
      },
      "source": [
        "btc_usd_data_120min_googletrend.head()"
      ],
      "id": "4ebccb1a",
      "execution_count": null,
      "outputs": [
        {
          "data": {
            "text/html": [
              "<div>\n",
              "<style scoped>\n",
              "    .dataframe tbody tr th:only-of-type {\n",
              "        vertical-align: middle;\n",
              "    }\n",
              "\n",
              "    .dataframe tbody tr th {\n",
              "        vertical-align: top;\n",
              "    }\n",
              "\n",
              "    .dataframe thead th {\n",
              "        text-align: right;\n",
              "    }\n",
              "</style>\n",
              "<table border=\"1\" class=\"dataframe\">\n",
              "  <thead>\n",
              "    <tr style=\"text-align: right;\">\n",
              "      <th></th>\n",
              "      <th>open_120min</th>\n",
              "      <th>close_120min</th>\n",
              "      <th>high_120min</th>\n",
              "      <th>low_120min</th>\n",
              "      <th>volume_120min</th>\n",
              "      <th>volume_adi</th>\n",
              "      <th>volume_obv</th>\n",
              "      <th>volume_cmf</th>\n",
              "      <th>volume_fi</th>\n",
              "      <th>volume_mfi</th>\n",
              "      <th>...</th>\n",
              "      <th>momentum_ppo_hist</th>\n",
              "      <th>others_dr</th>\n",
              "      <th>others_dlr</th>\n",
              "      <th>others_cr</th>\n",
              "      <th>bitcoin</th>\n",
              "      <th>ethereum</th>\n",
              "      <th>crypto</th>\n",
              "      <th>cryptocurrency</th>\n",
              "      <th>blockchain</th>\n",
              "      <th>overall_trend_sum</th>\n",
              "    </tr>\n",
              "    <tr>\n",
              "      <th>date_time</th>\n",
              "      <th></th>\n",
              "      <th></th>\n",
              "      <th></th>\n",
              "      <th></th>\n",
              "      <th></th>\n",
              "      <th></th>\n",
              "      <th></th>\n",
              "      <th></th>\n",
              "      <th></th>\n",
              "      <th></th>\n",
              "      <th></th>\n",
              "      <th></th>\n",
              "      <th></th>\n",
              "      <th></th>\n",
              "      <th></th>\n",
              "      <th></th>\n",
              "      <th></th>\n",
              "      <th></th>\n",
              "      <th></th>\n",
              "      <th></th>\n",
              "      <th></th>\n",
              "    </tr>\n",
              "  </thead>\n",
              "  <tbody>\n",
              "    <tr>\n",
              "      <th>2016-03-09 18:00:00</th>\n",
              "      <td>10.747000</td>\n",
              "      <td>10.6470</td>\n",
              "      <td>11.197</td>\n",
              "      <td>10.097</td>\n",
              "      <td>0.040000</td>\n",
              "      <td>-6.459479e-17</td>\n",
              "      <td>0.040000</td>\n",
              "      <td>-1.614870e-15</td>\n",
              "      <td>0.000000</td>\n",
              "      <td>50.000000</td>\n",
              "      <td>...</td>\n",
              "      <td>0.000000</td>\n",
              "      <td>-98.390201</td>\n",
              "      <td>0.000000</td>\n",
              "      <td>0.000000</td>\n",
              "      <td>144.0</td>\n",
              "      <td>21.0</td>\n",
              "      <td>21.0</td>\n",
              "      <td>4.0</td>\n",
              "      <td>28.0</td>\n",
              "      <td>218.0</td>\n",
              "    </tr>\n",
              "    <tr>\n",
              "      <th>2016-03-09 20:00:00</th>\n",
              "      <td>11.097000</td>\n",
              "      <td>11.0970</td>\n",
              "      <td>11.097</td>\n",
              "      <td>11.097</td>\n",
              "      <td>0.020000</td>\n",
              "      <td>-6.459479e-17</td>\n",
              "      <td>0.060000</td>\n",
              "      <td>-1.076580e-15</td>\n",
              "      <td>0.009000</td>\n",
              "      <td>100.000000</td>\n",
              "      <td>...</td>\n",
              "      <td>-3.313609</td>\n",
              "      <td>4.226543</td>\n",
              "      <td>4.139664</td>\n",
              "      <td>4.226543</td>\n",
              "      <td>146.0</td>\n",
              "      <td>22.0</td>\n",
              "      <td>20.0</td>\n",
              "      <td>3.0</td>\n",
              "      <td>25.0</td>\n",
              "      <td>216.0</td>\n",
              "    </tr>\n",
              "    <tr>\n",
              "      <th>2016-03-09 22:00:00</th>\n",
              "      <td>10.951250</td>\n",
              "      <td>10.9805</td>\n",
              "      <td>11.197</td>\n",
              "      <td>10.660</td>\n",
              "      <td>41.109523</td>\n",
              "      <td>7.961621e+00</td>\n",
              "      <td>-41.049523</td>\n",
              "      <td>1.933863e-01</td>\n",
              "      <td>-0.676466</td>\n",
              "      <td>0.049298</td>\n",
              "      <td>...</td>\n",
              "      <td>85.704357</td>\n",
              "      <td>-1.049833</td>\n",
              "      <td>-1.055383</td>\n",
              "      <td>3.132338</td>\n",
              "      <td>160.0</td>\n",
              "      <td>29.0</td>\n",
              "      <td>19.0</td>\n",
              "      <td>4.0</td>\n",
              "      <td>26.0</td>\n",
              "      <td>238.0</td>\n",
              "    </tr>\n",
              "    <tr>\n",
              "      <th>2016-03-10 18:00:00</th>\n",
              "      <td>11.557333</td>\n",
              "      <td>11.5240</td>\n",
              "      <td>11.850</td>\n",
              "      <td>11.072</td>\n",
              "      <td>1.030000</td>\n",
              "      <td>8.128433e+00</td>\n",
              "      <td>-40.019523</td>\n",
              "      <td>1.926191e-01</td>\n",
              "      <td>-0.499856</td>\n",
              "      <td>2.607730</td>\n",
              "      <td>...</td>\n",
              "      <td>54.743883</td>\n",
              "      <td>4.949684</td>\n",
              "      <td>4.831084</td>\n",
              "      <td>8.237062</td>\n",
              "      <td>129.0</td>\n",
              "      <td>20.0</td>\n",
              "      <td>16.0</td>\n",
              "      <td>3.0</td>\n",
              "      <td>24.0</td>\n",
              "      <td>192.0</td>\n",
              "    </tr>\n",
              "    <tr>\n",
              "      <th>2016-03-11 12:00:00</th>\n",
              "      <td>11.850000</td>\n",
              "      <td>11.8500</td>\n",
              "      <td>11.850</td>\n",
              "      <td>11.850</td>\n",
              "      <td>0.030000</td>\n",
              "      <td>8.128433e+00</td>\n",
              "      <td>-39.989523</td>\n",
              "      <td>1.924822e-01</td>\n",
              "      <td>-0.427050</td>\n",
              "      <td>2.682609</td>\n",
              "      <td>...</td>\n",
              "      <td>30.789639</td>\n",
              "      <td>2.828879</td>\n",
              "      <td>2.789605</td>\n",
              "      <td>11.298957</td>\n",
              "      <td>122.0</td>\n",
              "      <td>18.0</td>\n",
              "      <td>20.0</td>\n",
              "      <td>3.0</td>\n",
              "      <td>26.0</td>\n",
              "      <td>189.0</td>\n",
              "    </tr>\n",
              "  </tbody>\n",
              "</table>\n",
              "<p>5 rows × 94 columns</p>\n",
              "</div>"
            ],
            "text/plain": [
              "                     open_120min  close_120min  high_120min  low_120min  \\\n",
              "date_time                                                                 \n",
              "2016-03-09 18:00:00    10.747000       10.6470       11.197      10.097   \n",
              "2016-03-09 20:00:00    11.097000       11.0970       11.097      11.097   \n",
              "2016-03-09 22:00:00    10.951250       10.9805       11.197      10.660   \n",
              "2016-03-10 18:00:00    11.557333       11.5240       11.850      11.072   \n",
              "2016-03-11 12:00:00    11.850000       11.8500       11.850      11.850   \n",
              "\n",
              "                     volume_120min    volume_adi  volume_obv    volume_cmf  \\\n",
              "date_time                                                                    \n",
              "2016-03-09 18:00:00       0.040000 -6.459479e-17    0.040000 -1.614870e-15   \n",
              "2016-03-09 20:00:00       0.020000 -6.459479e-17    0.060000 -1.076580e-15   \n",
              "2016-03-09 22:00:00      41.109523  7.961621e+00  -41.049523  1.933863e-01   \n",
              "2016-03-10 18:00:00       1.030000  8.128433e+00  -40.019523  1.926191e-01   \n",
              "2016-03-11 12:00:00       0.030000  8.128433e+00  -39.989523  1.924822e-01   \n",
              "\n",
              "                     volume_fi  volume_mfi  ...  momentum_ppo_hist  others_dr  \\\n",
              "date_time                                   ...                                 \n",
              "2016-03-09 18:00:00   0.000000   50.000000  ...           0.000000 -98.390201   \n",
              "2016-03-09 20:00:00   0.009000  100.000000  ...          -3.313609   4.226543   \n",
              "2016-03-09 22:00:00  -0.676466    0.049298  ...          85.704357  -1.049833   \n",
              "2016-03-10 18:00:00  -0.499856    2.607730  ...          54.743883   4.949684   \n",
              "2016-03-11 12:00:00  -0.427050    2.682609  ...          30.789639   2.828879   \n",
              "\n",
              "                     others_dlr  others_cr  bitcoin  ethereum  crypto  \\\n",
              "date_time                                                               \n",
              "2016-03-09 18:00:00    0.000000   0.000000    144.0      21.0    21.0   \n",
              "2016-03-09 20:00:00    4.139664   4.226543    146.0      22.0    20.0   \n",
              "2016-03-09 22:00:00   -1.055383   3.132338    160.0      29.0    19.0   \n",
              "2016-03-10 18:00:00    4.831084   8.237062    129.0      20.0    16.0   \n",
              "2016-03-11 12:00:00    2.789605  11.298957    122.0      18.0    20.0   \n",
              "\n",
              "                     cryptocurrency  blockchain  overall_trend_sum  \n",
              "date_time                                                           \n",
              "2016-03-09 18:00:00             4.0        28.0              218.0  \n",
              "2016-03-09 20:00:00             3.0        25.0              216.0  \n",
              "2016-03-09 22:00:00             4.0        26.0              238.0  \n",
              "2016-03-10 18:00:00             3.0        24.0              192.0  \n",
              "2016-03-11 12:00:00             3.0        26.0              189.0  \n",
              "\n",
              "[5 rows x 94 columns]"
            ]
          },
          "execution_count": 46,
          "metadata": {},
          "output_type": "execute_result"
        }
      ]
    },
    {
      "cell_type": "code",
      "metadata": {
        "id": "3d2d69a9"
      },
      "source": [
        "btc_usd_data_120min_googletrend = btc_usd_data_120min_googletrend.loc[btc_usd_data_120min_googletrend['ethereum']>0]"
      ],
      "id": "3d2d69a9",
      "execution_count": null,
      "outputs": []
    },
    {
      "cell_type": "code",
      "metadata": {
        "id": "c5982b6e"
      },
      "source": [
        "# btc_usd_data_60min_googletrend = btc_usd_data_60min.join(btc_hourly_trend_data_2015_21)\n",
        "# btc_usd_data_60min_googletrend.head()"
      ],
      "id": "c5982b6e",
      "execution_count": null,
      "outputs": []
    },
    {
      "cell_type": "code",
      "metadata": {
        "id": "21614a40"
      },
      "source": [
        "# btc_usd_data_60min_googletrend = btc_usd_data_60min_googletrend.dropna(how='any')\n",
        "# btc_usd_data_60min_googletrend.shape"
      ],
      "id": "21614a40",
      "execution_count": null,
      "outputs": []
    },
    {
      "cell_type": "code",
      "metadata": {
        "id": "f61dbe50"
      },
      "source": [
        "# btc_usd_data_60min_googletrend.isnull().sum()"
      ],
      "id": "f61dbe50",
      "execution_count": null,
      "outputs": []
    },
    {
      "cell_type": "code",
      "metadata": {
        "id": "8c146a49"
      },
      "source": [
        "# btc_usd_data_60min_googletrend.head()"
      ],
      "id": "8c146a49",
      "execution_count": null,
      "outputs": []
    },
    {
      "cell_type": "markdown",
      "metadata": {
        "id": "639cf1d3"
      },
      "source": [
        "## Creating the output column"
      ],
      "id": "639cf1d3"
    },
    {
      "cell_type": "code",
      "metadata": {
        "id": "9f500a33"
      },
      "source": [
        "# #For 60 min dataset\n",
        "# btc_usd_data_60min_googletrend[\"open_60min_shifted\"] = 0\n",
        "# btc_usd_data_60min_googletrend['open_60min_shifted'] = btc_usd_data_60min_googletrend['open_60min'].shift(periods=-1)\n",
        "# btc_usd_data_60min_googletrend[['open_60min','open_60min_shifted']].head()\n"
      ],
      "id": "9f500a33",
      "execution_count": null,
      "outputs": []
    },
    {
      "cell_type": "code",
      "metadata": {
        "id": "49a68c8d",
        "outputId": "8191d91a-553b-45f1-fdf3-ea2d3f122d56"
      },
      "source": [
        "\n",
        "#For 120 min dataset\n",
        "btc_usd_data_120min_googletrend[\"open_120min_shifted\"] = 0\n",
        "btc_usd_data_120min_googletrend['open_120min_shifted'] = btc_usd_data_120min_googletrend['open_120min'].shift(periods=-1)\n",
        "btc_usd_data_120min_googletrend[['open_120min','open_120min_shifted']].head()\n"
      ],
      "id": "49a68c8d",
      "execution_count": null,
      "outputs": [
        {
          "data": {
            "text/html": [
              "<div>\n",
              "<style scoped>\n",
              "    .dataframe tbody tr th:only-of-type {\n",
              "        vertical-align: middle;\n",
              "    }\n",
              "\n",
              "    .dataframe tbody tr th {\n",
              "        vertical-align: top;\n",
              "    }\n",
              "\n",
              "    .dataframe thead th {\n",
              "        text-align: right;\n",
              "    }\n",
              "</style>\n",
              "<table border=\"1\" class=\"dataframe\">\n",
              "  <thead>\n",
              "    <tr style=\"text-align: right;\">\n",
              "      <th></th>\n",
              "      <th>open_120min</th>\n",
              "      <th>open_120min_shifted</th>\n",
              "    </tr>\n",
              "    <tr>\n",
              "      <th>date_time</th>\n",
              "      <th></th>\n",
              "      <th></th>\n",
              "    </tr>\n",
              "  </thead>\n",
              "  <tbody>\n",
              "    <tr>\n",
              "      <th>2016-03-09 18:00:00</th>\n",
              "      <td>10.747000</td>\n",
              "      <td>11.097000</td>\n",
              "    </tr>\n",
              "    <tr>\n",
              "      <th>2016-03-09 20:00:00</th>\n",
              "      <td>11.097000</td>\n",
              "      <td>10.951250</td>\n",
              "    </tr>\n",
              "    <tr>\n",
              "      <th>2016-03-09 22:00:00</th>\n",
              "      <td>10.951250</td>\n",
              "      <td>11.557333</td>\n",
              "    </tr>\n",
              "    <tr>\n",
              "      <th>2016-03-10 18:00:00</th>\n",
              "      <td>11.557333</td>\n",
              "      <td>11.850000</td>\n",
              "    </tr>\n",
              "    <tr>\n",
              "      <th>2016-03-11 12:00:00</th>\n",
              "      <td>11.850000</td>\n",
              "      <td>11.800000</td>\n",
              "    </tr>\n",
              "  </tbody>\n",
              "</table>\n",
              "</div>"
            ],
            "text/plain": [
              "                     open_120min  open_120min_shifted\n",
              "date_time                                            \n",
              "2016-03-09 18:00:00    10.747000            11.097000\n",
              "2016-03-09 20:00:00    11.097000            10.951250\n",
              "2016-03-09 22:00:00    10.951250            11.557333\n",
              "2016-03-10 18:00:00    11.557333            11.850000\n",
              "2016-03-11 12:00:00    11.850000            11.800000"
            ]
          },
          "execution_count": 53,
          "metadata": {},
          "output_type": "execute_result"
        }
      ]
    },
    {
      "cell_type": "code",
      "metadata": {
        "id": "f381ffc6"
      },
      "source": [
        "# btc_usd_data_60min_googletrend[\"low_60min_shifted\"] = 0\n",
        "# btc_usd_data_60min_googletrend['low_60min_shifted'] = btc_usd_data_60min_googletrend['low_60min'].shift(periods=1)\n",
        "\n",
        "# btc_usd_data_60min_googletrend['low_60min_profitable'] = 0\n",
        "# btc_usd_data_60min_googletrend['low_60min_profitable'].loc[btc_usd_data_60min_googletrend['low_60min_shifted'] < btc_usd_data_60min_googletrend['low_60min']] = 1\n",
        "\n",
        "# btc_usd_data_60min_googletrend = btc_usd_data_60min_googletrend.drop(['low_60min_shifted'],axis=1)\n",
        "# btc_usd_data_60min_googletrend.head(10)\n",
        "\n",
        "#For 60 min dataset\n",
        "# btc_usd_data_60min_googletrend['open_60min_profitable'] = 0\n",
        "# btc_usd_data_60min_googletrend['open_60min_profitable'].loc[((btc_usd_data_60min_googletrend['open_60min_shifted'])/(btc_usd_data_60min_googletrend['open_60min']))<0.97] = 1\n",
        "\n",
        "# btc_usd_data_60min_googletrend = btc_usd_data_60min_googletrend.drop(['open_60min_shifted','open_60min'],axis=1)\n",
        "# btc_usd_data_60min_googletrend.head()"
      ],
      "id": "f381ffc6",
      "execution_count": null,
      "outputs": []
    },
    {
      "cell_type": "code",
      "metadata": {
        "id": "0ca66bbd",
        "outputId": "6e7ea256-f0c9-4a8d-f618-fe986c07d15c"
      },
      "source": [
        "#For 120 min dataset\n",
        "btc_usd_data_120min_googletrend['open_120min_profitable'] = 0\n",
        "btc_usd_data_120min_googletrend['open_120min_profitable'].loc[((btc_usd_data_120min_googletrend['open_120min_shifted'])/(btc_usd_data_120min_googletrend['open_120min']))>1.03] = 1\n",
        "\n",
        "btc_usd_data_120min_googletrend = btc_usd_data_120min_googletrend.drop(['open_120min_shifted','open_120min'],axis=1)\n",
        "btc_usd_data_120min_googletrend.head(10)\n"
      ],
      "id": "0ca66bbd",
      "execution_count": null,
      "outputs": [
        {
          "data": {
            "text/html": [
              "<div>\n",
              "<style scoped>\n",
              "    .dataframe tbody tr th:only-of-type {\n",
              "        vertical-align: middle;\n",
              "    }\n",
              "\n",
              "    .dataframe tbody tr th {\n",
              "        vertical-align: top;\n",
              "    }\n",
              "\n",
              "    .dataframe thead th {\n",
              "        text-align: right;\n",
              "    }\n",
              "</style>\n",
              "<table border=\"1\" class=\"dataframe\">\n",
              "  <thead>\n",
              "    <tr style=\"text-align: right;\">\n",
              "      <th></th>\n",
              "      <th>close_120min</th>\n",
              "      <th>high_120min</th>\n",
              "      <th>low_120min</th>\n",
              "      <th>volume_120min</th>\n",
              "      <th>volume_adi</th>\n",
              "      <th>volume_obv</th>\n",
              "      <th>volume_cmf</th>\n",
              "      <th>volume_fi</th>\n",
              "      <th>volume_mfi</th>\n",
              "      <th>volume_em</th>\n",
              "      <th>...</th>\n",
              "      <th>others_dr</th>\n",
              "      <th>others_dlr</th>\n",
              "      <th>others_cr</th>\n",
              "      <th>bitcoin</th>\n",
              "      <th>ethereum</th>\n",
              "      <th>crypto</th>\n",
              "      <th>cryptocurrency</th>\n",
              "      <th>blockchain</th>\n",
              "      <th>overall_trend_sum</th>\n",
              "      <th>open_120min_profitable</th>\n",
              "    </tr>\n",
              "    <tr>\n",
              "      <th>date_time</th>\n",
              "      <th></th>\n",
              "      <th></th>\n",
              "      <th></th>\n",
              "      <th></th>\n",
              "      <th></th>\n",
              "      <th></th>\n",
              "      <th></th>\n",
              "      <th></th>\n",
              "      <th></th>\n",
              "      <th></th>\n",
              "      <th></th>\n",
              "      <th></th>\n",
              "      <th></th>\n",
              "      <th></th>\n",
              "      <th></th>\n",
              "      <th></th>\n",
              "      <th></th>\n",
              "      <th></th>\n",
              "      <th></th>\n",
              "      <th></th>\n",
              "      <th></th>\n",
              "    </tr>\n",
              "  </thead>\n",
              "  <tbody>\n",
              "    <tr>\n",
              "      <th>2016-03-09 18:00:00</th>\n",
              "      <td>10.647000</td>\n",
              "      <td>11.197</td>\n",
              "      <td>10.097</td>\n",
              "      <td>0.040000</td>\n",
              "      <td>-6.459479e-17</td>\n",
              "      <td>0.040000</td>\n",
              "      <td>-1.614870e-15</td>\n",
              "      <td>0.000000</td>\n",
              "      <td>50.000000</td>\n",
              "      <td>0.000000e+00</td>\n",
              "      <td>...</td>\n",
              "      <td>-98.390201</td>\n",
              "      <td>0.000000</td>\n",
              "      <td>0.000000</td>\n",
              "      <td>144.0</td>\n",
              "      <td>21.0</td>\n",
              "      <td>21.0</td>\n",
              "      <td>4.0</td>\n",
              "      <td>28.0</td>\n",
              "      <td>218.0</td>\n",
              "      <td>1</td>\n",
              "    </tr>\n",
              "    <tr>\n",
              "      <th>2016-03-09 20:00:00</th>\n",
              "      <td>11.097000</td>\n",
              "      <td>11.097</td>\n",
              "      <td>11.097</td>\n",
              "      <td>0.020000</td>\n",
              "      <td>-6.459479e-17</td>\n",
              "      <td>0.060000</td>\n",
              "      <td>-1.076580e-15</td>\n",
              "      <td>0.009000</td>\n",
              "      <td>100.000000</td>\n",
              "      <td>0.000000e+00</td>\n",
              "      <td>...</td>\n",
              "      <td>4.226543</td>\n",
              "      <td>4.139664</td>\n",
              "      <td>4.226543</td>\n",
              "      <td>146.0</td>\n",
              "      <td>22.0</td>\n",
              "      <td>20.0</td>\n",
              "      <td>3.0</td>\n",
              "      <td>25.0</td>\n",
              "      <td>216.0</td>\n",
              "      <td>0</td>\n",
              "    </tr>\n",
              "    <tr>\n",
              "      <th>2016-03-09 22:00:00</th>\n",
              "      <td>10.980500</td>\n",
              "      <td>11.197</td>\n",
              "      <td>10.660</td>\n",
              "      <td>41.109523</td>\n",
              "      <td>7.961621e+00</td>\n",
              "      <td>-41.049523</td>\n",
              "      <td>1.933863e-01</td>\n",
              "      <td>-0.676466</td>\n",
              "      <td>0.049298</td>\n",
              "      <td>-2.201059e+05</td>\n",
              "      <td>...</td>\n",
              "      <td>-1.049833</td>\n",
              "      <td>-1.055383</td>\n",
              "      <td>3.132338</td>\n",
              "      <td>160.0</td>\n",
              "      <td>29.0</td>\n",
              "      <td>19.0</td>\n",
              "      <td>4.0</td>\n",
              "      <td>26.0</td>\n",
              "      <td>238.0</td>\n",
              "      <td>1</td>\n",
              "    </tr>\n",
              "    <tr>\n",
              "      <th>2016-03-10 18:00:00</th>\n",
              "      <td>11.524000</td>\n",
              "      <td>11.850</td>\n",
              "      <td>11.072</td>\n",
              "      <td>1.030000</td>\n",
              "      <td>8.128433e+00</td>\n",
              "      <td>-40.019523</td>\n",
              "      <td>1.926191e-01</td>\n",
              "      <td>-0.499856</td>\n",
              "      <td>2.607730</td>\n",
              "      <td>4.022184e+07</td>\n",
              "      <td>...</td>\n",
              "      <td>4.949684</td>\n",
              "      <td>4.831084</td>\n",
              "      <td>8.237062</td>\n",
              "      <td>129.0</td>\n",
              "      <td>20.0</td>\n",
              "      <td>16.0</td>\n",
              "      <td>3.0</td>\n",
              "      <td>24.0</td>\n",
              "      <td>192.0</td>\n",
              "      <td>0</td>\n",
              "    </tr>\n",
              "    <tr>\n",
              "      <th>2016-03-11 12:00:00</th>\n",
              "      <td>11.850000</td>\n",
              "      <td>11.850</td>\n",
              "      <td>11.850</td>\n",
              "      <td>0.030000</td>\n",
              "      <td>8.128433e+00</td>\n",
              "      <td>-39.989523</td>\n",
              "      <td>1.924822e-01</td>\n",
              "      <td>-0.427050</td>\n",
              "      <td>2.682609</td>\n",
              "      <td>0.000000e+00</td>\n",
              "      <td>...</td>\n",
              "      <td>2.828879</td>\n",
              "      <td>2.789605</td>\n",
              "      <td>11.298957</td>\n",
              "      <td>122.0</td>\n",
              "      <td>18.0</td>\n",
              "      <td>20.0</td>\n",
              "      <td>3.0</td>\n",
              "      <td>26.0</td>\n",
              "      <td>189.0</td>\n",
              "      <td>0</td>\n",
              "    </tr>\n",
              "    <tr>\n",
              "      <th>2016-03-11 18:00:00</th>\n",
              "      <td>11.800000</td>\n",
              "      <td>11.800</td>\n",
              "      <td>11.800</td>\n",
              "      <td>0.010000</td>\n",
              "      <td>8.128433e+00</td>\n",
              "      <td>-39.999523</td>\n",
              "      <td>1.924367e-01</td>\n",
              "      <td>-0.366115</td>\n",
              "      <td>2.681925</td>\n",
              "      <td>-0.000000e+00</td>\n",
              "      <td>...</td>\n",
              "      <td>-0.421941</td>\n",
              "      <td>-0.422834</td>\n",
              "      <td>10.829342</td>\n",
              "      <td>132.0</td>\n",
              "      <td>17.0</td>\n",
              "      <td>15.0</td>\n",
              "      <td>2.0</td>\n",
              "      <td>21.0</td>\n",
              "      <td>187.0</td>\n",
              "      <td>0</td>\n",
              "    </tr>\n",
              "    <tr>\n",
              "      <th>2016-03-11 20:00:00</th>\n",
              "      <td>11.800000</td>\n",
              "      <td>11.800</td>\n",
              "      <td>11.800</td>\n",
              "      <td>0.704898</td>\n",
              "      <td>8.128433e+00</td>\n",
              "      <td>-39.294625</td>\n",
              "      <td>1.892780e-01</td>\n",
              "      <td>-0.313813</td>\n",
              "      <td>2.681925</td>\n",
              "      <td>0.000000e+00</td>\n",
              "      <td>...</td>\n",
              "      <td>0.000000</td>\n",
              "      <td>0.000000</td>\n",
              "      <td>10.829342</td>\n",
              "      <td>145.0</td>\n",
              "      <td>17.0</td>\n",
              "      <td>18.0</td>\n",
              "      <td>3.0</td>\n",
              "      <td>19.0</td>\n",
              "      <td>202.0</td>\n",
              "      <td>0</td>\n",
              "    </tr>\n",
              "    <tr>\n",
              "      <th>2016-03-11 22:00:00</th>\n",
              "      <td>11.900000</td>\n",
              "      <td>11.950</td>\n",
              "      <td>11.850</td>\n",
              "      <td>4.063131</td>\n",
              "      <td>8.128433e+00</td>\n",
              "      <td>-35.231494</td>\n",
              "      <td>1.729176e-01</td>\n",
              "      <td>-0.210937</td>\n",
              "      <td>11.892928</td>\n",
              "      <td>2.461156e+05</td>\n",
              "      <td>...</td>\n",
              "      <td>0.847458</td>\n",
              "      <td>0.843887</td>\n",
              "      <td>11.768573</td>\n",
              "      <td>128.0</td>\n",
              "      <td>20.0</td>\n",
              "      <td>17.0</td>\n",
              "      <td>2.0</td>\n",
              "      <td>20.0</td>\n",
              "      <td>187.0</td>\n",
              "      <td>0</td>\n",
              "    </tr>\n",
              "    <tr>\n",
              "      <th>2016-03-12 00:00:00</th>\n",
              "      <td>11.950000</td>\n",
              "      <td>11.950</td>\n",
              "      <td>11.950</td>\n",
              "      <td>46.038962</td>\n",
              "      <td>8.128433e+00</td>\n",
              "      <td>10.807468</td>\n",
              "      <td>8.735881e-02</td>\n",
              "      <td>0.148046</td>\n",
              "      <td>57.578804</td>\n",
              "      <td>0.000000e+00</td>\n",
              "      <td>...</td>\n",
              "      <td>0.420168</td>\n",
              "      <td>0.419288</td>\n",
              "      <td>12.238189</td>\n",
              "      <td>171.0</td>\n",
              "      <td>20.0</td>\n",
              "      <td>17.0</td>\n",
              "      <td>3.0</td>\n",
              "      <td>15.0</td>\n",
              "      <td>226.0</td>\n",
              "      <td>0</td>\n",
              "    </tr>\n",
              "    <tr>\n",
              "      <th>2016-03-12 04:00:00</th>\n",
              "      <td>12.293045</td>\n",
              "      <td>12.750</td>\n",
              "      <td>11.950</td>\n",
              "      <td>98.749538</td>\n",
              "      <td>8.128433e+00</td>\n",
              "      <td>109.557006</td>\n",
              "      <td>-3.092949e-02</td>\n",
              "      <td>4.966265</td>\n",
              "      <td>80.247675</td>\n",
              "      <td>3.240521e+05</td>\n",
              "      <td>...</td>\n",
              "      <td>2.870673</td>\n",
              "      <td>2.830241</td>\n",
              "      <td>15.460181</td>\n",
              "      <td>138.0</td>\n",
              "      <td>23.0</td>\n",
              "      <td>13.0</td>\n",
              "      <td>3.0</td>\n",
              "      <td>13.0</td>\n",
              "      <td>190.0</td>\n",
              "      <td>1</td>\n",
              "    </tr>\n",
              "  </tbody>\n",
              "</table>\n",
              "<p>10 rows × 94 columns</p>\n",
              "</div>"
            ],
            "text/plain": [
              "                     close_120min  high_120min  low_120min  volume_120min  \\\n",
              "date_time                                                                   \n",
              "2016-03-09 18:00:00     10.647000       11.197      10.097       0.040000   \n",
              "2016-03-09 20:00:00     11.097000       11.097      11.097       0.020000   \n",
              "2016-03-09 22:00:00     10.980500       11.197      10.660      41.109523   \n",
              "2016-03-10 18:00:00     11.524000       11.850      11.072       1.030000   \n",
              "2016-03-11 12:00:00     11.850000       11.850      11.850       0.030000   \n",
              "2016-03-11 18:00:00     11.800000       11.800      11.800       0.010000   \n",
              "2016-03-11 20:00:00     11.800000       11.800      11.800       0.704898   \n",
              "2016-03-11 22:00:00     11.900000       11.950      11.850       4.063131   \n",
              "2016-03-12 00:00:00     11.950000       11.950      11.950      46.038962   \n",
              "2016-03-12 04:00:00     12.293045       12.750      11.950      98.749538   \n",
              "\n",
              "                       volume_adi  volume_obv    volume_cmf  volume_fi  \\\n",
              "date_time                                                                \n",
              "2016-03-09 18:00:00 -6.459479e-17    0.040000 -1.614870e-15   0.000000   \n",
              "2016-03-09 20:00:00 -6.459479e-17    0.060000 -1.076580e-15   0.009000   \n",
              "2016-03-09 22:00:00  7.961621e+00  -41.049523  1.933863e-01  -0.676466   \n",
              "2016-03-10 18:00:00  8.128433e+00  -40.019523  1.926191e-01  -0.499856   \n",
              "2016-03-11 12:00:00  8.128433e+00  -39.989523  1.924822e-01  -0.427050   \n",
              "2016-03-11 18:00:00  8.128433e+00  -39.999523  1.924367e-01  -0.366115   \n",
              "2016-03-11 20:00:00  8.128433e+00  -39.294625  1.892780e-01  -0.313813   \n",
              "2016-03-11 22:00:00  8.128433e+00  -35.231494  1.729176e-01  -0.210937   \n",
              "2016-03-12 00:00:00  8.128433e+00   10.807468  8.735881e-02   0.148046   \n",
              "2016-03-12 04:00:00  8.128433e+00  109.557006 -3.092949e-02   4.966265   \n",
              "\n",
              "                     volume_mfi     volume_em  ...  others_dr  others_dlr  \\\n",
              "date_time                                      ...                          \n",
              "2016-03-09 18:00:00   50.000000  0.000000e+00  ... -98.390201    0.000000   \n",
              "2016-03-09 20:00:00  100.000000  0.000000e+00  ...   4.226543    4.139664   \n",
              "2016-03-09 22:00:00    0.049298 -2.201059e+05  ...  -1.049833   -1.055383   \n",
              "2016-03-10 18:00:00    2.607730  4.022184e+07  ...   4.949684    4.831084   \n",
              "2016-03-11 12:00:00    2.682609  0.000000e+00  ...   2.828879    2.789605   \n",
              "2016-03-11 18:00:00    2.681925 -0.000000e+00  ...  -0.421941   -0.422834   \n",
              "2016-03-11 20:00:00    2.681925  0.000000e+00  ...   0.000000    0.000000   \n",
              "2016-03-11 22:00:00   11.892928  2.461156e+05  ...   0.847458    0.843887   \n",
              "2016-03-12 00:00:00   57.578804  0.000000e+00  ...   0.420168    0.419288   \n",
              "2016-03-12 04:00:00   80.247675  3.240521e+05  ...   2.870673    2.830241   \n",
              "\n",
              "                     others_cr  bitcoin  ethereum  crypto  cryptocurrency  \\\n",
              "date_time                                                                   \n",
              "2016-03-09 18:00:00   0.000000    144.0      21.0    21.0             4.0   \n",
              "2016-03-09 20:00:00   4.226543    146.0      22.0    20.0             3.0   \n",
              "2016-03-09 22:00:00   3.132338    160.0      29.0    19.0             4.0   \n",
              "2016-03-10 18:00:00   8.237062    129.0      20.0    16.0             3.0   \n",
              "2016-03-11 12:00:00  11.298957    122.0      18.0    20.0             3.0   \n",
              "2016-03-11 18:00:00  10.829342    132.0      17.0    15.0             2.0   \n",
              "2016-03-11 20:00:00  10.829342    145.0      17.0    18.0             3.0   \n",
              "2016-03-11 22:00:00  11.768573    128.0      20.0    17.0             2.0   \n",
              "2016-03-12 00:00:00  12.238189    171.0      20.0    17.0             3.0   \n",
              "2016-03-12 04:00:00  15.460181    138.0      23.0    13.0             3.0   \n",
              "\n",
              "                     blockchain  overall_trend_sum  open_120min_profitable  \n",
              "date_time                                                                   \n",
              "2016-03-09 18:00:00        28.0              218.0                       1  \n",
              "2016-03-09 20:00:00        25.0              216.0                       0  \n",
              "2016-03-09 22:00:00        26.0              238.0                       1  \n",
              "2016-03-10 18:00:00        24.0              192.0                       0  \n",
              "2016-03-11 12:00:00        26.0              189.0                       0  \n",
              "2016-03-11 18:00:00        21.0              187.0                       0  \n",
              "2016-03-11 20:00:00        19.0              202.0                       0  \n",
              "2016-03-11 22:00:00        20.0              187.0                       0  \n",
              "2016-03-12 00:00:00        15.0              226.0                       0  \n",
              "2016-03-12 04:00:00        13.0              190.0                       1  \n",
              "\n",
              "[10 rows x 94 columns]"
            ]
          },
          "execution_count": 55,
          "metadata": {},
          "output_type": "execute_result"
        }
      ]
    },
    {
      "cell_type": "code",
      "metadata": {
        "id": "7f888d6c"
      },
      "source": [
        "# btc_usd_data_60min_googletrend[['open_60min_profitable']].value_counts()"
      ],
      "id": "7f888d6c",
      "execution_count": null,
      "outputs": []
    },
    {
      "cell_type": "code",
      "metadata": {
        "id": "a13a04a0",
        "outputId": "9414bc3c-ba3c-46fd-84e4-c38aac9f75ef"
      },
      "source": [
        "btc_usd_data_120min_googletrend[['open_120min_profitable']].value_counts()"
      ],
      "id": "a13a04a0",
      "execution_count": null,
      "outputs": [
        {
          "data": {
            "text/plain": [
              "open_120min_profitable\n",
              "0                         21718\n",
              "1                           494\n",
              "dtype: int64"
            ]
          },
          "execution_count": 57,
          "metadata": {},
          "output_type": "execute_result"
        }
      ]
    },
    {
      "cell_type": "markdown",
      "metadata": {
        "id": "8f77c84b"
      },
      "source": [
        "## Dropping TA features which might be leaking future information into model"
      ],
      "id": "8f77c84b"
    },
    {
      "cell_type": "code",
      "metadata": {
        "id": "e816ee99"
      },
      "source": [
        "btc_usd_data_120min_googletrend = btc_usd_data_120min_googletrend.drop(['others_dr','others_dlr','others_cr'],axis=1)"
      ],
      "id": "e816ee99",
      "execution_count": null,
      "outputs": []
    },
    {
      "cell_type": "code",
      "metadata": {
        "id": "90c46f52",
        "outputId": "d8435d2e-86be-4319-f3f4-993b9238b68a"
      },
      "source": [
        "btc_usd_data_120min_googletrend.shape"
      ],
      "id": "90c46f52",
      "execution_count": null,
      "outputs": [
        {
          "data": {
            "text/plain": [
              "(22212, 91)"
            ]
          },
          "execution_count": 59,
          "metadata": {},
          "output_type": "execute_result"
        }
      ]
    },
    {
      "cell_type": "code",
      "metadata": {
        "id": "ca8d7591"
      },
      "source": [
        "# btc_usd_data_60min_googletrend[26220:45000].head()"
      ],
      "id": "ca8d7591",
      "execution_count": null,
      "outputs": []
    },
    {
      "cell_type": "code",
      "metadata": {
        "id": "03e573b3"
      },
      "source": [
        "# btc_usd_data_60min_googletrend[26220:43900].tail()"
      ],
      "id": "03e573b3",
      "execution_count": null,
      "outputs": []
    },
    {
      "cell_type": "markdown",
      "metadata": {
        "id": "547d5d2c"
      },
      "source": [
        "## Train & Test split"
      ],
      "id": "547d5d2c"
    },
    {
      "cell_type": "code",
      "metadata": {
        "id": "e3401353"
      },
      "source": [
        "btc_usd_data_120min_xbase = btc_usd_data_120min_googletrend.copy().drop(['open_120min_profitable'],axis=1)\n",
        "btc_usd_data_120min_ybase = btc_usd_data_120min_googletrend.copy()['open_120min_profitable']\n",
        "x_train, x_test, y_train, y_test = train_test_split(btc_usd_data_120min_xbase, btc_usd_data_120min_ybase, test_size=0.20, random_state=42)"
      ],
      "id": "e3401353",
      "execution_count": null,
      "outputs": []
    },
    {
      "cell_type": "code",
      "metadata": {
        "id": "c08ddad3"
      },
      "source": [
        "num_cols = btc_usd_data_120min_xbase.columns"
      ],
      "id": "c08ddad3",
      "execution_count": null,
      "outputs": []
    },
    {
      "cell_type": "markdown",
      "metadata": {
        "id": "8b058c76"
      },
      "source": [
        "## Fitting a scaler and scaling training dataset"
      ],
      "id": "8b058c76"
    },
    {
      "cell_type": "code",
      "metadata": {
        "id": "94b330c8",
        "outputId": "556a17cb-7a63-4254-9345-8bdc9f32694a"
      },
      "source": [
        "scaler =  MinMaxScaler() #StandardScaler()\n",
        "\n",
        "x_train[num_cols] = scaler.fit_transform(x_train[num_cols])\n",
        "x_train.head()"
      ],
      "id": "94b330c8",
      "execution_count": null,
      "outputs": [
        {
          "data": {
            "text/html": [
              "<div>\n",
              "<style scoped>\n",
              "    .dataframe tbody tr th:only-of-type {\n",
              "        vertical-align: middle;\n",
              "    }\n",
              "\n",
              "    .dataframe tbody tr th {\n",
              "        vertical-align: top;\n",
              "    }\n",
              "\n",
              "    .dataframe thead th {\n",
              "        text-align: right;\n",
              "    }\n",
              "</style>\n",
              "<table border=\"1\" class=\"dataframe\">\n",
              "  <thead>\n",
              "    <tr style=\"text-align: right;\">\n",
              "      <th></th>\n",
              "      <th>close_120min</th>\n",
              "      <th>high_120min</th>\n",
              "      <th>low_120min</th>\n",
              "      <th>volume_120min</th>\n",
              "      <th>volume_adi</th>\n",
              "      <th>volume_obv</th>\n",
              "      <th>volume_cmf</th>\n",
              "      <th>volume_fi</th>\n",
              "      <th>volume_mfi</th>\n",
              "      <th>volume_em</th>\n",
              "      <th>...</th>\n",
              "      <th>momentum_roc</th>\n",
              "      <th>momentum_ppo</th>\n",
              "      <th>momentum_ppo_signal</th>\n",
              "      <th>momentum_ppo_hist</th>\n",
              "      <th>bitcoin</th>\n",
              "      <th>ethereum</th>\n",
              "      <th>crypto</th>\n",
              "      <th>cryptocurrency</th>\n",
              "      <th>blockchain</th>\n",
              "      <th>overall_trend_sum</th>\n",
              "    </tr>\n",
              "    <tr>\n",
              "      <th>date_time</th>\n",
              "      <th></th>\n",
              "      <th></th>\n",
              "      <th></th>\n",
              "      <th></th>\n",
              "      <th></th>\n",
              "      <th></th>\n",
              "      <th></th>\n",
              "      <th></th>\n",
              "      <th></th>\n",
              "      <th></th>\n",
              "      <th></th>\n",
              "      <th></th>\n",
              "      <th></th>\n",
              "      <th></th>\n",
              "      <th></th>\n",
              "      <th></th>\n",
              "      <th></th>\n",
              "      <th></th>\n",
              "      <th></th>\n",
              "      <th></th>\n",
              "      <th></th>\n",
              "    </tr>\n",
              "  </thead>\n",
              "  <tbody>\n",
              "    <tr>\n",
              "      <th>2018-03-25 06:00:00</th>\n",
              "      <td>0.119388</td>\n",
              "      <td>0.118319</td>\n",
              "      <td>0.119755</td>\n",
              "      <td>0.004479</td>\n",
              "      <td>1.0</td>\n",
              "      <td>0.798962</td>\n",
              "      <td>0.496942</td>\n",
              "      <td>0.896669</td>\n",
              "      <td>0.297491</td>\n",
              "      <td>0.464530</td>\n",
              "      <td>...</td>\n",
              "      <td>0.428072</td>\n",
              "      <td>0.243476</td>\n",
              "      <td>0.286851</td>\n",
              "      <td>0.184017</td>\n",
              "      <td>0.116788</td>\n",
              "      <td>0.010526</td>\n",
              "      <td>0.023810</td>\n",
              "      <td>0.100000</td>\n",
              "      <td>0.061538</td>\n",
              "      <td>0.091262</td>\n",
              "    </tr>\n",
              "    <tr>\n",
              "      <th>2020-09-10 18:00:00</th>\n",
              "      <td>0.084030</td>\n",
              "      <td>0.084069</td>\n",
              "      <td>0.084232</td>\n",
              "      <td>0.011960</td>\n",
              "      <td>1.0</td>\n",
              "      <td>0.085707</td>\n",
              "      <td>0.431881</td>\n",
              "      <td>0.898392</td>\n",
              "      <td>0.716121</td>\n",
              "      <td>0.463433</td>\n",
              "      <td>...</td>\n",
              "      <td>0.537106</td>\n",
              "      <td>0.406310</td>\n",
              "      <td>0.417807</td>\n",
              "      <td>0.293664</td>\n",
              "      <td>0.470803</td>\n",
              "      <td>0.094737</td>\n",
              "      <td>0.136905</td>\n",
              "      <td>0.150000</td>\n",
              "      <td>0.200000</td>\n",
              "      <td>0.370874</td>\n",
              "    </tr>\n",
              "    <tr>\n",
              "      <th>2019-07-19 00:00:00</th>\n",
              "      <td>0.050770</td>\n",
              "      <td>0.051014</td>\n",
              "      <td>0.050693</td>\n",
              "      <td>0.011899</td>\n",
              "      <td>1.0</td>\n",
              "      <td>0.337245</td>\n",
              "      <td>0.614239</td>\n",
              "      <td>0.899293</td>\n",
              "      <td>0.617095</td>\n",
              "      <td>0.464119</td>\n",
              "      <td>...</td>\n",
              "      <td>0.554081</td>\n",
              "      <td>0.306757</td>\n",
              "      <td>0.371276</td>\n",
              "      <td>0.189959</td>\n",
              "      <td>0.496350</td>\n",
              "      <td>0.252632</td>\n",
              "      <td>0.065476</td>\n",
              "      <td>0.100000</td>\n",
              "      <td>0.123077</td>\n",
              "      <td>0.403883</td>\n",
              "    </tr>\n",
              "    <tr>\n",
              "      <th>2019-09-29 12:00:00</th>\n",
              "      <td>0.038086</td>\n",
              "      <td>0.037804</td>\n",
              "      <td>0.038174</td>\n",
              "      <td>0.003728</td>\n",
              "      <td>1.0</td>\n",
              "      <td>0.242850</td>\n",
              "      <td>0.523787</td>\n",
              "      <td>0.897687</td>\n",
              "      <td>0.307860</td>\n",
              "      <td>0.463755</td>\n",
              "      <td>...</td>\n",
              "      <td>0.442988</td>\n",
              "      <td>0.221277</td>\n",
              "      <td>0.246934</td>\n",
              "      <td>0.193196</td>\n",
              "      <td>0.153285</td>\n",
              "      <td>0.010526</td>\n",
              "      <td>0.035714</td>\n",
              "      <td>0.033333</td>\n",
              "      <td>0.061538</td>\n",
              "      <td>0.106796</td>\n",
              "    </tr>\n",
              "    <tr>\n",
              "      <th>2018-09-07 04:00:00</th>\n",
              "      <td>0.052288</td>\n",
              "      <td>0.052264</td>\n",
              "      <td>0.052420</td>\n",
              "      <td>0.027330</td>\n",
              "      <td>1.0</td>\n",
              "      <td>0.493505</td>\n",
              "      <td>0.594411</td>\n",
              "      <td>0.893078</td>\n",
              "      <td>0.436639</td>\n",
              "      <td>0.464054</td>\n",
              "      <td>...</td>\n",
              "      <td>0.489437</td>\n",
              "      <td>0.276971</td>\n",
              "      <td>0.424960</td>\n",
              "      <td>0.085003</td>\n",
              "      <td>0.408759</td>\n",
              "      <td>0.052632</td>\n",
              "      <td>0.089286</td>\n",
              "      <td>0.216667</td>\n",
              "      <td>0.276923</td>\n",
              "      <td>0.324272</td>\n",
              "    </tr>\n",
              "  </tbody>\n",
              "</table>\n",
              "<p>5 rows × 90 columns</p>\n",
              "</div>"
            ],
            "text/plain": [
              "                     close_120min  high_120min  low_120min  volume_120min  \\\n",
              "date_time                                                                   \n",
              "2018-03-25 06:00:00      0.119388     0.118319    0.119755       0.004479   \n",
              "2020-09-10 18:00:00      0.084030     0.084069    0.084232       0.011960   \n",
              "2019-07-19 00:00:00      0.050770     0.051014    0.050693       0.011899   \n",
              "2019-09-29 12:00:00      0.038086     0.037804    0.038174       0.003728   \n",
              "2018-09-07 04:00:00      0.052288     0.052264    0.052420       0.027330   \n",
              "\n",
              "                     volume_adi  volume_obv  volume_cmf  volume_fi  \\\n",
              "date_time                                                            \n",
              "2018-03-25 06:00:00         1.0    0.798962    0.496942   0.896669   \n",
              "2020-09-10 18:00:00         1.0    0.085707    0.431881   0.898392   \n",
              "2019-07-19 00:00:00         1.0    0.337245    0.614239   0.899293   \n",
              "2019-09-29 12:00:00         1.0    0.242850    0.523787   0.897687   \n",
              "2018-09-07 04:00:00         1.0    0.493505    0.594411   0.893078   \n",
              "\n",
              "                     volume_mfi  volume_em  ...  momentum_roc  momentum_ppo  \\\n",
              "date_time                                   ...                               \n",
              "2018-03-25 06:00:00    0.297491   0.464530  ...      0.428072      0.243476   \n",
              "2020-09-10 18:00:00    0.716121   0.463433  ...      0.537106      0.406310   \n",
              "2019-07-19 00:00:00    0.617095   0.464119  ...      0.554081      0.306757   \n",
              "2019-09-29 12:00:00    0.307860   0.463755  ...      0.442988      0.221277   \n",
              "2018-09-07 04:00:00    0.436639   0.464054  ...      0.489437      0.276971   \n",
              "\n",
              "                     momentum_ppo_signal  momentum_ppo_hist   bitcoin  \\\n",
              "date_time                                                               \n",
              "2018-03-25 06:00:00             0.286851           0.184017  0.116788   \n",
              "2020-09-10 18:00:00             0.417807           0.293664  0.470803   \n",
              "2019-07-19 00:00:00             0.371276           0.189959  0.496350   \n",
              "2019-09-29 12:00:00             0.246934           0.193196  0.153285   \n",
              "2018-09-07 04:00:00             0.424960           0.085003  0.408759   \n",
              "\n",
              "                     ethereum    crypto  cryptocurrency  blockchain  \\\n",
              "date_time                                                             \n",
              "2018-03-25 06:00:00  0.010526  0.023810        0.100000    0.061538   \n",
              "2020-09-10 18:00:00  0.094737  0.136905        0.150000    0.200000   \n",
              "2019-07-19 00:00:00  0.252632  0.065476        0.100000    0.123077   \n",
              "2019-09-29 12:00:00  0.010526  0.035714        0.033333    0.061538   \n",
              "2018-09-07 04:00:00  0.052632  0.089286        0.216667    0.276923   \n",
              "\n",
              "                     overall_trend_sum  \n",
              "date_time                               \n",
              "2018-03-25 06:00:00           0.091262  \n",
              "2020-09-10 18:00:00           0.370874  \n",
              "2019-07-19 00:00:00           0.403883  \n",
              "2019-09-29 12:00:00           0.106796  \n",
              "2018-09-07 04:00:00           0.324272  \n",
              "\n",
              "[5 rows x 90 columns]"
            ]
          },
          "execution_count": 64,
          "metadata": {},
          "output_type": "execute_result"
        }
      ]
    },
    {
      "cell_type": "markdown",
      "metadata": {
        "id": "2014ef02"
      },
      "source": [
        "## Scaling test dataset"
      ],
      "id": "2014ef02"
    },
    {
      "cell_type": "code",
      "metadata": {
        "id": "3d7cecf4",
        "outputId": "174d0ce7-0ae1-4dda-ccb6-06f1855ee3cd"
      },
      "source": [
        "x_test[num_cols] = scaler.transform(x_test[num_cols])\n",
        "x_test[num_cols].head()"
      ],
      "id": "3d7cecf4",
      "execution_count": null,
      "outputs": [
        {
          "data": {
            "text/html": [
              "<div>\n",
              "<style scoped>\n",
              "    .dataframe tbody tr th:only-of-type {\n",
              "        vertical-align: middle;\n",
              "    }\n",
              "\n",
              "    .dataframe tbody tr th {\n",
              "        vertical-align: top;\n",
              "    }\n",
              "\n",
              "    .dataframe thead th {\n",
              "        text-align: right;\n",
              "    }\n",
              "</style>\n",
              "<table border=\"1\" class=\"dataframe\">\n",
              "  <thead>\n",
              "    <tr style=\"text-align: right;\">\n",
              "      <th></th>\n",
              "      <th>close_120min</th>\n",
              "      <th>high_120min</th>\n",
              "      <th>low_120min</th>\n",
              "      <th>volume_120min</th>\n",
              "      <th>volume_adi</th>\n",
              "      <th>volume_obv</th>\n",
              "      <th>volume_cmf</th>\n",
              "      <th>volume_fi</th>\n",
              "      <th>volume_mfi</th>\n",
              "      <th>volume_em</th>\n",
              "      <th>...</th>\n",
              "      <th>momentum_roc</th>\n",
              "      <th>momentum_ppo</th>\n",
              "      <th>momentum_ppo_signal</th>\n",
              "      <th>momentum_ppo_hist</th>\n",
              "      <th>bitcoin</th>\n",
              "      <th>ethereum</th>\n",
              "      <th>crypto</th>\n",
              "      <th>cryptocurrency</th>\n",
              "      <th>blockchain</th>\n",
              "      <th>overall_trend_sum</th>\n",
              "    </tr>\n",
              "    <tr>\n",
              "      <th>date_time</th>\n",
              "      <th></th>\n",
              "      <th></th>\n",
              "      <th></th>\n",
              "      <th></th>\n",
              "      <th></th>\n",
              "      <th></th>\n",
              "      <th></th>\n",
              "      <th></th>\n",
              "      <th></th>\n",
              "      <th></th>\n",
              "      <th></th>\n",
              "      <th></th>\n",
              "      <th></th>\n",
              "      <th></th>\n",
              "      <th></th>\n",
              "      <th></th>\n",
              "      <th></th>\n",
              "      <th></th>\n",
              "      <th></th>\n",
              "      <th></th>\n",
              "      <th></th>\n",
              "    </tr>\n",
              "  </thead>\n",
              "  <tbody>\n",
              "    <tr>\n",
              "      <th>2019-07-25 16:00:00</th>\n",
              "      <td>0.049895</td>\n",
              "      <td>0.049472</td>\n",
              "      <td>0.050122</td>\n",
              "      <td>0.004684</td>\n",
              "      <td>1.0</td>\n",
              "      <td>0.321955</td>\n",
              "      <td>0.478556</td>\n",
              "      <td>0.897905</td>\n",
              "      <td>0.584469</td>\n",
              "      <td>0.463840</td>\n",
              "      <td>...</td>\n",
              "      <td>0.523209</td>\n",
              "      <td>0.311232</td>\n",
              "      <td>0.385122</td>\n",
              "      <td>0.181768</td>\n",
              "      <td>0.489051</td>\n",
              "      <td>0.036842</td>\n",
              "      <td>0.125000</td>\n",
              "      <td>0.133333</td>\n",
              "      <td>0.230769</td>\n",
              "      <td>0.357282</td>\n",
              "    </tr>\n",
              "    <tr>\n",
              "      <th>2019-05-05 04:00:00</th>\n",
              "      <td>0.038366</td>\n",
              "      <td>0.037944</td>\n",
              "      <td>0.038567</td>\n",
              "      <td>0.003159</td>\n",
              "      <td>1.0</td>\n",
              "      <td>0.370915</td>\n",
              "      <td>0.639797</td>\n",
              "      <td>0.897753</td>\n",
              "      <td>0.335225</td>\n",
              "      <td>0.463974</td>\n",
              "      <td>...</td>\n",
              "      <td>0.436377</td>\n",
              "      <td>0.225890</td>\n",
              "      <td>0.296254</td>\n",
              "      <td>0.146427</td>\n",
              "      <td>0.470803</td>\n",
              "      <td>0.036842</td>\n",
              "      <td>0.119048</td>\n",
              "      <td>0.183333</td>\n",
              "      <td>0.246154</td>\n",
              "      <td>0.353398</td>\n",
              "    </tr>\n",
              "    <tr>\n",
              "      <th>2020-12-01 04:00:00</th>\n",
              "      <td>0.139748</td>\n",
              "      <td>0.138609</td>\n",
              "      <td>0.139916</td>\n",
              "      <td>0.004603</td>\n",
              "      <td>1.0</td>\n",
              "      <td>0.146604</td>\n",
              "      <td>0.504887</td>\n",
              "      <td>0.900419</td>\n",
              "      <td>0.752891</td>\n",
              "      <td>0.463203</td>\n",
              "      <td>...</td>\n",
              "      <td>0.522343</td>\n",
              "      <td>0.460910</td>\n",
              "      <td>0.590580</td>\n",
              "      <td>0.189517</td>\n",
              "      <td>0.613139</td>\n",
              "      <td>0.115789</td>\n",
              "      <td>0.107143</td>\n",
              "      <td>0.183333</td>\n",
              "      <td>0.107692</td>\n",
              "      <td>0.436893</td>\n",
              "    </tr>\n",
              "    <tr>\n",
              "      <th>2020-09-19 02:00:00</th>\n",
              "      <td>0.087659</td>\n",
              "      <td>0.086943</td>\n",
              "      <td>0.088030</td>\n",
              "      <td>0.001936</td>\n",
              "      <td>1.0</td>\n",
              "      <td>0.096977</td>\n",
              "      <td>0.609475</td>\n",
              "      <td>0.897737</td>\n",
              "      <td>0.259047</td>\n",
              "      <td>0.464581</td>\n",
              "      <td>...</td>\n",
              "      <td>0.461398</td>\n",
              "      <td>0.272608</td>\n",
              "      <td>0.366295</td>\n",
              "      <td>0.142380</td>\n",
              "      <td>0.445255</td>\n",
              "      <td>0.089474</td>\n",
              "      <td>0.166667</td>\n",
              "      <td>0.200000</td>\n",
              "      <td>0.184615</td>\n",
              "      <td>0.368932</td>\n",
              "    </tr>\n",
              "    <tr>\n",
              "      <th>2018-03-25 08:00:00</th>\n",
              "      <td>0.119107</td>\n",
              "      <td>0.118216</td>\n",
              "      <td>0.119011</td>\n",
              "      <td>0.006863</td>\n",
              "      <td>1.0</td>\n",
              "      <td>0.798358</td>\n",
              "      <td>0.491640</td>\n",
              "      <td>0.896772</td>\n",
              "      <td>0.292969</td>\n",
              "      <td>0.463374</td>\n",
              "      <td>...</td>\n",
              "      <td>0.427608</td>\n",
              "      <td>0.237023</td>\n",
              "      <td>0.278052</td>\n",
              "      <td>0.183619</td>\n",
              "      <td>0.113139</td>\n",
              "      <td>0.010526</td>\n",
              "      <td>0.023810</td>\n",
              "      <td>0.083333</td>\n",
              "      <td>0.061538</td>\n",
              "      <td>0.087379</td>\n",
              "    </tr>\n",
              "  </tbody>\n",
              "</table>\n",
              "<p>5 rows × 90 columns</p>\n",
              "</div>"
            ],
            "text/plain": [
              "                     close_120min  high_120min  low_120min  volume_120min  \\\n",
              "date_time                                                                   \n",
              "2019-07-25 16:00:00      0.049895     0.049472    0.050122       0.004684   \n",
              "2019-05-05 04:00:00      0.038366     0.037944    0.038567       0.003159   \n",
              "2020-12-01 04:00:00      0.139748     0.138609    0.139916       0.004603   \n",
              "2020-09-19 02:00:00      0.087659     0.086943    0.088030       0.001936   \n",
              "2018-03-25 08:00:00      0.119107     0.118216    0.119011       0.006863   \n",
              "\n",
              "                     volume_adi  volume_obv  volume_cmf  volume_fi  \\\n",
              "date_time                                                            \n",
              "2019-07-25 16:00:00         1.0    0.321955    0.478556   0.897905   \n",
              "2019-05-05 04:00:00         1.0    0.370915    0.639797   0.897753   \n",
              "2020-12-01 04:00:00         1.0    0.146604    0.504887   0.900419   \n",
              "2020-09-19 02:00:00         1.0    0.096977    0.609475   0.897737   \n",
              "2018-03-25 08:00:00         1.0    0.798358    0.491640   0.896772   \n",
              "\n",
              "                     volume_mfi  volume_em  ...  momentum_roc  momentum_ppo  \\\n",
              "date_time                                   ...                               \n",
              "2019-07-25 16:00:00    0.584469   0.463840  ...      0.523209      0.311232   \n",
              "2019-05-05 04:00:00    0.335225   0.463974  ...      0.436377      0.225890   \n",
              "2020-12-01 04:00:00    0.752891   0.463203  ...      0.522343      0.460910   \n",
              "2020-09-19 02:00:00    0.259047   0.464581  ...      0.461398      0.272608   \n",
              "2018-03-25 08:00:00    0.292969   0.463374  ...      0.427608      0.237023   \n",
              "\n",
              "                     momentum_ppo_signal  momentum_ppo_hist   bitcoin  \\\n",
              "date_time                                                               \n",
              "2019-07-25 16:00:00             0.385122           0.181768  0.489051   \n",
              "2019-05-05 04:00:00             0.296254           0.146427  0.470803   \n",
              "2020-12-01 04:00:00             0.590580           0.189517  0.613139   \n",
              "2020-09-19 02:00:00             0.366295           0.142380  0.445255   \n",
              "2018-03-25 08:00:00             0.278052           0.183619  0.113139   \n",
              "\n",
              "                     ethereum    crypto  cryptocurrency  blockchain  \\\n",
              "date_time                                                             \n",
              "2019-07-25 16:00:00  0.036842  0.125000        0.133333    0.230769   \n",
              "2019-05-05 04:00:00  0.036842  0.119048        0.183333    0.246154   \n",
              "2020-12-01 04:00:00  0.115789  0.107143        0.183333    0.107692   \n",
              "2020-09-19 02:00:00  0.089474  0.166667        0.200000    0.184615   \n",
              "2018-03-25 08:00:00  0.010526  0.023810        0.083333    0.061538   \n",
              "\n",
              "                     overall_trend_sum  \n",
              "date_time                               \n",
              "2019-07-25 16:00:00           0.357282  \n",
              "2019-05-05 04:00:00           0.353398  \n",
              "2020-12-01 04:00:00           0.436893  \n",
              "2020-09-19 02:00:00           0.368932  \n",
              "2018-03-25 08:00:00           0.087379  \n",
              "\n",
              "[5 rows x 90 columns]"
            ]
          },
          "execution_count": 65,
          "metadata": {},
          "output_type": "execute_result"
        }
      ]
    },
    {
      "cell_type": "markdown",
      "metadata": {
        "id": "b4ed4622"
      },
      "source": [
        "## training dataset stats"
      ],
      "id": "b4ed4622"
    },
    {
      "cell_type": "code",
      "metadata": {
        "id": "fd1b1359",
        "outputId": "a121c461-2f09-413e-f409-8517ac478b17"
      },
      "source": [
        "x_train_subset = x_train[0:].copy()\n",
        "y_train_subset = y_train[0:].copy()\n",
        "\n",
        "print(\"x_train_subset shape:\",x_train_subset.shape)\n",
        "print(\"y_train_subset shape:\",y_train_subset.shape)"
      ],
      "id": "fd1b1359",
      "execution_count": null,
      "outputs": [
        {
          "name": "stdout",
          "output_type": "stream",
          "text": [
            "x_train_subset shape: (17769, 90)\n",
            "y_train_subset shape: (17769,)\n"
          ]
        }
      ]
    },
    {
      "cell_type": "code",
      "metadata": {
        "id": "c1fd0794",
        "outputId": "05f4d543-96d7-4f7a-9aca-5252cc64780f"
      },
      "source": [
        "x_train_subset.head(2)"
      ],
      "id": "c1fd0794",
      "execution_count": null,
      "outputs": [
        {
          "data": {
            "text/html": [
              "<div>\n",
              "<style scoped>\n",
              "    .dataframe tbody tr th:only-of-type {\n",
              "        vertical-align: middle;\n",
              "    }\n",
              "\n",
              "    .dataframe tbody tr th {\n",
              "        vertical-align: top;\n",
              "    }\n",
              "\n",
              "    .dataframe thead th {\n",
              "        text-align: right;\n",
              "    }\n",
              "</style>\n",
              "<table border=\"1\" class=\"dataframe\">\n",
              "  <thead>\n",
              "    <tr style=\"text-align: right;\">\n",
              "      <th></th>\n",
              "      <th>close_120min</th>\n",
              "      <th>high_120min</th>\n",
              "      <th>low_120min</th>\n",
              "      <th>volume_120min</th>\n",
              "      <th>volume_adi</th>\n",
              "      <th>volume_obv</th>\n",
              "      <th>volume_cmf</th>\n",
              "      <th>volume_fi</th>\n",
              "      <th>volume_mfi</th>\n",
              "      <th>volume_em</th>\n",
              "      <th>...</th>\n",
              "      <th>momentum_roc</th>\n",
              "      <th>momentum_ppo</th>\n",
              "      <th>momentum_ppo_signal</th>\n",
              "      <th>momentum_ppo_hist</th>\n",
              "      <th>bitcoin</th>\n",
              "      <th>ethereum</th>\n",
              "      <th>crypto</th>\n",
              "      <th>cryptocurrency</th>\n",
              "      <th>blockchain</th>\n",
              "      <th>overall_trend_sum</th>\n",
              "    </tr>\n",
              "    <tr>\n",
              "      <th>date_time</th>\n",
              "      <th></th>\n",
              "      <th></th>\n",
              "      <th></th>\n",
              "      <th></th>\n",
              "      <th></th>\n",
              "      <th></th>\n",
              "      <th></th>\n",
              "      <th></th>\n",
              "      <th></th>\n",
              "      <th></th>\n",
              "      <th></th>\n",
              "      <th></th>\n",
              "      <th></th>\n",
              "      <th></th>\n",
              "      <th></th>\n",
              "      <th></th>\n",
              "      <th></th>\n",
              "      <th></th>\n",
              "      <th></th>\n",
              "      <th></th>\n",
              "      <th></th>\n",
              "    </tr>\n",
              "  </thead>\n",
              "  <tbody>\n",
              "    <tr>\n",
              "      <th>2018-03-25 06:00:00</th>\n",
              "      <td>0.119388</td>\n",
              "      <td>0.118319</td>\n",
              "      <td>0.119755</td>\n",
              "      <td>0.004479</td>\n",
              "      <td>1.0</td>\n",
              "      <td>0.798962</td>\n",
              "      <td>0.496942</td>\n",
              "      <td>0.896669</td>\n",
              "      <td>0.297491</td>\n",
              "      <td>0.464530</td>\n",
              "      <td>...</td>\n",
              "      <td>0.428072</td>\n",
              "      <td>0.243476</td>\n",
              "      <td>0.286851</td>\n",
              "      <td>0.184017</td>\n",
              "      <td>0.116788</td>\n",
              "      <td>0.010526</td>\n",
              "      <td>0.023810</td>\n",
              "      <td>0.10</td>\n",
              "      <td>0.061538</td>\n",
              "      <td>0.091262</td>\n",
              "    </tr>\n",
              "    <tr>\n",
              "      <th>2020-09-10 18:00:00</th>\n",
              "      <td>0.084030</td>\n",
              "      <td>0.084069</td>\n",
              "      <td>0.084232</td>\n",
              "      <td>0.011960</td>\n",
              "      <td>1.0</td>\n",
              "      <td>0.085707</td>\n",
              "      <td>0.431881</td>\n",
              "      <td>0.898392</td>\n",
              "      <td>0.716121</td>\n",
              "      <td>0.463433</td>\n",
              "      <td>...</td>\n",
              "      <td>0.537106</td>\n",
              "      <td>0.406310</td>\n",
              "      <td>0.417807</td>\n",
              "      <td>0.293664</td>\n",
              "      <td>0.470803</td>\n",
              "      <td>0.094737</td>\n",
              "      <td>0.136905</td>\n",
              "      <td>0.15</td>\n",
              "      <td>0.200000</td>\n",
              "      <td>0.370874</td>\n",
              "    </tr>\n",
              "  </tbody>\n",
              "</table>\n",
              "<p>2 rows × 90 columns</p>\n",
              "</div>"
            ],
            "text/plain": [
              "                     close_120min  high_120min  low_120min  volume_120min  \\\n",
              "date_time                                                                   \n",
              "2018-03-25 06:00:00      0.119388     0.118319    0.119755       0.004479   \n",
              "2020-09-10 18:00:00      0.084030     0.084069    0.084232       0.011960   \n",
              "\n",
              "                     volume_adi  volume_obv  volume_cmf  volume_fi  \\\n",
              "date_time                                                            \n",
              "2018-03-25 06:00:00         1.0    0.798962    0.496942   0.896669   \n",
              "2020-09-10 18:00:00         1.0    0.085707    0.431881   0.898392   \n",
              "\n",
              "                     volume_mfi  volume_em  ...  momentum_roc  momentum_ppo  \\\n",
              "date_time                                   ...                               \n",
              "2018-03-25 06:00:00    0.297491   0.464530  ...      0.428072      0.243476   \n",
              "2020-09-10 18:00:00    0.716121   0.463433  ...      0.537106      0.406310   \n",
              "\n",
              "                     momentum_ppo_signal  momentum_ppo_hist   bitcoin  \\\n",
              "date_time                                                               \n",
              "2018-03-25 06:00:00             0.286851           0.184017  0.116788   \n",
              "2020-09-10 18:00:00             0.417807           0.293664  0.470803   \n",
              "\n",
              "                     ethereum    crypto  cryptocurrency  blockchain  \\\n",
              "date_time                                                             \n",
              "2018-03-25 06:00:00  0.010526  0.023810            0.10    0.061538   \n",
              "2020-09-10 18:00:00  0.094737  0.136905            0.15    0.200000   \n",
              "\n",
              "                     overall_trend_sum  \n",
              "date_time                               \n",
              "2018-03-25 06:00:00           0.091262  \n",
              "2020-09-10 18:00:00           0.370874  \n",
              "\n",
              "[2 rows x 90 columns]"
            ]
          },
          "execution_count": 67,
          "metadata": {},
          "output_type": "execute_result"
        }
      ]
    },
    {
      "cell_type": "markdown",
      "metadata": {
        "id": "2f020f68"
      },
      "source": [
        "### Notice the imbalance in ouput class"
      ],
      "id": "2f020f68"
    },
    {
      "cell_type": "code",
      "metadata": {
        "id": "5dd38a9a",
        "outputId": "6934d003-0f65-4f72-d141-9ba947c67f0b"
      },
      "source": [
        "y_train_subset.value_counts()"
      ],
      "id": "5dd38a9a",
      "execution_count": null,
      "outputs": [
        {
          "data": {
            "text/plain": [
              "0    17364\n",
              "1      405\n",
              "Name: open_120min_profitable, dtype: int64"
            ]
          },
          "execution_count": 68,
          "metadata": {},
          "output_type": "execute_result"
        }
      ]
    },
    {
      "cell_type": "markdown",
      "metadata": {
        "id": "72e4d888"
      },
      "source": [
        "### Class balancing using SMOTE"
      ],
      "id": "72e4d888"
    },
    {
      "cell_type": "code",
      "metadata": {
        "id": "41379184"
      },
      "source": [
        "#Importing SMOTE\n",
        "from imblearn.over_sampling import SMOTE\n",
        "#Oversampling the data\n",
        "smote = SMOTE(random_state = 101)"
      ],
      "id": "41379184",
      "execution_count": null,
      "outputs": []
    },
    {
      "cell_type": "code",
      "metadata": {
        "id": "07b7641a"
      },
      "source": [
        "x_train_balanced, y_train_balanced = smote.fit_resample(x_train_subset,y_train_subset)\n",
        "#Creating a new Oversampling Data Frame\n",
        "# df_oversampler = pd.DataFrame(X, columns = ['CreditScore', 'Age'])\n",
        "# df_oversampler['Exited']\n",
        "# sns.countplot(df_oversampler['Exited'])"
      ],
      "id": "07b7641a",
      "execution_count": null,
      "outputs": []
    },
    {
      "cell_type": "code",
      "metadata": {
        "id": "ce10f057",
        "outputId": "a1c0ca08-be07-40dc-d3b7-3273d8b81edd"
      },
      "source": [
        "x_test.shape"
      ],
      "id": "ce10f057",
      "execution_count": null,
      "outputs": [
        {
          "data": {
            "text/plain": [
              "(4443, 90)"
            ]
          },
          "execution_count": 71,
          "metadata": {},
          "output_type": "execute_result"
        }
      ]
    },
    {
      "cell_type": "code",
      "metadata": {
        "id": "ff390642"
      },
      "source": [
        "x_test_balanced, y_test_balanced = smote.fit_resample(x_test,y_test)"
      ],
      "id": "ff390642",
      "execution_count": null,
      "outputs": []
    },
    {
      "cell_type": "code",
      "metadata": {
        "id": "2bf80eaf",
        "outputId": "2d1b63e3-0a74-424d-e39f-b82d1779c5b2"
      },
      "source": [
        "print('y_train_balanced.value_counts():\\n',y_train_balanced.value_counts())\n",
        "print(\"\\n\")\n",
        "\n",
        "print('y_test_balanced.value_counts():\\n',y_test_balanced.value_counts())"
      ],
      "id": "2bf80eaf",
      "execution_count": null,
      "outputs": [
        {
          "name": "stdout",
          "output_type": "stream",
          "text": [
            "y_train_balanced.value_counts():\n",
            " 0    17364\n",
            "1    17364\n",
            "Name: open_120min_profitable, dtype: int64\n",
            "\n",
            "\n",
            "y_test_balanced.value_counts():\n",
            " 0    4354\n",
            "1    4354\n",
            "Name: open_120min_profitable, dtype: int64\n"
          ]
        }
      ]
    },
    {
      "cell_type": "code",
      "metadata": {
        "id": "07abe821",
        "outputId": "542e6ece-4ccf-4ed8-91cf-dd0a309351b9"
      },
      "source": [
        "print('x_train_balanced.shape:',x_train_balanced.shape)\n",
        "print('y_train_balanced.shape:',y_train_balanced.shape)\n",
        "\n",
        "print('x_test_balanced.shape:',x_test_balanced.shape)\n",
        "print('y_test_balanced.shape:',y_test_balanced.shape)"
      ],
      "id": "07abe821",
      "execution_count": null,
      "outputs": [
        {
          "name": "stdout",
          "output_type": "stream",
          "text": [
            "x_train_balanced.shape: (34728, 90)\n",
            "y_train_balanced.shape: (34728,)\n",
            "x_test_balanced.shape: (8708, 90)\n",
            "y_test_balanced.shape: (8708,)\n"
          ]
        }
      ]
    },
    {
      "cell_type": "code",
      "metadata": {
        "id": "4d5c7c31"
      },
      "source": [
        "#remerging dataset for shuffling.\n",
        "balanced_training_set = x_train_balanced.copy()\n",
        "balanced_training_set[\"target_variable\"] = 0\n",
        "balanced_training_set[\"target_variable\"] = y_train_balanced.copy()"
      ],
      "id": "4d5c7c31",
      "execution_count": null,
      "outputs": []
    },
    {
      "cell_type": "code",
      "metadata": {
        "id": "5aca2bbb",
        "outputId": "f1cdb09f-50b7-4639-d5bf-a0dff5129dc2"
      },
      "source": [
        "balanced_training_set.tail()"
      ],
      "id": "5aca2bbb",
      "execution_count": null,
      "outputs": [
        {
          "data": {
            "text/html": [
              "<div>\n",
              "<style scoped>\n",
              "    .dataframe tbody tr th:only-of-type {\n",
              "        vertical-align: middle;\n",
              "    }\n",
              "\n",
              "    .dataframe tbody tr th {\n",
              "        vertical-align: top;\n",
              "    }\n",
              "\n",
              "    .dataframe thead th {\n",
              "        text-align: right;\n",
              "    }\n",
              "</style>\n",
              "<table border=\"1\" class=\"dataframe\">\n",
              "  <thead>\n",
              "    <tr style=\"text-align: right;\">\n",
              "      <th></th>\n",
              "      <th>close_120min</th>\n",
              "      <th>high_120min</th>\n",
              "      <th>low_120min</th>\n",
              "      <th>volume_120min</th>\n",
              "      <th>volume_adi</th>\n",
              "      <th>volume_obv</th>\n",
              "      <th>volume_cmf</th>\n",
              "      <th>volume_fi</th>\n",
              "      <th>volume_mfi</th>\n",
              "      <th>volume_em</th>\n",
              "      <th>...</th>\n",
              "      <th>momentum_ppo</th>\n",
              "      <th>momentum_ppo_signal</th>\n",
              "      <th>momentum_ppo_hist</th>\n",
              "      <th>bitcoin</th>\n",
              "      <th>ethereum</th>\n",
              "      <th>crypto</th>\n",
              "      <th>cryptocurrency</th>\n",
              "      <th>blockchain</th>\n",
              "      <th>overall_trend_sum</th>\n",
              "      <th>target_variable</th>\n",
              "    </tr>\n",
              "  </thead>\n",
              "  <tbody>\n",
              "    <tr>\n",
              "      <th>34723</th>\n",
              "      <td>0.026959</td>\n",
              "      <td>0.029279</td>\n",
              "      <td>0.026512</td>\n",
              "      <td>0.186900</td>\n",
              "      <td>1.0</td>\n",
              "      <td>0.160704</td>\n",
              "      <td>0.313669</td>\n",
              "      <td>0.898780</td>\n",
              "      <td>0.444789</td>\n",
              "      <td>0.464073</td>\n",
              "      <td>...</td>\n",
              "      <td>0.500783</td>\n",
              "      <td>0.445947</td>\n",
              "      <td>0.409592</td>\n",
              "      <td>0.510598</td>\n",
              "      <td>0.066422</td>\n",
              "      <td>0.122739</td>\n",
              "      <td>0.183333</td>\n",
              "      <td>0.349481</td>\n",
              "      <td>0.399729</td>\n",
              "      <td>1</td>\n",
              "    </tr>\n",
              "    <tr>\n",
              "      <th>34724</th>\n",
              "      <td>0.068598</td>\n",
              "      <td>0.069576</td>\n",
              "      <td>0.066626</td>\n",
              "      <td>0.088337</td>\n",
              "      <td>1.0</td>\n",
              "      <td>0.650857</td>\n",
              "      <td>0.578956</td>\n",
              "      <td>0.903287</td>\n",
              "      <td>0.495397</td>\n",
              "      <td>0.464926</td>\n",
              "      <td>...</td>\n",
              "      <td>0.423075</td>\n",
              "      <td>0.429926</td>\n",
              "      <td>0.306445</td>\n",
              "      <td>0.590034</td>\n",
              "      <td>0.092978</td>\n",
              "      <td>0.091276</td>\n",
              "      <td>0.238906</td>\n",
              "      <td>0.246157</td>\n",
              "      <td>0.434960</td>\n",
              "      <td>1</td>\n",
              "    </tr>\n",
              "    <tr>\n",
              "      <th>34725</th>\n",
              "      <td>0.044051</td>\n",
              "      <td>0.044443</td>\n",
              "      <td>0.043863</td>\n",
              "      <td>0.014862</td>\n",
              "      <td>1.0</td>\n",
              "      <td>0.726099</td>\n",
              "      <td>0.547360</td>\n",
              "      <td>0.900649</td>\n",
              "      <td>0.857718</td>\n",
              "      <td>0.464503</td>\n",
              "      <td>...</td>\n",
              "      <td>0.419059</td>\n",
              "      <td>0.519992</td>\n",
              "      <td>0.201719</td>\n",
              "      <td>0.454936</td>\n",
              "      <td>0.209215</td>\n",
              "      <td>0.044789</td>\n",
              "      <td>0.192568</td>\n",
              "      <td>0.215990</td>\n",
              "      <td>0.381595</td>\n",
              "      <td>1</td>\n",
              "    </tr>\n",
              "    <tr>\n",
              "      <th>34726</th>\n",
              "      <td>0.026667</td>\n",
              "      <td>0.026772</td>\n",
              "      <td>0.026414</td>\n",
              "      <td>0.016548</td>\n",
              "      <td>1.0</td>\n",
              "      <td>0.684161</td>\n",
              "      <td>0.659674</td>\n",
              "      <td>0.898292</td>\n",
              "      <td>0.721246</td>\n",
              "      <td>0.464079</td>\n",
              "      <td>...</td>\n",
              "      <td>0.288345</td>\n",
              "      <td>0.281329</td>\n",
              "      <td>0.259729</td>\n",
              "      <td>0.402895</td>\n",
              "      <td>0.060601</td>\n",
              "      <td>0.027815</td>\n",
              "      <td>0.136295</td>\n",
              "      <td>0.179439</td>\n",
              "      <td>0.282372</td>\n",
              "      <td>1</td>\n",
              "    </tr>\n",
              "    <tr>\n",
              "      <th>34727</th>\n",
              "      <td>0.025812</td>\n",
              "      <td>0.026189</td>\n",
              "      <td>0.025493</td>\n",
              "      <td>0.077334</td>\n",
              "      <td>1.0</td>\n",
              "      <td>0.140441</td>\n",
              "      <td>0.514727</td>\n",
              "      <td>0.894724</td>\n",
              "      <td>0.325876</td>\n",
              "      <td>0.463948</td>\n",
              "      <td>...</td>\n",
              "      <td>0.459120</td>\n",
              "      <td>0.604143</td>\n",
              "      <td>0.171905</td>\n",
              "      <td>0.513042</td>\n",
              "      <td>0.046142</td>\n",
              "      <td>0.083333</td>\n",
              "      <td>0.179450</td>\n",
              "      <td>0.178936</td>\n",
              "      <td>0.358715</td>\n",
              "      <td>1</td>\n",
              "    </tr>\n",
              "  </tbody>\n",
              "</table>\n",
              "<p>5 rows × 91 columns</p>\n",
              "</div>"
            ],
            "text/plain": [
              "       close_120min  high_120min  low_120min  volume_120min  volume_adi  \\\n",
              "34723      0.026959     0.029279    0.026512       0.186900         1.0   \n",
              "34724      0.068598     0.069576    0.066626       0.088337         1.0   \n",
              "34725      0.044051     0.044443    0.043863       0.014862         1.0   \n",
              "34726      0.026667     0.026772    0.026414       0.016548         1.0   \n",
              "34727      0.025812     0.026189    0.025493       0.077334         1.0   \n",
              "\n",
              "       volume_obv  volume_cmf  volume_fi  volume_mfi  volume_em  ...  \\\n",
              "34723    0.160704    0.313669   0.898780    0.444789   0.464073  ...   \n",
              "34724    0.650857    0.578956   0.903287    0.495397   0.464926  ...   \n",
              "34725    0.726099    0.547360   0.900649    0.857718   0.464503  ...   \n",
              "34726    0.684161    0.659674   0.898292    0.721246   0.464079  ...   \n",
              "34727    0.140441    0.514727   0.894724    0.325876   0.463948  ...   \n",
              "\n",
              "       momentum_ppo  momentum_ppo_signal  momentum_ppo_hist   bitcoin  \\\n",
              "34723      0.500783             0.445947           0.409592  0.510598   \n",
              "34724      0.423075             0.429926           0.306445  0.590034   \n",
              "34725      0.419059             0.519992           0.201719  0.454936   \n",
              "34726      0.288345             0.281329           0.259729  0.402895   \n",
              "34727      0.459120             0.604143           0.171905  0.513042   \n",
              "\n",
              "       ethereum    crypto  cryptocurrency  blockchain  overall_trend_sum  \\\n",
              "34723  0.066422  0.122739        0.183333    0.349481           0.399729   \n",
              "34724  0.092978  0.091276        0.238906    0.246157           0.434960   \n",
              "34725  0.209215  0.044789        0.192568    0.215990           0.381595   \n",
              "34726  0.060601  0.027815        0.136295    0.179439           0.282372   \n",
              "34727  0.046142  0.083333        0.179450    0.178936           0.358715   \n",
              "\n",
              "       target_variable  \n",
              "34723                1  \n",
              "34724                1  \n",
              "34725                1  \n",
              "34726                1  \n",
              "34727                1  \n",
              "\n",
              "[5 rows x 91 columns]"
            ]
          },
          "execution_count": 76,
          "metadata": {},
          "output_type": "execute_result"
        }
      ]
    },
    {
      "cell_type": "code",
      "metadata": {
        "id": "e14e5808"
      },
      "source": [
        "#Shuffling dataset\n",
        "balanced_training_set = balanced_training_set.sample(frac=1).reset_index(drop=True)"
      ],
      "id": "e14e5808",
      "execution_count": null,
      "outputs": []
    },
    {
      "cell_type": "code",
      "metadata": {
        "id": "b0c59819",
        "outputId": "2825f2cb-cd9d-44d5-f325-4c0c28b880a0"
      },
      "source": [
        "balanced_training_set.head()"
      ],
      "id": "b0c59819",
      "execution_count": null,
      "outputs": [
        {
          "data": {
            "text/html": [
              "<div>\n",
              "<style scoped>\n",
              "    .dataframe tbody tr th:only-of-type {\n",
              "        vertical-align: middle;\n",
              "    }\n",
              "\n",
              "    .dataframe tbody tr th {\n",
              "        vertical-align: top;\n",
              "    }\n",
              "\n",
              "    .dataframe thead th {\n",
              "        text-align: right;\n",
              "    }\n",
              "</style>\n",
              "<table border=\"1\" class=\"dataframe\">\n",
              "  <thead>\n",
              "    <tr style=\"text-align: right;\">\n",
              "      <th></th>\n",
              "      <th>close_120min</th>\n",
              "      <th>high_120min</th>\n",
              "      <th>low_120min</th>\n",
              "      <th>volume_120min</th>\n",
              "      <th>volume_adi</th>\n",
              "      <th>volume_obv</th>\n",
              "      <th>volume_cmf</th>\n",
              "      <th>volume_fi</th>\n",
              "      <th>volume_mfi</th>\n",
              "      <th>volume_em</th>\n",
              "      <th>...</th>\n",
              "      <th>momentum_ppo</th>\n",
              "      <th>momentum_ppo_signal</th>\n",
              "      <th>momentum_ppo_hist</th>\n",
              "      <th>bitcoin</th>\n",
              "      <th>ethereum</th>\n",
              "      <th>crypto</th>\n",
              "      <th>cryptocurrency</th>\n",
              "      <th>blockchain</th>\n",
              "      <th>overall_trend_sum</th>\n",
              "      <th>target_variable</th>\n",
              "    </tr>\n",
              "  </thead>\n",
              "  <tbody>\n",
              "    <tr>\n",
              "      <th>0</th>\n",
              "      <td>0.094148</td>\n",
              "      <td>0.097104</td>\n",
              "      <td>0.093339</td>\n",
              "      <td>0.067959</td>\n",
              "      <td>1.0</td>\n",
              "      <td>0.617169</td>\n",
              "      <td>0.341789</td>\n",
              "      <td>0.900246</td>\n",
              "      <td>0.672370</td>\n",
              "      <td>0.465075</td>\n",
              "      <td>...</td>\n",
              "      <td>0.495827</td>\n",
              "      <td>0.373106</td>\n",
              "      <td>0.481549</td>\n",
              "      <td>0.514544</td>\n",
              "      <td>0.063800</td>\n",
              "      <td>0.119774</td>\n",
              "      <td>0.246182</td>\n",
              "      <td>0.384847</td>\n",
              "      <td>0.411680</td>\n",
              "      <td>1</td>\n",
              "    </tr>\n",
              "    <tr>\n",
              "      <th>1</th>\n",
              "      <td>0.052557</td>\n",
              "      <td>0.052906</td>\n",
              "      <td>0.051767</td>\n",
              "      <td>0.037002</td>\n",
              "      <td>1.0</td>\n",
              "      <td>0.443150</td>\n",
              "      <td>0.555052</td>\n",
              "      <td>0.901351</td>\n",
              "      <td>0.873806</td>\n",
              "      <td>0.464233</td>\n",
              "      <td>...</td>\n",
              "      <td>0.383945</td>\n",
              "      <td>0.460697</td>\n",
              "      <td>0.212034</td>\n",
              "      <td>0.514557</td>\n",
              "      <td>0.078987</td>\n",
              "      <td>0.095215</td>\n",
              "      <td>0.162104</td>\n",
              "      <td>0.170635</td>\n",
              "      <td>0.372446</td>\n",
              "      <td>1</td>\n",
              "    </tr>\n",
              "    <tr>\n",
              "      <th>2</th>\n",
              "      <td>0.099857</td>\n",
              "      <td>0.099101</td>\n",
              "      <td>0.099231</td>\n",
              "      <td>0.010743</td>\n",
              "      <td>1.0</td>\n",
              "      <td>0.649361</td>\n",
              "      <td>0.522427</td>\n",
              "      <td>0.897308</td>\n",
              "      <td>0.495225</td>\n",
              "      <td>0.462629</td>\n",
              "      <td>...</td>\n",
              "      <td>0.311887</td>\n",
              "      <td>0.415613</td>\n",
              "      <td>0.149442</td>\n",
              "      <td>0.434307</td>\n",
              "      <td>0.068421</td>\n",
              "      <td>0.113095</td>\n",
              "      <td>0.316667</td>\n",
              "      <td>0.353846</td>\n",
              "      <td>0.372816</td>\n",
              "      <td>0</td>\n",
              "    </tr>\n",
              "    <tr>\n",
              "      <th>3</th>\n",
              "      <td>0.110741</td>\n",
              "      <td>0.113699</td>\n",
              "      <td>0.109454</td>\n",
              "      <td>0.041643</td>\n",
              "      <td>1.0</td>\n",
              "      <td>0.772867</td>\n",
              "      <td>0.396207</td>\n",
              "      <td>0.910550</td>\n",
              "      <td>0.778515</td>\n",
              "      <td>0.466758</td>\n",
              "      <td>...</td>\n",
              "      <td>0.463574</td>\n",
              "      <td>0.587891</td>\n",
              "      <td>0.196593</td>\n",
              "      <td>0.562908</td>\n",
              "      <td>0.086798</td>\n",
              "      <td>0.128027</td>\n",
              "      <td>0.325423</td>\n",
              "      <td>0.299610</td>\n",
              "      <td>0.447062</td>\n",
              "      <td>1</td>\n",
              "    </tr>\n",
              "    <tr>\n",
              "      <th>4</th>\n",
              "      <td>0.099330</td>\n",
              "      <td>0.099666</td>\n",
              "      <td>0.098754</td>\n",
              "      <td>0.021634</td>\n",
              "      <td>1.0</td>\n",
              "      <td>0.630870</td>\n",
              "      <td>0.549338</td>\n",
              "      <td>0.897513</td>\n",
              "      <td>0.410097</td>\n",
              "      <td>0.463640</td>\n",
              "      <td>...</td>\n",
              "      <td>0.334421</td>\n",
              "      <td>0.354471</td>\n",
              "      <td>0.251293</td>\n",
              "      <td>0.510949</td>\n",
              "      <td>0.063158</td>\n",
              "      <td>0.130952</td>\n",
              "      <td>0.250000</td>\n",
              "      <td>0.384615</td>\n",
              "      <td>0.413592</td>\n",
              "      <td>0</td>\n",
              "    </tr>\n",
              "  </tbody>\n",
              "</table>\n",
              "<p>5 rows × 91 columns</p>\n",
              "</div>"
            ],
            "text/plain": [
              "   close_120min  high_120min  low_120min  volume_120min  volume_adi  \\\n",
              "0      0.094148     0.097104    0.093339       0.067959         1.0   \n",
              "1      0.052557     0.052906    0.051767       0.037002         1.0   \n",
              "2      0.099857     0.099101    0.099231       0.010743         1.0   \n",
              "3      0.110741     0.113699    0.109454       0.041643         1.0   \n",
              "4      0.099330     0.099666    0.098754       0.021634         1.0   \n",
              "\n",
              "   volume_obv  volume_cmf  volume_fi  volume_mfi  volume_em  ...  \\\n",
              "0    0.617169    0.341789   0.900246    0.672370   0.465075  ...   \n",
              "1    0.443150    0.555052   0.901351    0.873806   0.464233  ...   \n",
              "2    0.649361    0.522427   0.897308    0.495225   0.462629  ...   \n",
              "3    0.772867    0.396207   0.910550    0.778515   0.466758  ...   \n",
              "4    0.630870    0.549338   0.897513    0.410097   0.463640  ...   \n",
              "\n",
              "   momentum_ppo  momentum_ppo_signal  momentum_ppo_hist   bitcoin  ethereum  \\\n",
              "0      0.495827             0.373106           0.481549  0.514544  0.063800   \n",
              "1      0.383945             0.460697           0.212034  0.514557  0.078987   \n",
              "2      0.311887             0.415613           0.149442  0.434307  0.068421   \n",
              "3      0.463574             0.587891           0.196593  0.562908  0.086798   \n",
              "4      0.334421             0.354471           0.251293  0.510949  0.063158   \n",
              "\n",
              "     crypto  cryptocurrency  blockchain  overall_trend_sum  target_variable  \n",
              "0  0.119774        0.246182    0.384847           0.411680                1  \n",
              "1  0.095215        0.162104    0.170635           0.372446                1  \n",
              "2  0.113095        0.316667    0.353846           0.372816                0  \n",
              "3  0.128027        0.325423    0.299610           0.447062                1  \n",
              "4  0.130952        0.250000    0.384615           0.413592                0  \n",
              "\n",
              "[5 rows x 91 columns]"
            ]
          },
          "execution_count": 78,
          "metadata": {},
          "output_type": "execute_result"
        }
      ]
    },
    {
      "cell_type": "code",
      "metadata": {
        "id": "dc9b11ee"
      },
      "source": [
        "X = balanced_training_set.drop(['target_variable'],axis=1)# x_train_subset\n",
        "target = balanced_training_set[\"target_variable\"].copy() #y_train_subset"
      ],
      "id": "dc9b11ee",
      "execution_count": null,
      "outputs": []
    },
    {
      "cell_type": "code",
      "metadata": {
        "id": "c63799b4"
      },
      "source": [
        "X_rfecv = X[0:20000].copy()\n",
        "target_rfecv = target[0:20000].copy()"
      ],
      "id": "c63799b4",
      "execution_count": null,
      "outputs": []
    },
    {
      "cell_type": "code",
      "metadata": {
        "id": "92cf699a",
        "outputId": "9d7daa73-e47f-44ae-fadf-d17e0f6671ff"
      },
      "source": [
        "rfc =  RandomForestClassifier(random_state=101) #choosing class_weight parameter as \"balanced\" as it is the target variable is highly imbalanced\n",
        "rfecv2 = RFECV(estimator=rfc, step=5, cv=StratifiedKFold(3), scoring='accuracy',min_features_to_select = 10,n_jobs=-1) #Increasing number of jobs for parallelism and increasing feature seletion speed\n",
        "rfecv2.fit(X_rfecv, target_rfecv)"
      ],
      "id": "92cf699a",
      "execution_count": null,
      "outputs": [
        {
          "data": {
            "text/plain": [
              "RFECV(cv=StratifiedKFold(n_splits=3, random_state=None, shuffle=False),\n",
              "      estimator=RandomForestClassifier(random_state=101),\n",
              "      min_features_to_select=10, n_jobs=-1, scoring='accuracy', step=5)"
            ]
          },
          "execution_count": 81,
          "metadata": {},
          "output_type": "execute_result"
        }
      ]
    },
    {
      "cell_type": "code",
      "metadata": {
        "id": "d2216c5a",
        "outputId": "9ab43136-39c8-4de1-def0-42e1dc5314e7"
      },
      "source": [
        "print('Optimal number of features: {}'.format(rfecv2.n_features_))"
      ],
      "id": "d2216c5a",
      "execution_count": null,
      "outputs": [
        {
          "name": "stdout",
          "output_type": "stream",
          "text": [
            "Optimal number of features: 80\n"
          ]
        }
      ]
    },
    {
      "cell_type": "code",
      "metadata": {
        "id": "766baae8",
        "outputId": "bfe96f4b-eee2-467a-9fd4-aee0e5ab7e05"
      },
      "source": [
        "print(np.where(rfecv2.support_ == False)[0])\n",
        "#X = x_train_balanced\n",
        "\n",
        "X.drop(X.columns[np.where(rfecv2.support_ == False)[0]], axis=1, inplace=True)"
      ],
      "id": "766baae8",
      "execution_count": null,
      "outputs": [
        {
          "name": "stdout",
          "output_type": "stream",
          "text": [
            "[ 4 13 20 21 27 28 41 55 66 67]\n"
          ]
        }
      ]
    },
    {
      "cell_type": "code",
      "metadata": {
        "id": "680bb7da"
      },
      "source": [
        "x_test_balanced.drop(x_test_balanced.columns[np.where(rfecv2.support_ == False)[0]], axis=1, inplace=True)"
      ],
      "id": "680bb7da",
      "execution_count": null,
      "outputs": []
    },
    {
      "cell_type": "code",
      "metadata": {
        "id": "69187a23",
        "outputId": "afe33038-fb1b-437b-fd16-9b0d9054922a"
      },
      "source": [
        "dset = pd.DataFrame()\n",
        "dset['attr'] = X.columns\n",
        "dset['importance'] = rfecv2.estimator_.feature_importances_\n",
        "\n",
        "dset = dset.sort_values(by='importance', ascending=False)\n",
        "\n",
        "\n",
        "plt.figure(figsize=(16, 20))\n",
        "plt.barh(y=dset['attr'], width=dset['importance'], color='#1976D2')\n",
        "plt.title('RFECV - Feature Importances', fontsize=20, fontweight='bold', pad=20)\n",
        "plt.xlabel('Importance', fontsize=14, labelpad=20)\n",
        "plt.show()\n"
      ],
      "id": "69187a23",
      "execution_count": null,
      "outputs": [
        {
          "data": {
            "image/png": "[encoded data removed]",
            "text/plain": [
              "<Figure size 1152x1440 with 1 Axes>"
            ]
          },
          "metadata": {
            "needs_background": "light"
          },
          "output_type": "display_data"
        }
      ]
    },
    {
      "cell_type": "code",
      "metadata": {
        "id": "adc65757",
        "outputId": "7d579d4b-8307-48ee-ee61-0fdd6f5e0398"
      },
      "source": [
        "X.shape"
      ],
      "id": "adc65757",
      "execution_count": null,
      "outputs": [
        {
          "data": {
            "text/plain": [
              "(34728, 80)"
            ]
          },
          "execution_count": 86,
          "metadata": {},
          "output_type": "execute_result"
        }
      ]
    },
    {
      "cell_type": "code",
      "metadata": {
        "id": "3727f38e",
        "outputId": "90d8f686-5be3-46be-d55c-4aee26a3510b"
      },
      "source": [
        "import statsmodels.api as sm\n",
        "logit_model=sm.Logit(target,X)\n",
        "result=logit_model.fit()\n",
        "print(result.summary2())"
      ],
      "id": "3727f38e",
      "execution_count": null,
      "outputs": [
        {
          "name": "stdout",
          "output_type": "stream",
          "text": [
            "Optimization terminated successfully.\n",
            "         Current function value: 0.390680\n",
            "         Iterations 20\n",
            "                                     Results: Logit\n",
            "=========================================================================================\n",
            "Model:                      Logit                    Pseudo R-squared:         0.436     \n",
            "Dependent Variable:         target_variable          AIC:                      27279.0960\n",
            "Date:                       2021-12-06 08:50         BIC:                      27887.8777\n",
            "No. Observations:           34728                    Log-Likelihood:           -13568.   \n",
            "Df Model:                   71                       LL-Null:                  -24072.   \n",
            "Df Residuals:               34656                    LLR p-value:              0.0000    \n",
            "Converged:                  1.0000                   Scale:                    1.0000    \n",
            "No. Iterations:             20.0000                                                      \n",
            "-----------------------------------------------------------------------------------------\n",
            "                          Coef.     Std.Err.      z     P>|z|      [0.025       0.975]   \n",
            "-----------------------------------------------------------------------------------------\n",
            "close_120min            -531.2357      40.0012 -13.2805 0.0000     -609.6367    -452.8348\n",
            "high_120min              425.5394      21.2607  20.0153 0.0000      383.8692     467.2096\n",
            "low_120min               205.2742      17.5202  11.7165 0.0000      170.9353     239.6131\n",
            "volume_120min             11.3781       0.8622  13.1970 0.0000        9.6882      13.0679\n",
            "volume_obv                 1.4375       0.1373  10.4678 0.0000        1.1683       1.7066\n",
            "volume_cmf                 0.3844       0.2635   1.4590 0.1446       -0.1320       0.9009\n",
            "volume_fi                 15.6360       2.9354   5.3267 0.0000        9.8827      21.3893\n",
            "volume_mfi                -1.6100       0.1931  -8.3356 0.0000       -1.9886      -1.2314\n",
            "volume_em                  7.1762       1.1729   6.1186 0.0000        4.8775       9.4750\n",
            "volume_sma_em             -2.8959       1.6246  -1.7825 0.0747       -6.0802       0.2883\n",
            "volume_vpt                -5.9053       2.5185  -2.3448 0.0190      -10.8415      -0.9691\n",
            "volume_nvi                 2.0361       0.4812   4.2315 0.0000        1.0930       2.9791\n",
            "volatility_atr           -14.1143       2.8951  -4.8752 0.0000      -19.7886      -8.4400\n",
            "volatility_bbm          -159.6122          nan      nan    nan           nan          nan\n",
            "volatility_bbh          -194.1953          nan      nan    nan           nan          nan\n",
            "volatility_bbl          -116.7918          nan      nan    nan           nan          nan\n",
            "volatility_bbw             9.7986       0.6587  14.8765 0.0000        8.5077      11.0896\n",
            "volatility_bbp            -8.0857       1.1664  -6.9320 0.0000      -10.3718      -5.7995\n",
            "volatility_kcc             2.4192          nan      nan    nan           nan          nan\n",
            "volatility_kch           111.1983          nan      nan    nan           nan          nan\n",
            "volatility_kcl          -112.3066          nan      nan    nan           nan          nan\n",
            "volatility_kcw             5.6617       0.6474   8.7451 0.0000        4.3928       6.9306\n",
            "volatility_kcp            -9.7373       0.9813  -9.9225 0.0000      -11.6607      -7.8139\n",
            "volatility_dcl           -47.4211          nan      nan    nan           nan          nan\n",
            "volatility_dch            23.3752          nan      nan    nan           nan          nan\n",
            "volatility_dcm            -9.9033          nan      nan    nan           nan          nan\n",
            "volatility_dcw            -7.2710       0.7898  -9.2060 0.0000       -8.8190      -5.7230\n",
            "volatility_dcp            -1.7051       0.2952  -5.7758 0.0000       -2.2837      -1.1265\n",
            "volatility_ui              5.1628       0.6037   8.5516 0.0000        3.9795       6.3461\n",
            "trend_macd               -52.6572  954638.4705  -0.0001 1.0000 -1871109.6775 1871004.3632\n",
            "trend_macd_signal         11.9222  845203.2789   0.0000 1.0000 -1656556.0641 1656579.9085\n",
            "trend_macd_diff          -80.9547  374710.6408  -0.0002 0.9998  -734500.3153  734338.4058\n",
            "trend_sma_fast          -293.4953      67.5076  -4.3476 0.0000     -425.8078    -161.1828\n",
            "trend_sma_slow            -5.7042      38.8767  -0.1467 0.8833      -81.9012      70.4928\n",
            "trend_ema_fast           665.6592     138.3237   4.8123 0.0000      394.5497     936.7686\n",
            "trend_adx                  0.1430       0.1490   0.9597 0.3372       -0.1491       0.4352\n",
            "trend_adx_pos              2.4444       0.3675   6.6511 0.0000        1.7240       3.1647\n",
            "trend_adx_neg             -3.9919       0.3831 -10.4200 0.0000       -4.7428      -3.2411\n",
            "trend_vortex_ind_pos     -51.1008  733018.4034  -0.0001 0.9999 -1436740.7715 1436638.5699\n",
            "trend_vortex_ind_neg      46.2192  686295.1608   0.0001 0.9999 -1345067.5788 1345160.0172\n",
            "trend_vortex_ind_diff     63.5589  910100.1856   0.0001 0.9999 -1783700.0272 1783827.1450\n",
            "trend_trix               -65.2033      26.0849  -2.4997 0.0124     -116.3288     -14.0778\n",
            "trend_mass_index          -5.8203       0.5204 -11.1835 0.0000       -6.8404      -4.8003\n",
            "trend_cci                 17.3489       1.6442  10.5516 0.0000       14.1263      20.5714\n",
            "trend_dpo                 -7.3024       1.0894  -6.7031 0.0000       -9.4376      -5.1672\n",
            "trend_kst                 -7.9361  900135.1711  -0.0000 1.0000 -1764240.4527 1764224.5804\n",
            "trend_kst_sig             18.2859  886946.9558   0.0000 1.0000 -1738365.8037 1738402.3756\n",
            "trend_kst_diff            12.1940  224504.7340   0.0001 1.0000  -440008.9990  440033.3869\n",
            "trend_ichimoku_base       42.5859      17.7430   2.4002 0.0164        7.8103      77.3615\n",
            "trend_ichimoku_a         -77.5631      25.3203  -3.0633 0.0022     -127.1900     -27.9363\n",
            "trend_ichimoku_b          45.5410       6.4077   7.1072 0.0000       32.9821      58.1000\n",
            "trend_visual_ichimoku_a   53.2448       6.9489   7.6623 0.0000       39.6252      66.8644\n",
            "trend_visual_ichimoku_b    9.3083       3.2794   2.8384 0.0045        2.8808      15.7357\n",
            "trend_aroon_up           -48.8092  623716.8102  -0.0001 0.9999 -1222511.2937 1222413.6752\n",
            "trend_aroon_down          48.3621  623370.3921   0.0001 0.9999 -1221735.1556 1221831.8797\n",
            "trend_aroon_ind           96.8187 1247477.0622   0.0001 0.9999 -2444913.2947 2445106.9321\n",
            "trend_psar_up             -6.2508       3.8823  -1.6101 0.1074      -13.8600       1.3584\n",
            "trend_psar_down            8.8072       4.9838   1.7672 0.0772       -0.9608      18.5752\n",
            "trend_stc                 -1.0833       0.0804 -13.4736 0.0000       -1.2408      -0.9257\n",
            "momentum_rsi               9.7917       1.0007   9.7852 0.0000        7.8304      11.7529\n",
            "momentum_stoch_rsi         2.8411       0.2105  13.5001 0.0000        2.4286       3.2536\n",
            "momentum_stoch_rsi_k      -3.2237       0.3863  -8.3460 0.0000       -3.9807      -2.4667\n",
            "momentum_stoch_rsi_d       1.1564       0.2743   4.2166 0.0000        0.6189       1.6939\n",
            "momentum_tsi              -7.4709       0.7854  -9.5127 0.0000       -9.0102      -5.9316\n",
            "momentum_uo                1.2107       0.5088   2.3797 0.0173        0.2136       2.2078\n",
            "momentum_stoch            -0.5812  827838.3296  -0.0000 1.0000 -1622533.8921 1622532.7298\n",
            "momentum_stoch_signal      1.8708       0.3833   4.8805 0.0000        1.1195       2.6221\n",
            "momentum_wr               -0.5812  827813.0601  -0.0000 1.0000 -1622484.3648 1622483.2025\n",
            "momentum_ao               56.2012       6.4516   8.7112 0.0000       43.5563      68.8462\n",
            "momentum_kama            -32.4830       9.6242  -3.3751 0.0007      -51.3462     -13.6199\n",
            "momentum_roc              -6.0232       0.5997 -10.0432 0.0000       -7.1987      -4.8478\n",
            "momentum_ppo             -11.1125          nan      nan    nan           nan          nan\n",
            "momentum_ppo_signal        8.5166          nan      nan    nan           nan          nan\n",
            "momentum_ppo_hist          8.2182          nan      nan    nan           nan          nan\n",
            "bitcoin                   -0.5641          nan      nan    nan           nan          nan\n",
            "ethereum                   3.7658          nan      nan    nan           nan          nan\n",
            "crypto                     3.2392          nan      nan    nan           nan          nan\n",
            "cryptocurrency            -3.4394          nan      nan    nan           nan          nan\n",
            "blockchain                -2.0464          nan      nan    nan           nan          nan\n",
            "overall_trend_sum          0.9222          nan      nan    nan           nan          nan\n",
            "=========================================================================================\n",
            "\n"
          ]
        }
      ]
    },
    {
      "cell_type": "code",
      "metadata": {
        "id": "899d05a8",
        "outputId": "5f70ebdc-f99b-4782-d914-f5e12fedeeb5"
      },
      "source": [
        "vif_estimation_data_frame = add_constant(X)\n",
        "vif = pd.Series([variance_inflation_factor(vif_estimation_data_frame.values, i) \n",
        "               for i in range(vif_estimation_data_frame.shape[1])], \n",
        "              index=vif_estimation_data_frame.columns)\n",
        "vif_df = pd.DataFrame(vif)\n",
        "\n",
        "#renaming dataframe column for better interpretability\n",
        "vif_df.rename(columns = {0:'vif_value'}, inplace = True) \n",
        "\n",
        "#converting indexs (column names) into a dataframe columns\n",
        "vif_df = vif_df.reset_index()\n",
        "vif_df.head()\n",
        "#renaming newly creating index column for better interpretability\n",
        "vif_df.rename(columns = {'index':'col_names'}, inplace = True) \n",
        "vif_df = vif_df.sort_values(by='vif_value',ascending=False)\n",
        "vif_df.head(10)"
      ],
      "id": "899d05a8",
      "execution_count": null,
      "outputs": [
        {
          "data": {
            "text/html": [
              "<div>\n",
              "<style scoped>\n",
              "    .dataframe tbody tr th:only-of-type {\n",
              "        vertical-align: middle;\n",
              "    }\n",
              "\n",
              "    .dataframe tbody tr th {\n",
              "        vertical-align: top;\n",
              "    }\n",
              "\n",
              "    .dataframe thead th {\n",
              "        text-align: right;\n",
              "    }\n",
              "</style>\n",
              "<table border=\"1\" class=\"dataframe\">\n",
              "  <thead>\n",
              "    <tr style=\"text-align: right;\">\n",
              "      <th></th>\n",
              "      <th>col_names</th>\n",
              "      <th>vif_value</th>\n",
              "    </tr>\n",
              "  </thead>\n",
              "  <tbody>\n",
              "    <tr>\n",
              "      <th>40</th>\n",
              "      <td>trend_vortex_ind_neg</td>\n",
              "      <td>inf</td>\n",
              "    </tr>\n",
              "    <tr>\n",
              "      <th>25</th>\n",
              "      <td>volatility_dch</td>\n",
              "      <td>inf</td>\n",
              "    </tr>\n",
              "    <tr>\n",
              "      <th>30</th>\n",
              "      <td>trend_macd</td>\n",
              "      <td>inf</td>\n",
              "    </tr>\n",
              "    <tr>\n",
              "      <th>31</th>\n",
              "      <td>trend_macd_signal</td>\n",
              "      <td>inf</td>\n",
              "    </tr>\n",
              "    <tr>\n",
              "      <th>32</th>\n",
              "      <td>trend_macd_diff</td>\n",
              "      <td>inf</td>\n",
              "    </tr>\n",
              "    <tr>\n",
              "      <th>39</th>\n",
              "      <td>trend_vortex_ind_pos</td>\n",
              "      <td>inf</td>\n",
              "    </tr>\n",
              "    <tr>\n",
              "      <th>41</th>\n",
              "      <td>trend_vortex_ind_diff</td>\n",
              "      <td>inf</td>\n",
              "    </tr>\n",
              "    <tr>\n",
              "      <th>46</th>\n",
              "      <td>trend_kst</td>\n",
              "      <td>inf</td>\n",
              "    </tr>\n",
              "    <tr>\n",
              "      <th>47</th>\n",
              "      <td>trend_kst_sig</td>\n",
              "      <td>inf</td>\n",
              "    </tr>\n",
              "    <tr>\n",
              "      <th>48</th>\n",
              "      <td>trend_kst_diff</td>\n",
              "      <td>inf</td>\n",
              "    </tr>\n",
              "  </tbody>\n",
              "</table>\n",
              "</div>"
            ],
            "text/plain": [
              "                col_names  vif_value\n",
              "40   trend_vortex_ind_neg        inf\n",
              "25         volatility_dch        inf\n",
              "30             trend_macd        inf\n",
              "31      trend_macd_signal        inf\n",
              "32        trend_macd_diff        inf\n",
              "39   trend_vortex_ind_pos        inf\n",
              "41  trend_vortex_ind_diff        inf\n",
              "46              trend_kst        inf\n",
              "47          trend_kst_sig        inf\n",
              "48         trend_kst_diff        inf"
            ]
          },
          "execution_count": 91,
          "metadata": {},
          "output_type": "execute_result"
        }
      ]
    },
    {
      "cell_type": "code",
      "metadata": {
        "id": "663bd4db"
      },
      "source": [
        "X_vif_treated = X.copy().drop(['volume_vpt','volume_nvi','volatility_bbh','volume_fi','trend_aroon_ind','trend_macd_diff','momentum_ppo_signal','momentum_tsi','volatility_dcw','trend_vortex_ind_pos','momentum_stoch_signal','momentum_stoch','momentum_stoch_rsi_k','momentum_rsi','trend_adx','volatility_bbp','volatility_ui','trend_kst','trend_visual_ichimoku_a','trend_ichimoku_b','volatility_dcm','trend_macd','momentum_kama','volatility_dch','volatility_kch','volatility_bbl','trend_sma_slow','volatility_kcc','volatility_atr','trend_psar_up','trend_ichimoku_base','trend_visual_ichimoku_b','trend_sma_fast','trend_psar_down','trend_ichimoku_a','trend_ema_fast','trend_kst_diff','trend_macd_signal','volatility_bbm','volatility_dcl','volatility_kcl','momentum_wr','trend_aroon_down','trend_vortex_ind_diff','momentum_ppo','overall_trend_sum','close_120min','volume_120min','high_120min','low_120min'],axis=1)"
      ],
      "id": "663bd4db",
      "execution_count": null,
      "outputs": []
    },
    {
      "cell_type": "code",
      "metadata": {
        "id": "d6d7f576",
        "outputId": "195f3197-26e8-45a4-937d-8b37a4401b78"
      },
      "source": [
        "vif_estimation_data_frame = add_constant(X_vif_treated)\n",
        "vif = pd.Series([variance_inflation_factor(vif_estimation_data_frame.values, i) \n",
        "               for i in range(vif_estimation_data_frame.shape[1])], \n",
        "              index=vif_estimation_data_frame.columns)\n",
        "vif_df = pd.DataFrame(vif)\n",
        "\n",
        "#renaming dataframe column for better interpretability\n",
        "vif_df.rename(columns = {0:'vif_value'}, inplace = True) \n",
        "\n",
        "#converting indexs (column names) into a dataframe columns\n",
        "vif_df = vif_df.reset_index()\n",
        "vif_df.head()\n",
        "#renaming newly creating index column for better interpretability\n",
        "vif_df.rename(columns = {'index':'col_names'}, inplace = True) \n",
        "vif_df = vif_df.sort_values(by='vif_value',ascending=False)\n",
        "vif_df.head(20)"
      ],
      "id": "d6d7f576",
      "execution_count": null,
      "outputs": [
        {
          "data": {
            "text/html": [
              "<div>\n",
              "<style scoped>\n",
              "    .dataframe tbody tr th:only-of-type {\n",
              "        vertical-align: middle;\n",
              "    }\n",
              "\n",
              "    .dataframe tbody tr th {\n",
              "        vertical-align: top;\n",
              "    }\n",
              "\n",
              "    .dataframe thead th {\n",
              "        text-align: right;\n",
              "    }\n",
              "</style>\n",
              "<table border=\"1\" class=\"dataframe\">\n",
              "  <thead>\n",
              "    <tr style=\"text-align: right;\">\n",
              "      <th></th>\n",
              "      <th>col_names</th>\n",
              "      <th>vif_value</th>\n",
              "    </tr>\n",
              "  </thead>\n",
              "  <tbody>\n",
              "    <tr>\n",
              "      <th>0</th>\n",
              "      <td>const</td>\n",
              "      <td>4798.328425</td>\n",
              "    </tr>\n",
              "    <tr>\n",
              "      <th>8</th>\n",
              "      <td>volatility_kcp</td>\n",
              "      <td>11.941353</td>\n",
              "    </tr>\n",
              "    <tr>\n",
              "      <th>15</th>\n",
              "      <td>trend_cci</td>\n",
              "      <td>11.465823</td>\n",
              "    </tr>\n",
              "    <tr>\n",
              "      <th>12</th>\n",
              "      <td>trend_vortex_ind_neg</td>\n",
              "      <td>10.891185</td>\n",
              "    </tr>\n",
              "    <tr>\n",
              "      <th>10</th>\n",
              "      <td>trend_adx_pos</td>\n",
              "      <td>8.242396</td>\n",
              "    </tr>\n",
              "    <tr>\n",
              "      <th>7</th>\n",
              "      <td>volatility_kcw</td>\n",
              "      <td>7.307789</td>\n",
              "    </tr>\n",
              "    <tr>\n",
              "      <th>9</th>\n",
              "      <td>volatility_dcp</td>\n",
              "      <td>7.249779</td>\n",
              "    </tr>\n",
              "    <tr>\n",
              "      <th>6</th>\n",
              "      <td>volatility_bbw</td>\n",
              "      <td>6.663522</td>\n",
              "    </tr>\n",
              "    <tr>\n",
              "      <th>11</th>\n",
              "      <td>trend_adx_neg</td>\n",
              "      <td>6.600935</td>\n",
              "    </tr>\n",
              "    <tr>\n",
              "      <th>3</th>\n",
              "      <td>volume_mfi</td>\n",
              "      <td>6.509477</td>\n",
              "    </tr>\n",
              "    <tr>\n",
              "      <th>20</th>\n",
              "      <td>momentum_stoch_rsi</td>\n",
              "      <td>5.665591</td>\n",
              "    </tr>\n",
              "    <tr>\n",
              "      <th>24</th>\n",
              "      <td>momentum_roc</td>\n",
              "      <td>5.620685</td>\n",
              "    </tr>\n",
              "    <tr>\n",
              "      <th>21</th>\n",
              "      <td>momentum_stoch_rsi_d</td>\n",
              "      <td>5.534623</td>\n",
              "    </tr>\n",
              "    <tr>\n",
              "      <th>19</th>\n",
              "      <td>trend_stc</td>\n",
              "      <td>4.327853</td>\n",
              "    </tr>\n",
              "    <tr>\n",
              "      <th>23</th>\n",
              "      <td>momentum_ao</td>\n",
              "      <td>3.617410</td>\n",
              "    </tr>\n",
              "    <tr>\n",
              "      <th>17</th>\n",
              "      <td>trend_kst_sig</td>\n",
              "      <td>3.597849</td>\n",
              "    </tr>\n",
              "    <tr>\n",
              "      <th>18</th>\n",
              "      <td>trend_aroon_up</td>\n",
              "      <td>3.422737</td>\n",
              "    </tr>\n",
              "    <tr>\n",
              "      <th>29</th>\n",
              "      <td>cryptocurrency</td>\n",
              "      <td>3.155168</td>\n",
              "    </tr>\n",
              "    <tr>\n",
              "      <th>22</th>\n",
              "      <td>momentum_uo</td>\n",
              "      <td>3.115426</td>\n",
              "    </tr>\n",
              "    <tr>\n",
              "      <th>5</th>\n",
              "      <td>volume_sma_em</td>\n",
              "      <td>2.890938</td>\n",
              "    </tr>\n",
              "  </tbody>\n",
              "</table>\n",
              "</div>"
            ],
            "text/plain": [
              "               col_names    vif_value\n",
              "0                  const  4798.328425\n",
              "8         volatility_kcp    11.941353\n",
              "15             trend_cci    11.465823\n",
              "12  trend_vortex_ind_neg    10.891185\n",
              "10         trend_adx_pos     8.242396\n",
              "7         volatility_kcw     7.307789\n",
              "9         volatility_dcp     7.249779\n",
              "6         volatility_bbw     6.663522\n",
              "11         trend_adx_neg     6.600935\n",
              "3             volume_mfi     6.509477\n",
              "20    momentum_stoch_rsi     5.665591\n",
              "24          momentum_roc     5.620685\n",
              "21  momentum_stoch_rsi_d     5.534623\n",
              "19             trend_stc     4.327853\n",
              "23           momentum_ao     3.617410\n",
              "17         trend_kst_sig     3.597849\n",
              "18        trend_aroon_up     3.422737\n",
              "29        cryptocurrency     3.155168\n",
              "22           momentum_uo     3.115426\n",
              "5          volume_sma_em     2.890938"
            ]
          },
          "execution_count": 280,
          "metadata": {},
          "output_type": "execute_result"
        }
      ]
    },
    {
      "cell_type": "code",
      "metadata": {
        "id": "4ed7bff7",
        "outputId": "bd0e7d53-18ec-4a10-9db8-2005b4e44043"
      },
      "source": [
        "X_vif_treated.head()"
      ],
      "id": "4ed7bff7",
      "execution_count": null,
      "outputs": [
        {
          "data": {
            "text/html": [
              "<div>\n",
              "<style scoped>\n",
              "    .dataframe tbody tr th:only-of-type {\n",
              "        vertical-align: middle;\n",
              "    }\n",
              "\n",
              "    .dataframe tbody tr th {\n",
              "        vertical-align: top;\n",
              "    }\n",
              "\n",
              "    .dataframe thead th {\n",
              "        text-align: right;\n",
              "    }\n",
              "</style>\n",
              "<table border=\"1\" class=\"dataframe\">\n",
              "  <thead>\n",
              "    <tr style=\"text-align: right;\">\n",
              "      <th></th>\n",
              "      <th>volume_obv</th>\n",
              "      <th>volume_cmf</th>\n",
              "      <th>volume_mfi</th>\n",
              "      <th>volume_em</th>\n",
              "      <th>volume_sma_em</th>\n",
              "      <th>volatility_bbw</th>\n",
              "      <th>volatility_kcw</th>\n",
              "      <th>volatility_kcp</th>\n",
              "      <th>volatility_dcp</th>\n",
              "      <th>trend_adx_pos</th>\n",
              "      <th>...</th>\n",
              "      <th>momentum_stoch_rsi_d</th>\n",
              "      <th>momentum_uo</th>\n",
              "      <th>momentum_ao</th>\n",
              "      <th>momentum_roc</th>\n",
              "      <th>momentum_ppo_hist</th>\n",
              "      <th>bitcoin</th>\n",
              "      <th>ethereum</th>\n",
              "      <th>crypto</th>\n",
              "      <th>cryptocurrency</th>\n",
              "      <th>blockchain</th>\n",
              "    </tr>\n",
              "  </thead>\n",
              "  <tbody>\n",
              "    <tr>\n",
              "      <th>0</th>\n",
              "      <td>0.617169</td>\n",
              "      <td>0.341789</td>\n",
              "      <td>0.672370</td>\n",
              "      <td>0.465075</td>\n",
              "      <td>0.458425</td>\n",
              "      <td>0.047630</td>\n",
              "      <td>0.090047</td>\n",
              "      <td>0.321312</td>\n",
              "      <td>0.441693</td>\n",
              "      <td>0.631615</td>\n",
              "      <td>...</td>\n",
              "      <td>0.350837</td>\n",
              "      <td>0.533112</td>\n",
              "      <td>0.642445</td>\n",
              "      <td>0.501118</td>\n",
              "      <td>0.481549</td>\n",
              "      <td>0.514544</td>\n",
              "      <td>0.063800</td>\n",
              "      <td>0.119774</td>\n",
              "      <td>0.246182</td>\n",
              "      <td>0.384847</td>\n",
              "    </tr>\n",
              "    <tr>\n",
              "      <th>1</th>\n",
              "      <td>0.443150</td>\n",
              "      <td>0.555052</td>\n",
              "      <td>0.873806</td>\n",
              "      <td>0.464233</td>\n",
              "      <td>0.458818</td>\n",
              "      <td>0.334751</td>\n",
              "      <td>0.165456</td>\n",
              "      <td>0.356267</td>\n",
              "      <td>0.898042</td>\n",
              "      <td>0.544298</td>\n",
              "      <td>...</td>\n",
              "      <td>0.867961</td>\n",
              "      <td>0.666221</td>\n",
              "      <td>0.665337</td>\n",
              "      <td>0.665979</td>\n",
              "      <td>0.212034</td>\n",
              "      <td>0.514557</td>\n",
              "      <td>0.078987</td>\n",
              "      <td>0.095215</td>\n",
              "      <td>0.162104</td>\n",
              "      <td>0.170635</td>\n",
              "    </tr>\n",
              "    <tr>\n",
              "      <th>2</th>\n",
              "      <td>0.649361</td>\n",
              "      <td>0.522427</td>\n",
              "      <td>0.495225</td>\n",
              "      <td>0.462629</td>\n",
              "      <td>0.458183</td>\n",
              "      <td>0.065735</td>\n",
              "      <td>0.088978</td>\n",
              "      <td>0.279248</td>\n",
              "      <td>0.512815</td>\n",
              "      <td>0.303877</td>\n",
              "      <td>...</td>\n",
              "      <td>0.975232</td>\n",
              "      <td>0.652043</td>\n",
              "      <td>0.629724</td>\n",
              "      <td>0.494140</td>\n",
              "      <td>0.149442</td>\n",
              "      <td>0.434307</td>\n",
              "      <td>0.068421</td>\n",
              "      <td>0.113095</td>\n",
              "      <td>0.316667</td>\n",
              "      <td>0.353846</td>\n",
              "    </tr>\n",
              "    <tr>\n",
              "      <th>3</th>\n",
              "      <td>0.772867</td>\n",
              "      <td>0.396207</td>\n",
              "      <td>0.778515</td>\n",
              "      <td>0.466758</td>\n",
              "      <td>0.459758</td>\n",
              "      <td>0.272892</td>\n",
              "      <td>0.189961</td>\n",
              "      <td>0.350240</td>\n",
              "      <td>0.784517</td>\n",
              "      <td>0.746554</td>\n",
              "      <td>...</td>\n",
              "      <td>0.905862</td>\n",
              "      <td>0.602636</td>\n",
              "      <td>0.687521</td>\n",
              "      <td>0.663398</td>\n",
              "      <td>0.196593</td>\n",
              "      <td>0.562908</td>\n",
              "      <td>0.086798</td>\n",
              "      <td>0.128027</td>\n",
              "      <td>0.325423</td>\n",
              "      <td>0.299610</td>\n",
              "    </tr>\n",
              "    <tr>\n",
              "      <th>4</th>\n",
              "      <td>0.630870</td>\n",
              "      <td>0.549338</td>\n",
              "      <td>0.410097</td>\n",
              "      <td>0.463640</td>\n",
              "      <td>0.458331</td>\n",
              "      <td>0.049772</td>\n",
              "      <td>0.051512</td>\n",
              "      <td>0.239545</td>\n",
              "      <td>0.665908</td>\n",
              "      <td>0.264582</td>\n",
              "      <td>...</td>\n",
              "      <td>0.896825</td>\n",
              "      <td>0.656557</td>\n",
              "      <td>0.639567</td>\n",
              "      <td>0.492270</td>\n",
              "      <td>0.251293</td>\n",
              "      <td>0.510949</td>\n",
              "      <td>0.063158</td>\n",
              "      <td>0.130952</td>\n",
              "      <td>0.250000</td>\n",
              "      <td>0.384615</td>\n",
              "    </tr>\n",
              "  </tbody>\n",
              "</table>\n",
              "<p>5 rows × 30 columns</p>\n",
              "</div>"
            ],
            "text/plain": [
              "   volume_obv  volume_cmf  volume_mfi  volume_em  volume_sma_em  \\\n",
              "0    0.617169    0.341789    0.672370   0.465075       0.458425   \n",
              "1    0.443150    0.555052    0.873806   0.464233       0.458818   \n",
              "2    0.649361    0.522427    0.495225   0.462629       0.458183   \n",
              "3    0.772867    0.396207    0.778515   0.466758       0.459758   \n",
              "4    0.630870    0.549338    0.410097   0.463640       0.458331   \n",
              "\n",
              "   volatility_bbw  volatility_kcw  volatility_kcp  volatility_dcp  \\\n",
              "0        0.047630        0.090047        0.321312        0.441693   \n",
              "1        0.334751        0.165456        0.356267        0.898042   \n",
              "2        0.065735        0.088978        0.279248        0.512815   \n",
              "3        0.272892        0.189961        0.350240        0.784517   \n",
              "4        0.049772        0.051512        0.239545        0.665908   \n",
              "\n",
              "   trend_adx_pos  ...  momentum_stoch_rsi_d  momentum_uo  momentum_ao  \\\n",
              "0       0.631615  ...              0.350837     0.533112     0.642445   \n",
              "1       0.544298  ...              0.867961     0.666221     0.665337   \n",
              "2       0.303877  ...              0.975232     0.652043     0.629724   \n",
              "3       0.746554  ...              0.905862     0.602636     0.687521   \n",
              "4       0.264582  ...              0.896825     0.656557     0.639567   \n",
              "\n",
              "   momentum_roc  momentum_ppo_hist   bitcoin  ethereum    crypto  \\\n",
              "0      0.501118           0.481549  0.514544  0.063800  0.119774   \n",
              "1      0.665979           0.212034  0.514557  0.078987  0.095215   \n",
              "2      0.494140           0.149442  0.434307  0.068421  0.113095   \n",
              "3      0.663398           0.196593  0.562908  0.086798  0.128027   \n",
              "4      0.492270           0.251293  0.510949  0.063158  0.130952   \n",
              "\n",
              "   cryptocurrency  blockchain  \n",
              "0        0.246182    0.384847  \n",
              "1        0.162104    0.170635  \n",
              "2        0.316667    0.353846  \n",
              "3        0.325423    0.299610  \n",
              "4        0.250000    0.384615  \n",
              "\n",
              "[5 rows x 30 columns]"
            ]
          },
          "execution_count": 281,
          "metadata": {},
          "output_type": "execute_result"
        }
      ]
    },
    {
      "cell_type": "code",
      "metadata": {
        "id": "2fe6f21c",
        "outputId": "ac564db2-2d9b-44b0-d088-eab630ffc952"
      },
      "source": [
        "import statsmodels.api as sm\n",
        "logit_model=sm.Logit(target,X_vif_treated) #method='bfgs'\n",
        "result=logit_model.fit()\n",
        "print(result.summary2())"
      ],
      "id": "2fe6f21c",
      "execution_count": null,
      "outputs": [
        {
          "name": "stdout",
          "output_type": "stream",
          "text": [
            "Optimization terminated successfully.\n",
            "         Current function value: 0.421134\n",
            "         Iterations 7\n",
            "                            Results: Logit\n",
            "=======================================================================\n",
            "Model:                Logit              Pseudo R-squared:   0.392     \n",
            "Dependent Variable:   target_variable    AIC:                29310.2749\n",
            "Date:                 2021-12-06 09:29   BIC:                29563.9339\n",
            "No. Observations:     34728              Log-Likelihood:     -14625.   \n",
            "Df Model:             29                 LL-Null:            -24072.   \n",
            "Df Residuals:         34698              LLR p-value:        0.0000    \n",
            "Converged:            1.0000             Scale:              1.0000    \n",
            "No. Iterations:       7.0000                                           \n",
            "-----------------------------------------------------------------------\n",
            "                      Coef.   Std.Err.    z     P>|z|   [0.025   0.975]\n",
            "-----------------------------------------------------------------------\n",
            "volume_obv             0.6422   0.0890   7.2153 0.0000   0.4677  0.8166\n",
            "volume_cmf             1.1360   0.2411   4.7118 0.0000   0.6635  1.6086\n",
            "volume_mfi            -1.6205   0.1673  -9.6882 0.0000  -1.9483 -1.2927\n",
            "volume_em              6.5804   0.6702   9.8186 0.0000   5.2669  7.8940\n",
            "volume_sma_em        -10.3865   0.9709 -10.6981 0.0000 -12.2894 -8.4836\n",
            "volatility_bbw         7.3088   0.2857  25.5776 0.0000   6.7487  7.8689\n",
            "volatility_kcw         9.3823   0.3494  26.8495 0.0000   8.6974 10.0672\n",
            "volatility_kcp       -11.1117   0.6868 -16.1789 0.0000 -12.4578 -9.7656\n",
            "volatility_dcp        -1.8871   0.1615 -11.6872 0.0000  -2.2035 -1.5706\n",
            "trend_adx_pos          4.9218   0.2902  16.9597 0.0000   4.3530  5.4906\n",
            "trend_adx_neg         -2.3493   0.2839  -8.2763 0.0000  -2.9056 -1.7929\n",
            "trend_vortex_ind_neg  -3.0149   0.3674  -8.2056 0.0000  -3.7350 -2.2948\n",
            "trend_trix             4.4091   0.7047   6.2568 0.0000   3.0279  5.7902\n",
            "trend_mass_index      -4.7471   0.3290 -14.4269 0.0000  -5.3921 -4.1022\n",
            "trend_cci             10.4973   0.5240  20.0311 0.0000   9.4701 11.5244\n",
            "trend_dpo             -3.9237   0.5155  -7.6118 0.0000  -4.9340 -2.9134\n",
            "trend_kst_sig         -2.6434   0.3661  -7.2194 0.0000  -3.3610 -1.9257\n",
            "trend_aroon_up        -0.8196   0.0699 -11.7269 0.0000  -0.9565 -0.6826\n",
            "trend_stc             -0.6114   0.0696  -8.7884 0.0000  -0.7478 -0.4751\n",
            "momentum_stoch_rsi     1.8271   0.0973  18.7813 0.0000   1.6365  2.0178\n",
            "momentum_stoch_rsi_d  -1.0937   0.1057 -10.3520 0.0000  -1.3008 -0.8867\n",
            "momentum_uo           -1.7574   0.4603  -3.8178 0.0001  -2.6597 -0.8552\n",
            "momentum_ao            5.7322   0.5031  11.3936 0.0000   4.7461  6.7183\n",
            "momentum_roc          -2.7992   0.3806  -7.3543 0.0000  -3.5453 -2.0532\n",
            "momentum_ppo_hist      2.0500   0.1973  10.3916 0.0000   1.6634  2.4367\n",
            "bitcoin                0.7189   0.1730   4.1546 0.0000   0.3797  1.0580\n",
            "ethereum               2.1258   0.2577   8.2487 0.0000   1.6207  2.6309\n",
            "crypto                -1.0595   0.4079  -2.5974 0.0094  -1.8589 -0.2600\n",
            "cryptocurrency        -1.7582   0.2449  -7.1776 0.0000  -2.2382 -1.2781\n",
            "blockchain            -1.2621   0.1505  -8.3850 0.0000  -1.5571 -0.9671\n",
            "=======================================================================\n",
            "\n"
          ]
        }
      ]
    },
    {
      "cell_type": "code",
      "metadata": {
        "id": "5199e927"
      },
      "source": [
        "x_test_vif_treated = x_test_balanced.copy().drop(['volume_vpt','volume_nvi','volatility_bbh','volume_fi','trend_aroon_ind','trend_macd_diff','momentum_ppo_signal','momentum_tsi','volatility_dcw','trend_vortex_ind_pos','momentum_stoch_signal','momentum_stoch','momentum_stoch_rsi_k','momentum_rsi','trend_adx','volatility_bbp','volatility_ui','trend_kst','trend_visual_ichimoku_a','trend_ichimoku_b','volatility_dcm','trend_macd','momentum_kama','volatility_dch','volatility_kch','volatility_bbl','trend_sma_slow','volatility_kcc','volatility_atr','trend_psar_up','trend_ichimoku_base','trend_visual_ichimoku_b','trend_sma_fast','trend_psar_down','trend_ichimoku_a','trend_ema_fast','trend_kst_diff','trend_macd_signal','volatility_bbm','volatility_dcl','volatility_kcl','momentum_wr','trend_aroon_down','trend_vortex_ind_diff','momentum_ppo','overall_trend_sum','close_120min','volume_120min','high_120min','low_120min'],axis=1)"
      ],
      "id": "5199e927",
      "execution_count": null,
      "outputs": []
    },
    {
      "cell_type": "code",
      "metadata": {
        "id": "bd6a4e03",
        "outputId": "3fd1b6ae-723b-4431-f290-39d5f7f31a7c"
      },
      "source": [
        "x_test_vif_treated.shape"
      ],
      "id": "bd6a4e03",
      "execution_count": null,
      "outputs": [
        {
          "data": {
            "text/plain": [
              "(8708, 30)"
            ]
          },
          "execution_count": 284,
          "metadata": {},
          "output_type": "execute_result"
        }
      ]
    },
    {
      "cell_type": "code",
      "metadata": {
        "id": "a3b319e6",
        "outputId": "bf682ac8-0ad4-4600-8760-e776c6889730"
      },
      "source": [
        "#X_vif_treated = X.copy().drop(['trend_vortex_ind_neg','trend_kst_sig','volume_obv','volatility_dcp','volatility_dcl','volatility_bbw','volatility_ui','momentum_stoch_signal','volatility_dcw','trend_adx_pos','momentum_wr','trend_aroon_up','trend_cci','momentum_stoch_rsi_d','volume_vpt','trend_macd','volatility_bbp','trend_visual_ichimoku_a','low_60min','trend_macd_signal','volatility_kch','volatility_bbm','trend_visual_ichimoku_b','trend_adx_neg','momentum_rsi','trend_stc','trend_kst','momentum_ao','trend_psar_up','trend_trix','momentum_roc','trend_kst_diff','momentum_stoch','trend_macd_diff','volume_vwap','volatility_dcm'],axis=1)\n",
        "\n",
        "logit_model=sm.Logit(target,X_vif_treated)\n",
        "result=logit_model.fit()\n",
        "print(result.summary2())"
      ],
      "id": "a3b319e6",
      "execution_count": null,
      "outputs": [
        {
          "name": "stdout",
          "output_type": "stream",
          "text": [
            "Optimization terminated successfully.\n",
            "         Current function value: 0.421134\n",
            "         Iterations 7\n",
            "                            Results: Logit\n",
            "=======================================================================\n",
            "Model:                Logit              Pseudo R-squared:   0.392     \n",
            "Dependent Variable:   target_variable    AIC:                29310.2749\n",
            "Date:                 2021-12-06 09:30   BIC:                29563.9339\n",
            "No. Observations:     34728              Log-Likelihood:     -14625.   \n",
            "Df Model:             29                 LL-Null:            -24072.   \n",
            "Df Residuals:         34698              LLR p-value:        0.0000    \n",
            "Converged:            1.0000             Scale:              1.0000    \n",
            "No. Iterations:       7.0000                                           \n",
            "-----------------------------------------------------------------------\n",
            "                      Coef.   Std.Err.    z     P>|z|   [0.025   0.975]\n",
            "-----------------------------------------------------------------------\n",
            "volume_obv             0.6422   0.0890   7.2153 0.0000   0.4677  0.8166\n",
            "volume_cmf             1.1360   0.2411   4.7118 0.0000   0.6635  1.6086\n",
            "volume_mfi            -1.6205   0.1673  -9.6882 0.0000  -1.9483 -1.2927\n",
            "volume_em              6.5804   0.6702   9.8186 0.0000   5.2669  7.8940\n",
            "volume_sma_em        -10.3865   0.9709 -10.6981 0.0000 -12.2894 -8.4836\n",
            "volatility_bbw         7.3088   0.2857  25.5776 0.0000   6.7487  7.8689\n",
            "volatility_kcw         9.3823   0.3494  26.8495 0.0000   8.6974 10.0672\n",
            "volatility_kcp       -11.1117   0.6868 -16.1789 0.0000 -12.4578 -9.7656\n",
            "volatility_dcp        -1.8871   0.1615 -11.6872 0.0000  -2.2035 -1.5706\n",
            "trend_adx_pos          4.9218   0.2902  16.9597 0.0000   4.3530  5.4906\n",
            "trend_adx_neg         -2.3493   0.2839  -8.2763 0.0000  -2.9056 -1.7929\n",
            "trend_vortex_ind_neg  -3.0149   0.3674  -8.2056 0.0000  -3.7350 -2.2948\n",
            "trend_trix             4.4091   0.7047   6.2568 0.0000   3.0279  5.7902\n",
            "trend_mass_index      -4.7471   0.3290 -14.4269 0.0000  -5.3921 -4.1022\n",
            "trend_cci             10.4973   0.5240  20.0311 0.0000   9.4701 11.5244\n",
            "trend_dpo             -3.9237   0.5155  -7.6118 0.0000  -4.9340 -2.9134\n",
            "trend_kst_sig         -2.6434   0.3661  -7.2194 0.0000  -3.3610 -1.9257\n",
            "trend_aroon_up        -0.8196   0.0699 -11.7269 0.0000  -0.9565 -0.6826\n",
            "trend_stc             -0.6114   0.0696  -8.7884 0.0000  -0.7478 -0.4751\n",
            "momentum_stoch_rsi     1.8271   0.0973  18.7813 0.0000   1.6365  2.0178\n",
            "momentum_stoch_rsi_d  -1.0937   0.1057 -10.3520 0.0000  -1.3008 -0.8867\n",
            "momentum_uo           -1.7574   0.4603  -3.8178 0.0001  -2.6597 -0.8552\n",
            "momentum_ao            5.7322   0.5031  11.3936 0.0000   4.7461  6.7183\n",
            "momentum_roc          -2.7992   0.3806  -7.3543 0.0000  -3.5453 -2.0532\n",
            "momentum_ppo_hist      2.0500   0.1973  10.3916 0.0000   1.6634  2.4367\n",
            "bitcoin                0.7189   0.1730   4.1546 0.0000   0.3797  1.0580\n",
            "ethereum               2.1258   0.2577   8.2487 0.0000   1.6207  2.6309\n",
            "crypto                -1.0595   0.4079  -2.5974 0.0094  -1.8589 -0.2600\n",
            "cryptocurrency        -1.7582   0.2449  -7.1776 0.0000  -2.2382 -1.2781\n",
            "blockchain            -1.2621   0.1505  -8.3850 0.0000  -1.5571 -0.9671\n",
            "=======================================================================\n",
            "\n"
          ]
        }
      ]
    },
    {
      "cell_type": "markdown",
      "metadata": {
        "id": "26b48b39"
      },
      "source": [
        "### sklearn logistic regression model"
      ],
      "id": "26b48b39"
    },
    {
      "cell_type": "code",
      "metadata": {
        "id": "bc6a0ca9",
        "outputId": "0a9a1fe7-0653-4c8d-e3c8-5bdc1b1b673e"
      },
      "source": [
        "from sklearn.linear_model import LogisticRegression\n",
        "sklearn_logit_model = LogisticRegression(random_state=0).fit(X_vif_treated, target)\n",
        "\n",
        "from sklearn.metrics import r2_score\n",
        "y_predict = sklearn_logit_model.predict(x_test_vif_treated)\n",
        "print(r2_score(y_test_balanced, y_predict))"
      ],
      "id": "bc6a0ca9",
      "execution_count": null,
      "outputs": [
        {
          "name": "stdout",
          "output_type": "stream",
          "text": [
            "0.028020211299954023\n"
          ]
        }
      ]
    },
    {
      "cell_type": "code",
      "metadata": {
        "id": "66a4cc7b",
        "outputId": "aacf47b8-e491-45b3-af3b-e9cdf9b04a3b"
      },
      "source": [
        "print(classification_report(y_test_balanced,y_predict))\n",
        "print(confusion_matrix(y_test_balanced,y_predict))"
      ],
      "id": "66a4cc7b",
      "execution_count": null,
      "outputs": [
        {
          "name": "stdout",
          "output_type": "stream",
          "text": [
            "              precision    recall  f1-score   support\n",
            "\n",
            "           0       0.72      0.84      0.77      4354\n",
            "           1       0.81      0.68      0.74      4354\n",
            "\n",
            "    accuracy                           0.76      8708\n",
            "   macro avg       0.76      0.76      0.76      8708\n",
            "weighted avg       0.76      0.76      0.76      8708\n",
            "\n",
            "[[3644  710]\n",
            " [1406 2948]]\n"
          ]
        }
      ]
    },
    {
      "cell_type": "code",
      "metadata": {
        "id": "4919d4e7",
        "outputId": "71631e28-0303-416c-a290-5941a0581f11"
      },
      "source": [
        "from matplotlib import pyplot\n",
        "from matplotlib.pyplot import figure\n",
        "importance = sklearn_logit_model.coef_[0]\n",
        "figure(figsize=(8, 6), dpi=80)\n",
        "plt.barh(X_vif_treated.columns, importance)"
      ],
      "id": "4919d4e7",
      "execution_count": null,
      "outputs": [
        {
          "data": {
            "text/plain": [
              "<BarContainer object of 30 artists>"
            ]
          },
          "execution_count": 288,
          "metadata": {},
          "output_type": "execute_result"
        },
        {
          "data": {
            "image/png": "[encoded data removed]",
            "text/plain": [
              "<Figure size 640x480 with 1 Axes>"
            ]
          },
          "metadata": {
            "needs_background": "light"
          },
          "output_type": "display_data"
        }
      ]
    },
    {
      "cell_type": "code",
      "metadata": {
        "id": "6125b16f",
        "outputId": "2fb51c1f-2a86-418d-c72b-24f7f6a2a37b"
      },
      "source": [
        "feats = {} # a dict to hold feature_name: feature_importance\n",
        "for feature, importance in zip(X_vif_treated.columns, importance):\n",
        "    feats[feature] = importance #add the name/value pair \n",
        "\n",
        "importances = pd.DataFrame.from_dict(feats, orient='index').rename(columns={0: 'Feature importance'})\n",
        "print(importances)"
      ],
      "id": "6125b16f",
      "execution_count": null,
      "outputs": [
        {
          "name": "stdout",
          "output_type": "stream",
          "text": [
            "                      Feature importance\n",
            "volume_obv                      0.623404\n",
            "volume_cmf                      0.775946\n",
            "volume_mfi                     -1.232103\n",
            "volume_em                       3.755244\n",
            "volume_sma_em                  -4.372827\n",
            "volatility_bbw                  6.924858\n",
            "volatility_kcw                  8.805152\n",
            "volatility_kcp                 -6.757149\n",
            "volatility_dcp                 -1.693828\n",
            "trend_adx_pos                   4.198539\n",
            "trend_adx_neg                  -1.879868\n",
            "trend_vortex_ind_neg           -2.714811\n",
            "trend_trix                      0.655577\n",
            "trend_mass_index               -3.915903\n",
            "trend_cci                       7.552577\n",
            "trend_dpo                      -2.313218\n",
            "trend_kst_sig                  -1.513230\n",
            "trend_aroon_up                 -0.674202\n",
            "trend_stc                      -0.497847\n",
            "momentum_stoch_rsi              1.666858\n",
            "momentum_stoch_rsi_d           -1.148382\n",
            "momentum_uo                    -2.142949\n",
            "momentum_ao                     2.978900\n",
            "momentum_roc                   -2.221355\n",
            "momentum_ppo_hist               2.089826\n",
            "bitcoin                         0.583610\n",
            "ethereum                        2.182001\n",
            "crypto                         -1.117699\n",
            "cryptocurrency                 -1.472912\n",
            "blockchain                     -1.341619\n"
          ]
        }
      ]
    },
    {
      "cell_type": "markdown",
      "metadata": {
        "id": "d0109821"
      },
      "source": [
        "### sklearn random forest classifier"
      ],
      "id": "d0109821"
    },
    {
      "cell_type": "code",
      "metadata": {
        "id": "0949a145",
        "outputId": "8cebb369-efd8-4c79-e3bc-aaa50eee55a5"
      },
      "source": [
        "from sklearn.ensemble import RandomForestClassifier\n",
        "# creating a RF classifier\n",
        "clf = RandomForestClassifier(n_estimators = 100)  \n",
        "  \n",
        "# Training the model on the training dataset\n",
        "# fit function is used to train the model using the training sets as parameters\n",
        "clf.fit(X_vif_treated, target)\n",
        "  \n",
        "# performing predictions on the test dataset\n",
        "y_pred = clf.predict(x_test_vif_treated)\n",
        "  \n",
        "# metrics are used to find accuracy or error\n",
        "from sklearn import metrics  \n",
        "print()\n",
        "  \n",
        "# using metrics module for accuracy calculation\n",
        "print(\"ACCURACY OF THE MODEL: \", metrics.accuracy_score(y_test_balanced, y_pred))"
      ],
      "id": "0949a145",
      "execution_count": null,
      "outputs": [
        {
          "name": "stdout",
          "output_type": "stream",
          "text": [
            "\n",
            "ACCURACY OF THE MODEL:  0.7028020211299955\n"
          ]
        }
      ]
    },
    {
      "cell_type": "code",
      "metadata": {
        "id": "4293c108",
        "outputId": "80302208-16a5-44b3-b36d-ec6c04c497e4"
      },
      "source": [
        "print(classification_report(y_test_balanced,y_pred))\n",
        "print(confusion_matrix(y_test_balanced,y_pred))"
      ],
      "id": "4293c108",
      "execution_count": null,
      "outputs": [
        {
          "name": "stdout",
          "output_type": "stream",
          "text": [
            "              precision    recall  f1-score   support\n",
            "\n",
            "           0       0.63      0.98      0.77      4354\n",
            "           1       0.95      0.43      0.59      4354\n",
            "\n",
            "    accuracy                           0.70      8708\n",
            "   macro avg       0.79      0.70      0.68      8708\n",
            "weighted avg       0.79      0.70      0.68      8708\n",
            "\n",
            "[[4260   94]\n",
            " [2494 1860]]\n"
          ]
        }
      ]
    },
    {
      "cell_type": "code",
      "metadata": {
        "id": "22c5c8a0",
        "outputId": "cdf3162d-1a1e-451b-9678-01c11e1dc4c7"
      },
      "source": [
        "figure(figsize=(8, 9), dpi=80)\n",
        "plt.barh(X_vif_treated.columns, clf.feature_importances_)"
      ],
      "id": "22c5c8a0",
      "execution_count": null,
      "outputs": [
        {
          "data": {
            "text/plain": [
              "<BarContainer object of 30 artists>"
            ]
          },
          "execution_count": 292,
          "metadata": {},
          "output_type": "execute_result"
        },
        {
          "data": {
            "image/png": "[encoded data removed]",
            "text/plain": [
              "<Figure size 640x720 with 1 Axes>"
            ]
          },
          "metadata": {
            "needs_background": "light"
          },
          "output_type": "display_data"
        }
      ]
    },
    {
      "cell_type": "code",
      "metadata": {
        "id": "37543668",
        "outputId": "6f7ec2db-abf4-4911-9f41-316543b5cdf4"
      },
      "source": [
        "feats = {} # a dict to hold feature_name: feature_importance\n",
        "for feature, importance in zip(X_vif_treated.columns, clf.feature_importances_):\n",
        "    feats[feature] = importance #add the name/value pair \n",
        "\n",
        "importances = pd.DataFrame.from_dict(feats, orient='index').rename(columns={0: 'Feature importance'})\n",
        "print(importances)"
      ],
      "id": "37543668",
      "execution_count": null,
      "outputs": [
        {
          "name": "stdout",
          "output_type": "stream",
          "text": [
            "                      Feature importance\n",
            "volume_obv                      0.030652\n",
            "volume_cmf                      0.021542\n",
            "volume_mfi                      0.016521\n",
            "volume_em                       0.054737\n",
            "volume_sma_em                   0.020250\n",
            "volatility_bbw                  0.117760\n",
            "volatility_kcw                  0.140967\n",
            "volatility_kcp                  0.023462\n",
            "volatility_dcp                  0.022462\n",
            "trend_adx_pos                   0.027916\n",
            "trend_adx_neg                   0.018748\n",
            "trend_vortex_ind_neg            0.022264\n",
            "trend_trix                      0.047883\n",
            "trend_mass_index                0.025420\n",
            "trend_cci                       0.024478\n",
            "trend_dpo                       0.016023\n",
            "trend_kst_sig                   0.033032\n",
            "trend_aroon_up                  0.026771\n",
            "trend_stc                       0.030633\n",
            "momentum_stoch_rsi              0.016168\n",
            "momentum_stoch_rsi_d            0.019700\n",
            "momentum_uo                     0.019940\n",
            "momentum_ao                     0.018724\n",
            "momentum_roc                    0.039944\n",
            "momentum_ppo_hist               0.026011\n",
            "bitcoin                         0.021526\n",
            "ethereum                        0.045893\n",
            "crypto                          0.027549\n",
            "cryptocurrency                  0.022422\n",
            "blockchain                      0.020601\n"
          ]
        }
      ]
    },
    {
      "cell_type": "markdown",
      "metadata": {
        "id": "67d9290f"
      },
      "source": [
        "### XG Boost classifier"
      ],
      "id": "67d9290f"
    },
    {
      "cell_type": "code",
      "metadata": {
        "id": "084f534a"
      },
      "source": [
        "import xgboost as xgb\n",
        "from xgboost import XGBClassifier"
      ],
      "id": "084f534a",
      "execution_count": null,
      "outputs": []
    },
    {
      "cell_type": "code",
      "metadata": {
        "id": "21b28e9d",
        "outputId": "ccf99205-1b32-41db-a46c-5468f5601b14"
      },
      "source": [
        "model = XGBClassifier()\n",
        "# fit the model\n",
        "model.fit(X_vif_treated, target)"
      ],
      "id": "21b28e9d",
      "execution_count": null,
      "outputs": [
        {
          "name": "stdout",
          "output_type": "stream",
          "text": [
            "[09:30:39] WARNING: ../src/learner.cc:1095: Starting in XGBoost 1.3.0, the default evaluation metric used with the objective 'binary:logistic' was changed from 'error' to 'logloss'. Explicitly set eval_metric if you'd like to restore the old behavior.\n"
          ]
        },
        {
          "data": {
            "text/plain": [
              "XGBClassifier(base_score=0.5, booster='gbtree', colsample_bylevel=1,\n",
              "              colsample_bynode=1, colsample_bytree=1, gamma=0, gpu_id=-1,\n",
              "              importance_type='gain', interaction_constraints='',\n",
              "              learning_rate=0.300000012, max_delta_step=0, max_depth=6,\n",
              "              min_child_weight=1, missing=nan, monotone_constraints='()',\n",
              "              n_estimators=100, n_jobs=8, num_parallel_tree=1, random_state=0,\n",
              "              reg_alpha=0, reg_lambda=1, scale_pos_weight=1, subsample=1,\n",
              "              tree_method='exact', validate_parameters=1, verbosity=None)"
            ]
          },
          "execution_count": 295,
          "metadata": {},
          "output_type": "execute_result"
        }
      ]
    },
    {
      "cell_type": "code",
      "metadata": {
        "id": "96849656"
      },
      "source": [
        "y_pred = model.predict(x_test_vif_treated)\n",
        "\n",
        "\n",
        "# get importance\n",
        "importance = model.feature_importances_"
      ],
      "id": "96849656",
      "execution_count": null,
      "outputs": []
    },
    {
      "cell_type": "code",
      "metadata": {
        "id": "1a1268a4",
        "outputId": "3a5a6776-a639-447a-b67b-f42e574eb373"
      },
      "source": [
        "# metrics are used to find accuracy or error\n",
        "from sklearn import metrics  \n",
        "print()\n",
        "  \n",
        "# using metrics module for accuracy calculation\n",
        "print(\"ACCURACY OF THE MODEL: \", metrics.accuracy_score(y_test_balanced, y_pred))"
      ],
      "id": "1a1268a4",
      "execution_count": null,
      "outputs": [
        {
          "name": "stdout",
          "output_type": "stream",
          "text": [
            "\n",
            "ACCURACY OF THE MODEL:  0.9359209921910887\n"
          ]
        }
      ]
    },
    {
      "cell_type": "code",
      "metadata": {
        "id": "fe868b72",
        "outputId": "c1bed13b-56e6-40b5-ea42-664f369d08fe"
      },
      "source": [
        "figure(figsize=(8, 6), dpi=80)\n",
        "plt.barh(X_vif_treated.columns, model.feature_importances_)"
      ],
      "id": "fe868b72",
      "execution_count": null,
      "outputs": [
        {
          "data": {
            "text/plain": [
              "<BarContainer object of 30 artists>"
            ]
          },
          "execution_count": 298,
          "metadata": {},
          "output_type": "execute_result"
        },
        {
          "data": {
            "image/png": "[encoded data removed]",
            "text/plain": [
              "<Figure size 640x480 with 1 Axes>"
            ]
          },
          "metadata": {
            "needs_background": "light"
          },
          "output_type": "display_data"
        }
      ]
    },
    {
      "cell_type": "code",
      "metadata": {
        "id": "3fc93034",
        "outputId": "1f00a0cd-b1a1-40ca-f010-a62a51bf891f"
      },
      "source": [
        "feats = {} # a dict to hold feature_name: feature_importance\n",
        "for feature, importance in zip(X_vif_treated.columns, model.feature_importances_):\n",
        "    feats[feature] = importance #add the name/value pair \n",
        "\n",
        "importances = pd.DataFrame.from_dict(feats, orient='index').rename(columns={0: 'Feature importance'})\n",
        "print(importances)"
      ],
      "id": "3fc93034",
      "execution_count": null,
      "outputs": [
        {
          "name": "stdout",
          "output_type": "stream",
          "text": [
            "                      Feature importance\n",
            "volume_obv                      0.015745\n",
            "volume_cmf                      0.030021\n",
            "volume_mfi                      0.014262\n",
            "volume_em                       0.058045\n",
            "volume_sma_em                   0.013820\n",
            "volatility_bbw                  0.123706\n",
            "volatility_kcw                  0.200709\n",
            "volatility_kcp                  0.012081\n",
            "volatility_dcp                  0.018139\n",
            "trend_adx_pos                   0.048525\n",
            "trend_adx_neg                   0.017512\n",
            "trend_vortex_ind_neg            0.013765\n",
            "trend_trix                      0.021349\n",
            "trend_mass_index                0.018839\n",
            "trend_cci                       0.009724\n",
            "trend_dpo                       0.011853\n",
            "trend_kst_sig                   0.013433\n",
            "trend_aroon_up                  0.031645\n",
            "trend_stc                       0.040970\n",
            "momentum_stoch_rsi              0.014096\n",
            "momentum_stoch_rsi_d            0.013738\n",
            "momentum_uo                     0.015060\n",
            "momentum_ao                     0.010330\n",
            "momentum_roc                    0.009113\n",
            "momentum_ppo_hist               0.025256\n",
            "bitcoin                         0.015580\n",
            "ethereum                        0.050275\n",
            "crypto                          0.040617\n",
            "cryptocurrency                  0.069965\n",
            "blockchain                      0.021825\n"
          ]
        }
      ]
    },
    {
      "cell_type": "code",
      "metadata": {
        "id": "bd68e2e5",
        "outputId": "28b6930e-2eb8-481f-c370-41352f58cffd"
      },
      "source": [
        "print(classification_report(y_test_balanced,y_pred))\n",
        "print(confusion_matrix(y_test_balanced,y_pred))"
      ],
      "id": "bd68e2e5",
      "execution_count": null,
      "outputs": [
        {
          "name": "stdout",
          "output_type": "stream",
          "text": [
            "              precision    recall  f1-score   support\n",
            "\n",
            "           0       0.89      0.99      0.94      4354\n",
            "           1       0.99      0.88      0.93      4354\n",
            "\n",
            "    accuracy                           0.94      8708\n",
            "   macro avg       0.94      0.94      0.94      8708\n",
            "weighted avg       0.94      0.94      0.94      8708\n",
            "\n",
            "[[4316   38]\n",
            " [ 520 3834]]\n"
          ]
        }
      ]
    },
    {
      "cell_type": "markdown",
      "metadata": {
        "id": "aebd71ca"
      },
      "source": [
        "### K neighbors classifier"
      ],
      "id": "aebd71ca"
    },
    {
      "cell_type": "code",
      "metadata": {
        "id": "13ea39f8"
      },
      "source": [
        "from sklearn.neighbors import KNeighborsClassifier\n",
        "from sklearn.inspection import permutation_importance"
      ],
      "id": "13ea39f8",
      "execution_count": null,
      "outputs": []
    },
    {
      "cell_type": "code",
      "metadata": {
        "id": "c4e6cdfe",
        "outputId": "a675a522-8c49-4dec-bcee-f2b1ec07ac0e"
      },
      "source": [
        "model = KNeighborsClassifier()\n",
        "model.fit(X_vif_treated, target)\n"
      ],
      "id": "c4e6cdfe",
      "execution_count": null,
      "outputs": [
        {
          "data": {
            "text/plain": [
              "KNeighborsClassifier()"
            ]
          },
          "execution_count": 302,
          "metadata": {},
          "output_type": "execute_result"
        }
      ]
    },
    {
      "cell_type": "code",
      "metadata": {
        "id": "d0738dcd"
      },
      "source": [
        "y_pred = model.predict(x_test_vif_treated)"
      ],
      "id": "d0738dcd",
      "execution_count": null,
      "outputs": []
    },
    {
      "cell_type": "code",
      "metadata": {
        "id": "bb061afb",
        "outputId": "689bb7f1-357c-4d9a-be5b-7b0b4496019b"
      },
      "source": [
        "# metrics are used to find accuracy or error\n",
        "from sklearn import metrics  \n",
        "print()\n",
        "  \n",
        "# using metrics module for accuracy calculation\n",
        "print(\"ACCURACY OF THE MODEL: \", metrics.accuracy_score(y_test_balanced, y_pred))"
      ],
      "id": "bb061afb",
      "execution_count": null,
      "outputs": [
        {
          "name": "stdout",
          "output_type": "stream",
          "text": [
            "\n",
            "ACCURACY OF THE MODEL:  0.6725999081304548\n"
          ]
        }
      ]
    },
    {
      "cell_type": "code",
      "metadata": {
        "id": "c7485056",
        "outputId": "1fa0dc59-85ba-4383-82a7-e0e63685127c"
      },
      "source": [
        "print(classification_report(y_test_balanced,y_pred))\n",
        "print(confusion_matrix(y_test_balanced,y_pred))"
      ],
      "id": "c7485056",
      "execution_count": null,
      "outputs": [
        {
          "name": "stdout",
          "output_type": "stream",
          "text": [
            "              precision    recall  f1-score   support\n",
            "\n",
            "           0       0.62      0.90      0.73      4354\n",
            "           1       0.81      0.45      0.58      4354\n",
            "\n",
            "    accuracy                           0.67      8708\n",
            "   macro avg       0.72      0.67      0.66      8708\n",
            "weighted avg       0.72      0.67      0.66      8708\n",
            "\n",
            "[[3899  455]\n",
            " [2396 1958]]\n"
          ]
        }
      ]
    },
    {
      "cell_type": "code",
      "metadata": {
        "id": "0249b26d"
      },
      "source": [
        "# get importance\n",
        "results = permutation_importance(model, X_vif_treated, target, scoring='neg_mean_squared_error',n_jobs=-1)\n",
        "# get importance\n",
        "importance = results.importances_mean"
      ],
      "id": "0249b26d",
      "execution_count": null,
      "outputs": []
    },
    {
      "cell_type": "code",
      "metadata": {
        "id": "bdc43abe",
        "outputId": "52660929-142d-447c-cbcd-a3db3f809b52"
      },
      "source": [
        "figure(figsize=(8, 6), dpi=80)\n",
        "plt.barh(X_vif_treated.columns, importance)"
      ],
      "id": "bdc43abe",
      "execution_count": null,
      "outputs": [
        {
          "data": {
            "text/plain": [
              "<BarContainer object of 30 artists>"
            ]
          },
          "execution_count": 307,
          "metadata": {},
          "output_type": "execute_result"
        },
        {
          "data": {
            "image/png": "[encoded data removed]",
            "text/plain": [
              "<Figure size 640x480 with 1 Axes>"
            ]
          },
          "metadata": {
            "needs_background": "light"
          },
          "output_type": "display_data"
        }
      ]
    },
    {
      "cell_type": "code",
      "metadata": {
        "id": "075efc5c",
        "outputId": "0795fe8c-b6b1-4585-dd76-83b534653d04"
      },
      "source": [
        "feats = {} # a dict to hold feature_name: feature_importance\n",
        "for feature, importance in zip(X_vif_treated.columns, importance):\n",
        "    feats[feature] = importance #add the name/value pair \n",
        "\n",
        "importances = pd.DataFrame.from_dict(feats, orient='index').rename(columns={0: 'Feature importance'})\n",
        "print(importances)"
      ],
      "id": "075efc5c",
      "execution_count": null,
      "outputs": [
        {
          "name": "stdout",
          "output_type": "stream",
          "text": [
            "                      Feature importance\n",
            "volume_obv                      0.094264\n",
            "volume_cmf                      0.005131\n",
            "volume_mfi                      0.061708\n",
            "volume_em                      -0.000006\n",
            "volume_sma_em                   0.000392\n",
            "volatility_bbw                  0.019034\n",
            "volatility_kcw                  0.013511\n",
            "volatility_kcp                  0.001492\n",
            "volatility_dcp                  0.078346\n",
            "trend_adx_pos                   0.018463\n",
            "trend_adx_neg                   0.008166\n",
            "trend_vortex_ind_neg            0.003288\n",
            "trend_trix                     -0.000012\n",
            "trend_mass_index                0.001607\n",
            "trend_cci                       0.001019\n",
            "trend_dpo                       0.000737\n",
            "trend_kst_sig                  -0.000161\n",
            "trend_aroon_up                  0.150415\n",
            "trend_stc                       0.180344\n",
            "momentum_stoch_rsi              0.162255\n",
            "momentum_stoch_rsi_d            0.132867\n",
            "momentum_uo                     0.001163\n",
            "momentum_ao                    -0.000155\n",
            "momentum_roc                    0.001065\n",
            "momentum_ppo_hist               0.004889\n",
            "bitcoin                         0.010723\n",
            "ethereum                        0.004164\n",
            "crypto                          0.000944\n",
            "cryptocurrency                  0.007469\n",
            "blockchain                      0.019489\n"
          ]
        }
      ]
    },
    {
      "cell_type": "code",
      "metadata": {
        "id": "67686cb0",
        "outputId": "957ec1ed-4cf5-481b-a2e7-228b5259193d"
      },
      "source": [
        "X_vif_treated.shape"
      ],
      "id": "67686cb0",
      "execution_count": null,
      "outputs": [
        {
          "data": {
            "text/plain": [
              "(34728, 30)"
            ]
          },
          "execution_count": 309,
          "metadata": {},
          "output_type": "execute_result"
        }
      ]
    },
    {
      "cell_type": "markdown",
      "metadata": {
        "id": "8773ab60"
      },
      "source": [
        "### Defining Neural Network Structure"
      ],
      "id": "8773ab60"
    },
    {
      "cell_type": "code",
      "metadata": {
        "id": "55ca9da6"
      },
      "source": [
        "# Import `Sequential` from `keras.models`\n",
        "from keras.models import Sequential\n",
        "\n",
        "# Import `Dense` from `keras.layers`\n",
        "from keras.layers import Dense\n",
        "\n",
        "# Initialize the constructor\n",
        "model = Sequential()\n",
        "\n",
        "# Add an input layer \n",
        "model.add(Dense(30, activation='relu', input_shape=(30,)))\n",
        "\n",
        "# Add one hidden layer \n",
        "model.add(Dense(15, activation='relu'))\n",
        "\n",
        "# Add an output layer \n",
        "model.add(Dense(1, activation='sigmoid'))"
      ],
      "id": "55ca9da6",
      "execution_count": null,
      "outputs": []
    },
    {
      "cell_type": "markdown",
      "metadata": {
        "id": "5011dd00"
      },
      "source": [
        "### Neural Network Training with target metrics as Accuracy"
      ],
      "id": "5011dd00"
    },
    {
      "cell_type": "code",
      "metadata": {
        "id": "434d1983"
      },
      "source": [
        "import tensorflow as tf\n",
        "import keras\n",
        "import keras.backend as K"
      ],
      "id": "434d1983",
      "execution_count": null,
      "outputs": []
    },
    {
      "cell_type": "code",
      "metadata": {
        "id": "65f105ba",
        "outputId": "c7f7cc1c-c61a-4874-b4cf-d54b36de1dad"
      },
      "source": [
        "model.compile(loss='binary_crossentropy',\n",
        "              optimizer='adam',\n",
        "              metrics=[tf.keras.metrics.Precision()])\n",
        "                   \n",
        "model.fit(X_vif_treated, target,epochs=30, batch_size=5, verbose=1)"
      ],
      "id": "65f105ba",
      "execution_count": null,
      "outputs": [
        {
          "name": "stdout",
          "output_type": "stream",
          "text": [
            "Epoch 1/30\n",
            "6946/6946 [==============================] - 10s 1ms/step - loss: 0.4434 - precision: 0.8012\n",
            "Epoch 2/30\n",
            "6946/6946 [==============================] - 9s 1ms/step - loss: 0.4061 - precision: 0.8038\n",
            "Epoch 3/30\n",
            "6946/6946 [==============================] - 8s 1ms/step - loss: 0.3910 - precision: 0.8109\n",
            "Epoch 4/30\n",
            "6946/6946 [==============================] - 8s 1ms/step - loss: 0.3790 - precision: 0.8141\n",
            "Epoch 5/30\n",
            "6946/6946 [==============================] - 9s 1ms/step - loss: 0.3683 - precision: 0.8179\n",
            "Epoch 6/30\n",
            "6946/6946 [==============================] - 9s 1ms/step - loss: 0.3583 - precision: 0.8225\n",
            "Epoch 7/30\n",
            "6946/6946 [==============================] - 9s 1ms/step - loss: 0.3506 - precision: 0.8235\n",
            "Epoch 8/30\n",
            "6946/6946 [==============================] - 9s 1ms/step - loss: 0.3424 - precision: 0.8261\n",
            "Epoch 9/30\n",
            "6946/6946 [==============================] - 8s 1ms/step - loss: 0.3341 - precision: 0.8298\n",
            "Epoch 10/30\n",
            "6946/6946 [==============================] - 9s 1ms/step - loss: 0.3276 - precision: 0.8335\n",
            "Epoch 11/30\n",
            "6946/6946 [==============================] - 8s 1ms/step - loss: 0.3206 - precision: 0.8374\n",
            "Epoch 12/30\n",
            "6946/6946 [==============================] - 9s 1ms/step - loss: 0.3118 - precision: 0.8418\n",
            "Epoch 13/30\n",
            "6946/6946 [==============================] - 8s 1ms/step - loss: 0.3040 - precision: 0.8460\n",
            "Epoch 14/30\n",
            "6946/6946 [==============================] - 9s 1ms/step - loss: 0.2976 - precision: 0.8491\n",
            "Epoch 15/30\n",
            "6946/6946 [==============================] - 9s 1ms/step - loss: 0.2906 - precision: 0.8523\n",
            "Epoch 16/30\n",
            "6946/6946 [==============================] - 8s 1ms/step - loss: 0.2833 - precision: 0.8539\n",
            "Epoch 17/30\n",
            "6946/6946 [==============================] - 9s 1ms/step - loss: 0.2767 - precision: 0.8575\n",
            "Epoch 18/30\n",
            "6946/6946 [==============================] - 9s 1ms/step - loss: 0.2737 - precision: 0.8587\n",
            "Epoch 19/30\n",
            "6946/6946 [==============================] - 9s 1ms/step - loss: 0.2692 - precision: 0.8598\n",
            "Epoch 20/30\n",
            "6946/6946 [==============================] - 9s 1ms/step - loss: 0.2657 - precision: 0.8606\n",
            "Epoch 21/30\n",
            "6946/6946 [==============================] - 8s 1ms/step - loss: 0.2608 - precision: 0.8652\n",
            "Epoch 22/30\n",
            "6946/6946 [==============================] - 8s 1ms/step - loss: 0.2555 - precision: 0.8677\n",
            "Epoch 23/30\n",
            "6946/6946 [==============================] - 8s 1ms/step - loss: 0.2531 - precision: 0.8678\n",
            "Epoch 24/30\n",
            "6946/6946 [==============================] - 9s 1ms/step - loss: 0.2501 - precision: 0.8693\n",
            "Epoch 25/30\n",
            "6946/6946 [==============================] - 8s 1ms/step - loss: 0.2457 - precision: 0.8716\n",
            "Epoch 26/30\n",
            "6946/6946 [==============================] - 9s 1ms/step - loss: 0.2417 - precision: 0.8745\n",
            "Epoch 27/30\n",
            "6946/6946 [==============================] - 9s 1ms/step - loss: 0.2386 - precision: 0.8766\n",
            "Epoch 28/30\n",
            "6946/6946 [==============================] - 9s 1ms/step - loss: 0.2363 - precision: 0.8779\n",
            "Epoch 29/30\n",
            "6946/6946 [==============================] - 9s 1ms/step - loss: 0.2328 - precision: 0.8802\n",
            "Epoch 30/30\n",
            "6946/6946 [==============================] - 8s 1ms/step - loss: 0.2287 - precision: 0.8829\n"
          ]
        },
        {
          "data": {
            "text/plain": [
              "<keras.callbacks.History at 0x7f634c79e2e0>"
            ]
          },
          "execution_count": 312,
          "metadata": {},
          "output_type": "execute_result"
        }
      ]
    },
    {
      "cell_type": "code",
      "metadata": {
        "id": "dcc9217e"
      },
      "source": [
        "y_pred = model.predict(x_test_vif_treated)"
      ],
      "id": "dcc9217e",
      "execution_count": null,
      "outputs": []
    },
    {
      "cell_type": "code",
      "metadata": {
        "id": "73e61eaf",
        "outputId": "37e9ecf9-b591-46e1-a2fb-f5682a7fb68f"
      },
      "source": [
        "y_pred"
      ],
      "id": "73e61eaf",
      "execution_count": null,
      "outputs": [
        {
          "data": {
            "text/plain": [
              "array([[9.4513535e-02],\n",
              "       [1.4269352e-04],\n",
              "       [1.7872131e-01],\n",
              "       ...,\n",
              "       [9.2878771e-01],\n",
              "       [5.9289038e-03],\n",
              "       [8.8824832e-01]], dtype=float32)"
            ]
          },
          "execution_count": 314,
          "metadata": {},
          "output_type": "execute_result"
        }
      ]
    },
    {
      "cell_type": "code",
      "metadata": {
        "id": "9179f008",
        "outputId": "fe0c5c8b-a73b-4a65-c2d7-bc76cfecd997"
      },
      "source": [
        "y_pred = pd.DataFrame(y_pred)\n",
        "y_pred.rename(columns = {0:'output_prob'}, inplace = True) \n",
        "\n",
        "y_pred['output_prob'].loc[(y_pred['output_prob']) >0.5] = 1\n",
        "y_pred['output_prob'].loc[(y_pred['output_prob']) <=0.5] = 0\n",
        "y_pred.head()"
      ],
      "id": "9179f008",
      "execution_count": null,
      "outputs": [
        {
          "data": {
            "text/html": [
              "<div>\n",
              "<style scoped>\n",
              "    .dataframe tbody tr th:only-of-type {\n",
              "        vertical-align: middle;\n",
              "    }\n",
              "\n",
              "    .dataframe tbody tr th {\n",
              "        vertical-align: top;\n",
              "    }\n",
              "\n",
              "    .dataframe thead th {\n",
              "        text-align: right;\n",
              "    }\n",
              "</style>\n",
              "<table border=\"1\" class=\"dataframe\">\n",
              "  <thead>\n",
              "    <tr style=\"text-align: right;\">\n",
              "      <th></th>\n",
              "      <th>output_prob</th>\n",
              "    </tr>\n",
              "  </thead>\n",
              "  <tbody>\n",
              "    <tr>\n",
              "      <th>0</th>\n",
              "      <td>0.0</td>\n",
              "    </tr>\n",
              "    <tr>\n",
              "      <th>1</th>\n",
              "      <td>0.0</td>\n",
              "    </tr>\n",
              "    <tr>\n",
              "      <th>2</th>\n",
              "      <td>0.0</td>\n",
              "    </tr>\n",
              "    <tr>\n",
              "      <th>3</th>\n",
              "      <td>0.0</td>\n",
              "    </tr>\n",
              "    <tr>\n",
              "      <th>4</th>\n",
              "      <td>0.0</td>\n",
              "    </tr>\n",
              "  </tbody>\n",
              "</table>\n",
              "</div>"
            ],
            "text/plain": [
              "   output_prob\n",
              "0          0.0\n",
              "1          0.0\n",
              "2          0.0\n",
              "3          0.0\n",
              "4          0.0"
            ]
          },
          "execution_count": 315,
          "metadata": {},
          "output_type": "execute_result"
        }
      ]
    },
    {
      "cell_type": "code",
      "metadata": {
        "id": "b867230d",
        "outputId": "7517812a-742f-46f4-9ba8-f8da22db42a6"
      },
      "source": [
        "y_pred.round(0)\n",
        "y_pred['output_prob'].astype(int)\n",
        "y_pred.head()"
      ],
      "id": "b867230d",
      "execution_count": null,
      "outputs": [
        {
          "data": {
            "text/html": [
              "<div>\n",
              "<style scoped>\n",
              "    .dataframe tbody tr th:only-of-type {\n",
              "        vertical-align: middle;\n",
              "    }\n",
              "\n",
              "    .dataframe tbody tr th {\n",
              "        vertical-align: top;\n",
              "    }\n",
              "\n",
              "    .dataframe thead th {\n",
              "        text-align: right;\n",
              "    }\n",
              "</style>\n",
              "<table border=\"1\" class=\"dataframe\">\n",
              "  <thead>\n",
              "    <tr style=\"text-align: right;\">\n",
              "      <th></th>\n",
              "      <th>output_prob</th>\n",
              "    </tr>\n",
              "  </thead>\n",
              "  <tbody>\n",
              "    <tr>\n",
              "      <th>0</th>\n",
              "      <td>0.0</td>\n",
              "    </tr>\n",
              "    <tr>\n",
              "      <th>1</th>\n",
              "      <td>0.0</td>\n",
              "    </tr>\n",
              "    <tr>\n",
              "      <th>2</th>\n",
              "      <td>0.0</td>\n",
              "    </tr>\n",
              "    <tr>\n",
              "      <th>3</th>\n",
              "      <td>0.0</td>\n",
              "    </tr>\n",
              "    <tr>\n",
              "      <th>4</th>\n",
              "      <td>0.0</td>\n",
              "    </tr>\n",
              "  </tbody>\n",
              "</table>\n",
              "</div>"
            ],
            "text/plain": [
              "   output_prob\n",
              "0          0.0\n",
              "1          0.0\n",
              "2          0.0\n",
              "3          0.0\n",
              "4          0.0"
            ]
          },
          "execution_count": 316,
          "metadata": {},
          "output_type": "execute_result"
        }
      ]
    },
    {
      "cell_type": "code",
      "metadata": {
        "id": "7e6546be",
        "outputId": "53ef12f6-8d32-402b-ff0a-e0814bd893e9"
      },
      "source": [
        "y_pred.value_counts()"
      ],
      "id": "7e6546be",
      "execution_count": null,
      "outputs": [
        {
          "data": {
            "text/plain": [
              "output_prob\n",
              "0.0            4882\n",
              "1.0            3826\n",
              "dtype: int64"
            ]
          },
          "execution_count": 317,
          "metadata": {},
          "output_type": "execute_result"
        }
      ]
    },
    {
      "cell_type": "code",
      "metadata": {
        "id": "e18eea60",
        "outputId": "1b991345-1ac9-4d9a-c495-dcb108c0c28e"
      },
      "source": [
        "print(\"ACCURACY OF THE MODEL: \", metrics.accuracy_score(y_test_balanced, y_pred))"
      ],
      "id": "e18eea60",
      "execution_count": null,
      "outputs": [
        {
          "name": "stdout",
          "output_type": "stream",
          "text": [
            "ACCURACY OF THE MODEL:  0.776757005052825\n"
          ]
        }
      ]
    },
    {
      "cell_type": "code",
      "metadata": {
        "id": "a6691e6f",
        "outputId": "f9d76feb-706e-4429-94f4-a1b195198334"
      },
      "source": [
        "print(classification_report(y_test_balanced,y_pred))\n",
        "print(confusion_matrix(y_test_balanced,y_pred))"
      ],
      "id": "a6691e6f",
      "execution_count": null,
      "outputs": [
        {
          "name": "stdout",
          "output_type": "stream",
          "text": [
            "              precision    recall  f1-score   support\n",
            "\n",
            "           0       0.75      0.84      0.79      4354\n",
            "           1       0.81      0.72      0.76      4354\n",
            "\n",
            "    accuracy                           0.78      8708\n",
            "   macro avg       0.78      0.78      0.78      8708\n",
            "weighted avg       0.78      0.78      0.78      8708\n",
            "\n",
            "[[3646  708]\n",
            " [1236 3118]]\n"
          ]
        }
      ]
    },
    {
      "cell_type": "markdown",
      "metadata": {
        "id": "59005e33"
      },
      "source": [
        "### SVM model"
      ],
      "id": "59005e33"
    },
    {
      "cell_type": "code",
      "metadata": {
        "id": "9d7be7ba",
        "outputId": "1ad0eb88-b0d3-4ec2-caee-c6c699877e9b"
      },
      "source": [
        "from sklearn.svm import SVC  \n",
        "clf = SVC(kernel='linear') \n",
        "  \n",
        "# fitting x samples and y classes \n",
        "clf.fit(X_vif_treated, target) "
      ],
      "id": "9d7be7ba",
      "execution_count": null,
      "outputs": [
        {
          "data": {
            "text/plain": [
              "SVC(kernel='linear')"
            ]
          },
          "execution_count": 320,
          "metadata": {},
          "output_type": "execute_result"
        }
      ]
    },
    {
      "cell_type": "code",
      "metadata": {
        "id": "636ad824"
      },
      "source": [
        "y_pred = clf.predict(x_test_vif_treated)"
      ],
      "id": "636ad824",
      "execution_count": null,
      "outputs": []
    },
    {
      "cell_type": "code",
      "metadata": {
        "id": "bd954ffc",
        "outputId": "7c01a5c4-6de0-4ff8-f444-848459e3aad1"
      },
      "source": [
        "print(\"ACCURACY OF THE MODEL: \", metrics.accuracy_score(y_test_balanced, y_pred))"
      ],
      "id": "bd954ffc",
      "execution_count": null,
      "outputs": [
        {
          "name": "stdout",
          "output_type": "stream",
          "text": [
            "ACCURACY OF THE MODEL:  0.7680293982544787\n"
          ]
        }
      ]
    },
    {
      "cell_type": "code",
      "metadata": {
        "id": "5c0e15bd",
        "outputId": "9c4b192a-aab4-461e-be01-e07cba082105"
      },
      "source": [
        "print(classification_report(y_test_balanced,y_pred))\n",
        "print(confusion_matrix(y_test_balanced,y_pred))"
      ],
      "id": "5c0e15bd",
      "execution_count": null,
      "outputs": [
        {
          "name": "stdout",
          "output_type": "stream",
          "text": [
            "              precision    recall  f1-score   support\n",
            "\n",
            "           0       0.74      0.83      0.78      4354\n",
            "           1       0.81      0.70      0.75      4354\n",
            "\n",
            "    accuracy                           0.77      8708\n",
            "   macro avg       0.77      0.77      0.77      8708\n",
            "weighted avg       0.77      0.77      0.77      8708\n",
            "\n",
            "[[3630  724]\n",
            " [1296 3058]]\n"
          ]
        }
      ]
    },
    {
      "cell_type": "code",
      "metadata": {
        "id": "71ed5f39",
        "outputId": "2f5db251-358f-4a9c-c622-24299d675426"
      },
      "source": [
        "figure(figsize=(8, 9), dpi=80)\n",
        "importance = clf.coef_[0]\n",
        "plt.barh(X_vif_treated.columns, importance)"
      ],
      "id": "71ed5f39",
      "execution_count": null,
      "outputs": [
        {
          "data": {
            "text/plain": [
              "<BarContainer object of 30 artists>"
            ]
          },
          "execution_count": 324,
          "metadata": {},
          "output_type": "execute_result"
        },
        {
          "data": {
            "image/png": "[encoded data removed]",
            "text/plain": [
              "<Figure size 640x720 with 1 Axes>"
            ]
          },
          "metadata": {
            "needs_background": "light"
          },
          "output_type": "display_data"
        }
      ]
    },
    {
      "cell_type": "code",
      "metadata": {
        "id": "f2c619ea",
        "outputId": "db8a3e2f-31d8-4fc3-b2cd-2642de04add1"
      },
      "source": [
        "feats = {} # a dict to hold feature_name: feature_importance\n",
        "for feature, importance in zip(X_vif_treated.columns, importance):\n",
        "    feats[feature] = importance #add the name/value pair \n",
        "\n",
        "importances = pd.DataFrame.from_dict(feats, orient='index').rename(columns={0: 'Feature importance'})\n",
        "print(importances)"
      ],
      "id": "f2c619ea",
      "execution_count": null,
      "outputs": [
        {
          "name": "stdout",
          "output_type": "stream",
          "text": [
            "                      Feature importance\n",
            "volume_obv                      0.359322\n",
            "volume_cmf                      1.056329\n",
            "volume_mfi                     -1.164320\n",
            "volume_em                       4.401141\n",
            "volume_sma_em                  -7.005991\n",
            "volatility_bbw                  4.926993\n",
            "volatility_kcw                  7.458655\n",
            "volatility_kcp                 -5.435899\n",
            "volatility_dcp                 -1.531897\n",
            "trend_adx_pos                   2.921943\n",
            "trend_adx_neg                  -0.679556\n",
            "trend_vortex_ind_neg           -2.803607\n",
            "trend_trix                     -0.628526\n",
            "trend_mass_index               -3.027511\n",
            "trend_cci                       6.407388\n",
            "trend_dpo                      -2.061485\n",
            "trend_kst_sig                  -0.640270\n",
            "trend_aroon_up                 -0.456761\n",
            "trend_stc                      -0.240180\n",
            "momentum_stoch_rsi              1.145631\n",
            "momentum_stoch_rsi_d           -0.855231\n",
            "momentum_uo                    -2.161758\n",
            "momentum_ao                     2.823107\n",
            "momentum_roc                   -0.746689\n",
            "momentum_ppo_hist               1.405767\n",
            "bitcoin                         0.353798\n",
            "ethereum                        2.053074\n",
            "crypto                         -1.054462\n",
            "cryptocurrency                 -1.170617\n",
            "blockchain                     -0.855769\n"
          ]
        }
      ]
    },
    {
      "cell_type": "code",
      "metadata": {
        "id": "9b222373"
      },
      "source": [
        ""
      ],
      "id": "9b222373",
      "execution_count": null,
      "outputs": []
    },
    {
      "cell_type": "markdown",
      "metadata": {
        "id": "5ebae320"
      },
      "source": [
        "### Neural Network Training with target metrics as True Positives"
      ],
      "id": "5ebae320"
    },
    {
      "cell_type": "code",
      "metadata": {
        "id": "d14b3394"
      },
      "source": [
        "model.compile(loss='binary_crossentropy',\n",
        "              optimizer='adam',\n",
        "              metrics=[tf.keras.metrics.TruePositives()])\n",
        "                   \n",
        "model.fit(X_vif_treated, target,epochs=5, batch_size=1, verbose=1)"
      ],
      "id": "d14b3394",
      "execution_count": null,
      "outputs": []
    },
    {
      "cell_type": "code",
      "metadata": {
        "id": "74696566"
      },
      "source": [
        "y_pred = model.predict(x_test_vif_treated)\n",
        "y_pred"
      ],
      "id": "74696566",
      "execution_count": null,
      "outputs": []
    },
    {
      "cell_type": "code",
      "metadata": {
        "id": "48288d3d"
      },
      "source": [
        "y_pred = pd.DataFrame(y_pred)\n",
        "y_pred.rename(columns = {0:'output_prob'}, inplace = True) \n",
        "\n",
        "y_pred['output_prob'].loc[(y_pred['output_prob']) >0.5] = 1\n",
        "y_pred['output_prob'].loc[(y_pred['output_prob']) <=0.5] = 0\n",
        "y_pred.head()"
      ],
      "id": "48288d3d",
      "execution_count": null,
      "outputs": []
    },
    {
      "cell_type": "code",
      "metadata": {
        "id": "9d8c08d0"
      },
      "source": [
        "y_pred.round(0)\n",
        "y_pred['output_prob'].astype(int)\n",
        "y_pred.head()"
      ],
      "id": "9d8c08d0",
      "execution_count": null,
      "outputs": []
    },
    {
      "cell_type": "code",
      "metadata": {
        "id": "8241c4b8"
      },
      "source": [
        "y_pred.value_counts()"
      ],
      "id": "8241c4b8",
      "execution_count": null,
      "outputs": []
    },
    {
      "cell_type": "code",
      "metadata": {
        "id": "9c09db20"
      },
      "source": [
        "print(\"ACCURACY OF THE MODEL: \", metrics.accuracy_score(y_test, y_pred))"
      ],
      "id": "9c09db20",
      "execution_count": null,
      "outputs": []
    },
    {
      "cell_type": "code",
      "metadata": {
        "id": "ef6c7040"
      },
      "source": [
        "print(classification_report(y_test,y_pred))\n",
        "print(confusion_matrix(y_test,y_pred))"
      ],
      "id": "ef6c7040",
      "execution_count": null,
      "outputs": []
    },
    {
      "cell_type": "markdown",
      "metadata": {
        "id": "f269609f"
      },
      "source": [
        "### Neural Network Training with target metrics as Precision"
      ],
      "id": "f269609f"
    },
    {
      "cell_type": "code",
      "metadata": {
        "id": "349d9fcb"
      },
      "source": [
        "model.compile(loss='binary_crossentropy',\n",
        "              optimizer='adam',\n",
        "              metrics=[tf.keras.metrics.Precision()])\n",
        "                   \n",
        "model.fit(X_vif_treated, target,epochs=5, batch_size=1, verbose=1)"
      ],
      "id": "349d9fcb",
      "execution_count": null,
      "outputs": []
    },
    {
      "cell_type": "code",
      "metadata": {
        "id": "2262ead0"
      },
      "source": [
        "y_pred = model.predict(x_test_vif_treated)\n",
        "y_pred = pd.DataFrame(y_pred)\n",
        "y_pred.rename(columns = {0:'output_prob'}, inplace = True) \n",
        "\n",
        "y_pred['output_prob'].loc[(y_pred['output_prob']) >0.5] = 1\n",
        "y_pred['output_prob'].loc[(y_pred['output_prob']) <=0.5] = 0\n",
        "\n",
        "y_pred.round(0)\n",
        "y_pred['output_prob'].astype(int)\n",
        "\n",
        "y_pred.value_counts()"
      ],
      "id": "2262ead0",
      "execution_count": null,
      "outputs": []
    },
    {
      "cell_type": "code",
      "metadata": {
        "id": "81e1238a"
      },
      "source": [
        "print(\"ACCURACY OF THE MODEL: \", metrics.accuracy_score(y_test, y_pred))"
      ],
      "id": "81e1238a",
      "execution_count": null,
      "outputs": []
    },
    {
      "cell_type": "code",
      "metadata": {
        "id": "c55fe359"
      },
      "source": [
        "print(classification_report(y_test,y_pred))\n",
        "print(confusion_matrix(y_test,y_pred))"
      ],
      "id": "c55fe359",
      "execution_count": null,
      "outputs": []
    },
    {
      "cell_type": "markdown",
      "metadata": {
        "id": "6c118342"
      },
      "source": [
        "### Neural Network Training with target metrics as AUC"
      ],
      "id": "6c118342"
    },
    {
      "cell_type": "code",
      "metadata": {
        "id": "17b4aa65"
      },
      "source": [
        "model.compile(loss='binary_crossentropy',\n",
        "              optimizer='adam',\n",
        "              metrics=[tf.keras.metrics.AUC()])\n",
        "                   \n",
        "model.fit(X_vif_treated, target,epochs=5, batch_size=1, verbose=1)"
      ],
      "id": "17b4aa65",
      "execution_count": null,
      "outputs": []
    },
    {
      "cell_type": "code",
      "metadata": {
        "id": "56ea6f37"
      },
      "source": [
        "y_pred = model.predict(x_test_vif_treated)\n",
        "y_pred = pd.DataFrame(y_pred)\n",
        "y_pred.rename(columns = {0:'output_prob'}, inplace = True) \n",
        "\n",
        "y_pred['output_prob'].loc[(y_pred['output_prob']) >0.5] = 1\n",
        "y_pred['output_prob'].loc[(y_pred['output_prob']) <=0.5] = 0\n",
        "\n",
        "y_pred.round(0)\n",
        "y_pred['output_prob'].astype(int)\n",
        "\n",
        "y_pred.value_counts()"
      ],
      "id": "56ea6f37",
      "execution_count": null,
      "outputs": []
    },
    {
      "cell_type": "code",
      "metadata": {
        "id": "c6388f22"
      },
      "source": [
        "print(\"ACCURACY OF THE MODEL: \", metrics.accuracy_score(y_test, y_pred))"
      ],
      "id": "c6388f22",
      "execution_count": null,
      "outputs": []
    },
    {
      "cell_type": "code",
      "metadata": {
        "id": "a24a2cdc"
      },
      "source": [
        "print(classification_report(y_test,y_pred))\n",
        "print(confusion_matrix(y_test,y_pred))"
      ],
      "id": "a24a2cdc",
      "execution_count": null,
      "outputs": []
    },
    {
      "cell_type": "markdown",
      "metadata": {
        "id": "c19179b4"
      },
      "source": [
        "### Neural Network Training with target metrics as AUC and increased depth+neurons"
      ],
      "id": "c19179b4"
    },
    {
      "cell_type": "code",
      "metadata": {
        "id": "90ac21db"
      },
      "source": [
        "# Import `Sequential` from `keras.models`\n",
        "from keras.models import Sequential\n",
        "\n",
        "# Import `Dense` from `keras.layers`\n",
        "from keras.layers import Dense\n",
        "\n",
        "# Initialize the constructor\n",
        "model = Sequential()\n",
        "\n",
        "# Add an input layer \n",
        "model.add(Dense(20, activation='relu', input_shape=(20,)))\n",
        "\n",
        "# Add one hidden layer \n",
        "model.add(Dense(15, activation='relu'))\n",
        "\n",
        "# Add one hidden layer \n",
        "model.add(Dense(10, activation='relu'))\n",
        "\n",
        "# Add one hidden layer \n",
        "model.add(Dense(5, activation='relu'))\n",
        "\n",
        "# Add one hidden layer \n",
        "model.add(Dense(2, activation='relu'))\n",
        "\n",
        "# Add an output layer \n",
        "model.add(Dense(1, activation='sigmoid'))"
      ],
      "id": "90ac21db",
      "execution_count": null,
      "outputs": []
    },
    {
      "cell_type": "code",
      "metadata": {
        "id": "7cdc98dd"
      },
      "source": [
        "model.compile(loss='binary_crossentropy',\n",
        "              optimizer='adam',\n",
        "              metrics=[tf.keras.metrics.AUC()])\n",
        "                   \n",
        "model.fit(X_vif_treated, target,epochs=5, batch_size=1, verbose=1)"
      ],
      "id": "7cdc98dd",
      "execution_count": null,
      "outputs": []
    },
    {
      "cell_type": "code",
      "metadata": {
        "id": "d30125fc"
      },
      "source": [
        "y_pred = model.predict(x_test_vif_treated)\n",
        "y_pred = pd.DataFrame(y_pred)\n",
        "y_pred.rename(columns = {0:'output_prob'}, inplace = True) \n",
        "\n",
        "y_pred['output_prob'].loc[(y_pred['output_prob']) >0.5] = 1\n",
        "y_pred['output_prob'].loc[(y_pred['output_prob']) <=0.5] = 0\n",
        "\n",
        "y_pred.round(0)\n",
        "y_pred['output_prob'].astype(int)\n",
        "\n",
        "y_pred.value_counts()"
      ],
      "id": "d30125fc",
      "execution_count": null,
      "outputs": []
    },
    {
      "cell_type": "code",
      "metadata": {
        "id": "ae94ec9f"
      },
      "source": [
        "print(\"ACCURACY OF THE MODEL: \", metrics.accuracy_score(y_test, y_pred))"
      ],
      "id": "ae94ec9f",
      "execution_count": null,
      "outputs": []
    },
    {
      "cell_type": "code",
      "metadata": {
        "id": "8e7b2228"
      },
      "source": [
        "print(classification_report(y_test,y_pred))\n",
        "print(confusion_matrix(y_test,y_pred))"
      ],
      "id": "8e7b2228",
      "execution_count": null,
      "outputs": []
    },
    {
      "cell_type": "markdown",
      "metadata": {
        "id": "5171a5e1"
      },
      "source": [
        "### Neural Network Training with target metrics as True Positives with increased depth"
      ],
      "id": "5171a5e1"
    },
    {
      "cell_type": "code",
      "metadata": {
        "id": "5f1f40ab"
      },
      "source": [
        "# Import `Sequential` from `keras.models`\n",
        "from keras.models import Sequential\n",
        "\n",
        "# Import `Dense` from `keras.layers`\n",
        "from keras.layers import Dense\n",
        "\n",
        "# Initialize the constructor\n",
        "model = Sequential()\n",
        "\n",
        "# Add an input layer \n",
        "model.add(Dense(20, activation='relu', input_shape=(20,)))\n",
        "\n",
        "# Add one hidden layer \n",
        "model.add(Dense(15, activation='relu'))\n",
        "\n",
        "# Add one hidden layer \n",
        "model.add(Dense(10, activation='relu'))\n",
        "\n",
        "# Add one hidden layer \n",
        "model.add(Dense(5, activation='relu'))\n",
        "\n",
        "# Add one hidden layer \n",
        "model.add(Dense(2, activation='relu'))\n",
        "\n",
        "# Add an output layer \n",
        "model.add(Dense(1, activation='sigmoid'))"
      ],
      "id": "5f1f40ab",
      "execution_count": null,
      "outputs": []
    },
    {
      "cell_type": "code",
      "metadata": {
        "id": "1dc2a5cd"
      },
      "source": [
        "model.compile(loss='binary_crossentropy',\n",
        "              optimizer='adam',\n",
        "              metrics=[tf.keras.metrics.TruePositives()])\n",
        "                   \n",
        "model.fit(X_vif_treated, target,epochs=5, batch_size=1, verbose=1)"
      ],
      "id": "1dc2a5cd",
      "execution_count": null,
      "outputs": []
    },
    {
      "cell_type": "code",
      "metadata": {
        "id": "ba68b847"
      },
      "source": [
        "y_pred = model.predict(x_test_vif_treated)\n",
        "y_pred = pd.DataFrame(y_pred)\n",
        "y_pred.rename(columns = {0:'output_prob'}, inplace = True) \n",
        "\n",
        "y_pred['output_prob'].loc[(y_pred['output_prob']) >0.5] = 1\n",
        "y_pred['output_prob'].loc[(y_pred['output_prob']) <=0.5] = 0\n",
        "\n",
        "y_pred.round(0)\n",
        "y_pred['output_prob'].astype(int)\n",
        "\n",
        "y_pred.value_counts()"
      ],
      "id": "ba68b847",
      "execution_count": null,
      "outputs": []
    },
    {
      "cell_type": "code",
      "metadata": {
        "id": "33aa0266"
      },
      "source": [
        "print(\"ACCURACY OF THE MODEL: \", metrics.accuracy_score(y_test, y_pred))"
      ],
      "id": "33aa0266",
      "execution_count": null,
      "outputs": []
    },
    {
      "cell_type": "code",
      "metadata": {
        "id": "ec6d2d39"
      },
      "source": [
        "print(classification_report(y_test,y_pred))\n",
        "print(confusion_matrix(y_test,y_pred))"
      ],
      "id": "ec6d2d39",
      "execution_count": null,
      "outputs": []
    },
    {
      "cell_type": "markdown",
      "metadata": {
        "id": "c717b310"
      },
      "source": [
        "### Imbalanced dataset\n",
        "#### R-Sq: 0.55 for profitable intervals by price open param \n",
        "#### R-Sq: 0.5 for profitable intervals by price close param \n",
        "#### R-Sq: 0.29 for profitable intervals by price high param \n",
        "#### R-Sq: 0.27 for profitable intervals by price low param \n",
        "#### R-Sq: 0.57 for profitable intervals by price open 1.025 param\n",
        "#### R-Sq: 0.33 for profitable intervals by price open 1.01 param\n",
        "\n",
        "### Balanced dataset\n",
        "#### R-Sq:  for profitable intervals by price open 1.025 param\n",
        "#### R-Sq:  0.69 for profitable intervals by price open 1.01 param"
      ],
      "id": "c717b310"
    },
    {
      "cell_type": "code",
      "metadata": {
        "id": "c7c1d89e"
      },
      "source": [
        ""
      ],
      "id": "c7c1d89e",
      "execution_count": null,
      "outputs": []
    }
  ]
}